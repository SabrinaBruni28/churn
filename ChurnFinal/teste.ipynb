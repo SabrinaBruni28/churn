{
 "cells": [
  {
   "cell_type": "code",
   "execution_count": 2,
   "metadata": {},
   "outputs": [
    {
     "name": "stdout",
     "output_type": "stream",
     "text": [
      "   id  churnBinario  churnSimples  churnLinear  churnExponencial_2  \\\n",
      "0   0             1           0.8     0.933333            0.983871   \n",
      "1   1             1           0.8     0.933333            0.983871   \n",
      "2   2             1           0.8     0.933333            0.983871   \n",
      "3   3             1           0.8     0.933333            0.983871   \n",
      "4   4             1           0.8     0.933333            0.983871   \n",
      "\n",
      "   churnExponencial_e  churnRecente  \n",
      "0            0.995712      0.666667  \n",
      "1            0.995712      0.500000  \n",
      "2            0.995712      0.000000  \n",
      "3            0.995712      0.500000  \n",
      "4            0.995712      0.666667  \n"
     ]
    }
   ],
   "source": [
    "import Churn as ax\n",
    "import pandas as pd\n",
    "import numpy as np\n",
    "\n",
    "e = np.e\n",
    "\n",
    "matriz = [\n",
    "            [0, 1, 0, 0 ,0],\n",
    "            [0, 0, 1, 0 ,0],\n",
    "            [0, 0, 0, 1 ,0],\n",
    "            [0, 0, 1, 0 ,0],\n",
    "            [0, 1, 0, 0 ,0]\n",
    "        ]\n",
    "\n",
    "ax.calculaChurnMatrizTeste(matriz)\n",
    "teste = cdf = pd.read_csv( \"churnComparacao.csv\")\n",
    "print(teste)"
   ]
  }
 ],
 "metadata": {
  "kernelspec": {
   "display_name": "Python 3 (ipykernel)",
   "language": "python",
   "name": "python3"
  },
  "language_info": {
   "codemirror_mode": {
    "name": "ipython",
    "version": 3
   },
   "file_extension": ".py",
   "mimetype": "text/x-python",
   "name": "python",
   "nbconvert_exporter": "python",
   "pygments_lexer": "ipython3",
   "version": "3.8.10"
  }
 },
 "nbformat": 4,
 "nbformat_minor": 5
}
