{
 "cells": [
  {
   "cell_type": "markdown",
   "id": "744e709e-750e-402c-b10f-28afd5abebab",
   "metadata": {},
   "source": [
    "# Validação do modelo de Churn\n",
    "---"
   ]
  },
  {
   "cell_type": "code",
   "execution_count": 1,
   "id": "6745b32c-c7f5-4323-a4b8-0ff7219868c2",
   "metadata": {},
   "outputs": [],
   "source": [
    "import pandas as pd\n",
    "import matplotlib.pyplot as plt\n",
    "from sklearn.metrics import r2_score, confusion_matrix, ConfusionMatrixDisplay"
   ]
  },
  {
   "cell_type": "markdown",
   "id": "2db11468-39fd-44f0-b6b5-c04ee9cb944f",
   "metadata": {},
   "source": [
    "## Leitura dos dados"
   ]
  },
  {
   "cell_type": "code",
   "execution_count": 2,
   "id": "40c71f27-3384-49b4-b5ee-4e79684fd59b",
   "metadata": {},
   "outputs": [
    {
     "data": {
      "text/html": [
       "<div>\n",
       "<style scoped>\n",
       "    .dataframe tbody tr th:only-of-type {\n",
       "        vertical-align: middle;\n",
       "    }\n",
       "\n",
       "    .dataframe tbody tr th {\n",
       "        vertical-align: top;\n",
       "    }\n",
       "\n",
       "    .dataframe thead th {\n",
       "        text-align: right;\n",
       "    }\n",
       "</style>\n",
       "<table border=\"1\" class=\"dataframe\">\n",
       "  <thead>\n",
       "    <tr style=\"text-align: right;\">\n",
       "      <th></th>\n",
       "      <th>id</th>\n",
       "      <th>churnLinear</th>\n",
       "      <th>churnExponencial_2</th>\n",
       "      <th>churnExponencial_e</th>\n",
       "      <th>churnRecente</th>\n",
       "      <th>resultado</th>\n",
       "    </tr>\n",
       "  </thead>\n",
       "  <tbody>\n",
       "    <tr>\n",
       "      <th>0</th>\n",
       "      <td>2378</td>\n",
       "      <td>0.363300</td>\n",
       "      <td>0.447457</td>\n",
       "      <td>0.351348</td>\n",
       "      <td>0.346369</td>\n",
       "      <td>não churn</td>\n",
       "    </tr>\n",
       "    <tr>\n",
       "      <th>1</th>\n",
       "      <td>576</td>\n",
       "      <td>0.447830</td>\n",
       "      <td>0.419347</td>\n",
       "      <td>0.331906</td>\n",
       "      <td>0.452514</td>\n",
       "      <td>não churn</td>\n",
       "    </tr>\n",
       "    <tr>\n",
       "      <th>2</th>\n",
       "      <td>704</td>\n",
       "      <td>0.319136</td>\n",
       "      <td>0.387097</td>\n",
       "      <td>0.320250</td>\n",
       "      <td>0.307263</td>\n",
       "      <td>não churn</td>\n",
       "    </tr>\n",
       "    <tr>\n",
       "      <th>3</th>\n",
       "      <td>3818</td>\n",
       "      <td>0.386128</td>\n",
       "      <td>0.419354</td>\n",
       "      <td>0.331906</td>\n",
       "      <td>0.365922</td>\n",
       "      <td>não churn</td>\n",
       "    </tr>\n",
       "    <tr>\n",
       "      <th>4</th>\n",
       "      <td>1972</td>\n",
       "      <td>0.427771</td>\n",
       "      <td>0.387099</td>\n",
       "      <td>0.320250</td>\n",
       "      <td>0.430168</td>\n",
       "      <td>não churn</td>\n",
       "    </tr>\n",
       "    <tr>\n",
       "      <th>...</th>\n",
       "      <td>...</td>\n",
       "      <td>...</td>\n",
       "      <td>...</td>\n",
       "      <td>...</td>\n",
       "      <td>...</td>\n",
       "      <td>...</td>\n",
       "    </tr>\n",
       "    <tr>\n",
       "      <th>4495</th>\n",
       "      <td>124</td>\n",
       "      <td>0.176044</td>\n",
       "      <td>0.004032</td>\n",
       "      <td>0.000580</td>\n",
       "      <td>0.245614</td>\n",
       "      <td>não churn</td>\n",
       "    </tr>\n",
       "    <tr>\n",
       "      <th>4496</th>\n",
       "      <td>3958</td>\n",
       "      <td>0.384150</td>\n",
       "      <td>0.193548</td>\n",
       "      <td>0.117813</td>\n",
       "      <td>0.403509</td>\n",
       "      <td>não churn</td>\n",
       "    </tr>\n",
       "    <tr>\n",
       "      <th>4497</th>\n",
       "      <td>777</td>\n",
       "      <td>0.188748</td>\n",
       "      <td>0.001099</td>\n",
       "      <td>0.000082</td>\n",
       "      <td>0.263158</td>\n",
       "      <td>não churn</td>\n",
       "    </tr>\n",
       "    <tr>\n",
       "      <th>4498</th>\n",
       "      <td>3276</td>\n",
       "      <td>0.226190</td>\n",
       "      <td>0.129032</td>\n",
       "      <td>0.086129</td>\n",
       "      <td>0.267857</td>\n",
       "      <td>não churn</td>\n",
       "    </tr>\n",
       "    <tr>\n",
       "      <th>4499</th>\n",
       "      <td>1573</td>\n",
       "      <td>0.436717</td>\n",
       "      <td>0.388096</td>\n",
       "      <td>0.320329</td>\n",
       "      <td>0.464286</td>\n",
       "      <td>não churn</td>\n",
       "    </tr>\n",
       "  </tbody>\n",
       "</table>\n",
       "<p>4500 rows × 6 columns</p>\n",
       "</div>"
      ],
      "text/plain": [
       "        id  churnLinear  churnExponencial_2  churnExponencial_e  churnRecente  \\\n",
       "0     2378     0.363300            0.447457            0.351348      0.346369   \n",
       "1      576     0.447830            0.419347            0.331906      0.452514   \n",
       "2      704     0.319136            0.387097            0.320250      0.307263   \n",
       "3     3818     0.386128            0.419354            0.331906      0.365922   \n",
       "4     1972     0.427771            0.387099            0.320250      0.430168   \n",
       "...    ...          ...                 ...                 ...           ...   \n",
       "4495   124     0.176044            0.004032            0.000580      0.245614   \n",
       "4496  3958     0.384150            0.193548            0.117813      0.403509   \n",
       "4497   777     0.188748            0.001099            0.000082      0.263158   \n",
       "4498  3276     0.226190            0.129032            0.086129      0.267857   \n",
       "4499  1573     0.436717            0.388096            0.320329      0.464286   \n",
       "\n",
       "      resultado  \n",
       "0     não churn  \n",
       "1     não churn  \n",
       "2     não churn  \n",
       "3     não churn  \n",
       "4     não churn  \n",
       "...         ...  \n",
       "4495  não churn  \n",
       "4496  não churn  \n",
       "4497  não churn  \n",
       "4498  não churn  \n",
       "4499  não churn  \n",
       "\n",
       "[4500 rows x 6 columns]"
      ]
     },
     "execution_count": 2,
     "metadata": {},
     "output_type": "execute_result"
    }
   ],
   "source": [
    "df = pd.read_csv('resultadoChurn.csv')\n",
    "df"
   ]
  },
  {
   "cell_type": "markdown",
   "id": "ffbfa57a-3d55-4a03-9e1c-4e5ba39ba837",
   "metadata": {},
   "source": [
    "## Variável de decisão"
   ]
  },
  {
   "cell_type": "code",
   "execution_count": 3,
   "id": "89d6e19e-94ff-4369-b2aa-4a90dd54a7a5",
   "metadata": {},
   "outputs": [],
   "source": [
    "limite = 0.5"
   ]
  },
  {
   "cell_type": "markdown",
   "id": "b084b164-0a63-450d-9ca9-fd0aae51e51e",
   "metadata": {},
   "source": [
    "## Ajustando os dados"
   ]
  },
  {
   "cell_type": "code",
   "execution_count": 4,
   "id": "81435032-dbbe-424c-86bf-96511864ce62",
   "metadata": {},
   "outputs": [
    {
     "data": {
      "text/html": [
       "<div>\n",
       "<style scoped>\n",
       "    .dataframe tbody tr th:only-of-type {\n",
       "        vertical-align: middle;\n",
       "    }\n",
       "\n",
       "    .dataframe tbody tr th {\n",
       "        vertical-align: top;\n",
       "    }\n",
       "\n",
       "    .dataframe thead th {\n",
       "        text-align: right;\n",
       "    }\n",
       "</style>\n",
       "<table border=\"1\" class=\"dataframe\">\n",
       "  <thead>\n",
       "    <tr style=\"text-align: right;\">\n",
       "      <th></th>\n",
       "      <th>id</th>\n",
       "      <th>churnLinear</th>\n",
       "      <th>churnExponencial_2</th>\n",
       "      <th>churnExponencial_e</th>\n",
       "      <th>churnRecente</th>\n",
       "      <th>resultado</th>\n",
       "    </tr>\n",
       "  </thead>\n",
       "  <tbody>\n",
       "    <tr>\n",
       "      <th>0</th>\n",
       "      <td>2378</td>\n",
       "      <td>0.363300</td>\n",
       "      <td>0.447457</td>\n",
       "      <td>0.351348</td>\n",
       "      <td>0.346369</td>\n",
       "      <td>0.0</td>\n",
       "    </tr>\n",
       "    <tr>\n",
       "      <th>1</th>\n",
       "      <td>576</td>\n",
       "      <td>0.447830</td>\n",
       "      <td>0.419347</td>\n",
       "      <td>0.331906</td>\n",
       "      <td>0.452514</td>\n",
       "      <td>0.0</td>\n",
       "    </tr>\n",
       "    <tr>\n",
       "      <th>2</th>\n",
       "      <td>704</td>\n",
       "      <td>0.319136</td>\n",
       "      <td>0.387097</td>\n",
       "      <td>0.320250</td>\n",
       "      <td>0.307263</td>\n",
       "      <td>0.0</td>\n",
       "    </tr>\n",
       "    <tr>\n",
       "      <th>3</th>\n",
       "      <td>3818</td>\n",
       "      <td>0.386128</td>\n",
       "      <td>0.419354</td>\n",
       "      <td>0.331906</td>\n",
       "      <td>0.365922</td>\n",
       "      <td>0.0</td>\n",
       "    </tr>\n",
       "    <tr>\n",
       "      <th>4</th>\n",
       "      <td>1972</td>\n",
       "      <td>0.427771</td>\n",
       "      <td>0.387099</td>\n",
       "      <td>0.320250</td>\n",
       "      <td>0.430168</td>\n",
       "      <td>0.0</td>\n",
       "    </tr>\n",
       "    <tr>\n",
       "      <th>...</th>\n",
       "      <td>...</td>\n",
       "      <td>...</td>\n",
       "      <td>...</td>\n",
       "      <td>...</td>\n",
       "      <td>...</td>\n",
       "      <td>...</td>\n",
       "    </tr>\n",
       "    <tr>\n",
       "      <th>4495</th>\n",
       "      <td>124</td>\n",
       "      <td>0.176044</td>\n",
       "      <td>0.004032</td>\n",
       "      <td>0.000580</td>\n",
       "      <td>0.245614</td>\n",
       "      <td>0.0</td>\n",
       "    </tr>\n",
       "    <tr>\n",
       "      <th>4496</th>\n",
       "      <td>3958</td>\n",
       "      <td>0.384150</td>\n",
       "      <td>0.193548</td>\n",
       "      <td>0.117813</td>\n",
       "      <td>0.403509</td>\n",
       "      <td>0.0</td>\n",
       "    </tr>\n",
       "    <tr>\n",
       "      <th>4497</th>\n",
       "      <td>777</td>\n",
       "      <td>0.188748</td>\n",
       "      <td>0.001099</td>\n",
       "      <td>0.000082</td>\n",
       "      <td>0.263158</td>\n",
       "      <td>0.0</td>\n",
       "    </tr>\n",
       "    <tr>\n",
       "      <th>4498</th>\n",
       "      <td>3276</td>\n",
       "      <td>0.226190</td>\n",
       "      <td>0.129032</td>\n",
       "      <td>0.086129</td>\n",
       "      <td>0.267857</td>\n",
       "      <td>0.0</td>\n",
       "    </tr>\n",
       "    <tr>\n",
       "      <th>4499</th>\n",
       "      <td>1573</td>\n",
       "      <td>0.436717</td>\n",
       "      <td>0.388096</td>\n",
       "      <td>0.320329</td>\n",
       "      <td>0.464286</td>\n",
       "      <td>0.0</td>\n",
       "    </tr>\n",
       "  </tbody>\n",
       "</table>\n",
       "<p>4500 rows × 6 columns</p>\n",
       "</div>"
      ],
      "text/plain": [
       "        id  churnLinear  churnExponencial_2  churnExponencial_e  churnRecente  \\\n",
       "0     2378     0.363300            0.447457            0.351348      0.346369   \n",
       "1      576     0.447830            0.419347            0.331906      0.452514   \n",
       "2      704     0.319136            0.387097            0.320250      0.307263   \n",
       "3     3818     0.386128            0.419354            0.331906      0.365922   \n",
       "4     1972     0.427771            0.387099            0.320250      0.430168   \n",
       "...    ...          ...                 ...                 ...           ...   \n",
       "4495   124     0.176044            0.004032            0.000580      0.245614   \n",
       "4496  3958     0.384150            0.193548            0.117813      0.403509   \n",
       "4497   777     0.188748            0.001099            0.000082      0.263158   \n",
       "4498  3276     0.226190            0.129032            0.086129      0.267857   \n",
       "4499  1573     0.436717            0.388096            0.320329      0.464286   \n",
       "\n",
       "      resultado  \n",
       "0           0.0  \n",
       "1           0.0  \n",
       "2           0.0  \n",
       "3           0.0  \n",
       "4           0.0  \n",
       "...         ...  \n",
       "4495        0.0  \n",
       "4496        0.0  \n",
       "4497        0.0  \n",
       "4498        0.0  \n",
       "4499        0.0  \n",
       "\n",
       "[4500 rows x 6 columns]"
      ]
     },
     "execution_count": 4,
     "metadata": {},
     "output_type": "execute_result"
    }
   ],
   "source": [
    "df[\"resultado\"] = df['resultado'].apply(lambda x: 1.0 if x == \"churn\" else 0.0)\n",
    "df"
   ]
  },
  {
   "cell_type": "code",
   "execution_count": 5,
   "id": "56a755b7-f7ae-49fc-a821-84d80f07b79a",
   "metadata": {},
   "outputs": [
    {
     "data": {
      "text/html": [
       "<div>\n",
       "<style scoped>\n",
       "    .dataframe tbody tr th:only-of-type {\n",
       "        vertical-align: middle;\n",
       "    }\n",
       "\n",
       "    .dataframe tbody tr th {\n",
       "        vertical-align: top;\n",
       "    }\n",
       "\n",
       "    .dataframe thead th {\n",
       "        text-align: right;\n",
       "    }\n",
       "</style>\n",
       "<table border=\"1\" class=\"dataframe\">\n",
       "  <thead>\n",
       "    <tr style=\"text-align: right;\">\n",
       "      <th></th>\n",
       "      <th>id</th>\n",
       "      <th>churnLinear</th>\n",
       "      <th>churnExponencial_2</th>\n",
       "      <th>churnExponencial_e</th>\n",
       "      <th>churnRecente</th>\n",
       "      <th>resultado</th>\n",
       "    </tr>\n",
       "  </thead>\n",
       "  <tbody>\n",
       "    <tr>\n",
       "      <th>0</th>\n",
       "      <td>2378</td>\n",
       "      <td>0.0</td>\n",
       "      <td>0.447457</td>\n",
       "      <td>0.351348</td>\n",
       "      <td>0.346369</td>\n",
       "      <td>0.0</td>\n",
       "    </tr>\n",
       "    <tr>\n",
       "      <th>1</th>\n",
       "      <td>576</td>\n",
       "      <td>0.0</td>\n",
       "      <td>0.419347</td>\n",
       "      <td>0.331906</td>\n",
       "      <td>0.452514</td>\n",
       "      <td>0.0</td>\n",
       "    </tr>\n",
       "    <tr>\n",
       "      <th>2</th>\n",
       "      <td>704</td>\n",
       "      <td>0.0</td>\n",
       "      <td>0.387097</td>\n",
       "      <td>0.320250</td>\n",
       "      <td>0.307263</td>\n",
       "      <td>0.0</td>\n",
       "    </tr>\n",
       "    <tr>\n",
       "      <th>3</th>\n",
       "      <td>3818</td>\n",
       "      <td>0.0</td>\n",
       "      <td>0.419354</td>\n",
       "      <td>0.331906</td>\n",
       "      <td>0.365922</td>\n",
       "      <td>0.0</td>\n",
       "    </tr>\n",
       "    <tr>\n",
       "      <th>4</th>\n",
       "      <td>1972</td>\n",
       "      <td>0.0</td>\n",
       "      <td>0.387099</td>\n",
       "      <td>0.320250</td>\n",
       "      <td>0.430168</td>\n",
       "      <td>0.0</td>\n",
       "    </tr>\n",
       "    <tr>\n",
       "      <th>...</th>\n",
       "      <td>...</td>\n",
       "      <td>...</td>\n",
       "      <td>...</td>\n",
       "      <td>...</td>\n",
       "      <td>...</td>\n",
       "      <td>...</td>\n",
       "    </tr>\n",
       "    <tr>\n",
       "      <th>4495</th>\n",
       "      <td>124</td>\n",
       "      <td>0.0</td>\n",
       "      <td>0.004032</td>\n",
       "      <td>0.000580</td>\n",
       "      <td>0.245614</td>\n",
       "      <td>0.0</td>\n",
       "    </tr>\n",
       "    <tr>\n",
       "      <th>4496</th>\n",
       "      <td>3958</td>\n",
       "      <td>0.0</td>\n",
       "      <td>0.193548</td>\n",
       "      <td>0.117813</td>\n",
       "      <td>0.403509</td>\n",
       "      <td>0.0</td>\n",
       "    </tr>\n",
       "    <tr>\n",
       "      <th>4497</th>\n",
       "      <td>777</td>\n",
       "      <td>0.0</td>\n",
       "      <td>0.001099</td>\n",
       "      <td>0.000082</td>\n",
       "      <td>0.263158</td>\n",
       "      <td>0.0</td>\n",
       "    </tr>\n",
       "    <tr>\n",
       "      <th>4498</th>\n",
       "      <td>3276</td>\n",
       "      <td>0.0</td>\n",
       "      <td>0.129032</td>\n",
       "      <td>0.086129</td>\n",
       "      <td>0.267857</td>\n",
       "      <td>0.0</td>\n",
       "    </tr>\n",
       "    <tr>\n",
       "      <th>4499</th>\n",
       "      <td>1573</td>\n",
       "      <td>0.0</td>\n",
       "      <td>0.388096</td>\n",
       "      <td>0.320329</td>\n",
       "      <td>0.464286</td>\n",
       "      <td>0.0</td>\n",
       "    </tr>\n",
       "  </tbody>\n",
       "</table>\n",
       "<p>4500 rows × 6 columns</p>\n",
       "</div>"
      ],
      "text/plain": [
       "        id  churnLinear  churnExponencial_2  churnExponencial_e  churnRecente  \\\n",
       "0     2378          0.0            0.447457            0.351348      0.346369   \n",
       "1      576          0.0            0.419347            0.331906      0.452514   \n",
       "2      704          0.0            0.387097            0.320250      0.307263   \n",
       "3     3818          0.0            0.419354            0.331906      0.365922   \n",
       "4     1972          0.0            0.387099            0.320250      0.430168   \n",
       "...    ...          ...                 ...                 ...           ...   \n",
       "4495   124          0.0            0.004032            0.000580      0.245614   \n",
       "4496  3958          0.0            0.193548            0.117813      0.403509   \n",
       "4497   777          0.0            0.001099            0.000082      0.263158   \n",
       "4498  3276          0.0            0.129032            0.086129      0.267857   \n",
       "4499  1573          0.0            0.388096            0.320329      0.464286   \n",
       "\n",
       "      resultado  \n",
       "0           0.0  \n",
       "1           0.0  \n",
       "2           0.0  \n",
       "3           0.0  \n",
       "4           0.0  \n",
       "...         ...  \n",
       "4495        0.0  \n",
       "4496        0.0  \n",
       "4497        0.0  \n",
       "4498        0.0  \n",
       "4499        0.0  \n",
       "\n",
       "[4500 rows x 6 columns]"
      ]
     },
     "execution_count": 5,
     "metadata": {},
     "output_type": "execute_result"
    }
   ],
   "source": [
    "df[\"churnLinear\"] = df[\"churnLinear\"].apply(lambda x: 1.0 if x >= limite else 0.0)\n",
    "df"
   ]
  },
  {
   "cell_type": "code",
   "execution_count": 6,
   "id": "5d873ac8-67fb-40f4-a7ce-93c24fe8fae7",
   "metadata": {},
   "outputs": [
    {
     "data": {
      "text/html": [
       "<div>\n",
       "<style scoped>\n",
       "    .dataframe tbody tr th:only-of-type {\n",
       "        vertical-align: middle;\n",
       "    }\n",
       "\n",
       "    .dataframe tbody tr th {\n",
       "        vertical-align: top;\n",
       "    }\n",
       "\n",
       "    .dataframe thead th {\n",
       "        text-align: right;\n",
       "    }\n",
       "</style>\n",
       "<table border=\"1\" class=\"dataframe\">\n",
       "  <thead>\n",
       "    <tr style=\"text-align: right;\">\n",
       "      <th></th>\n",
       "      <th>id</th>\n",
       "      <th>churnLinear</th>\n",
       "      <th>churnExponencial_2</th>\n",
       "      <th>churnExponencial_e</th>\n",
       "      <th>churnRecente</th>\n",
       "      <th>resultado</th>\n",
       "    </tr>\n",
       "  </thead>\n",
       "  <tbody>\n",
       "    <tr>\n",
       "      <th>0</th>\n",
       "      <td>2378</td>\n",
       "      <td>0.0</td>\n",
       "      <td>0.0</td>\n",
       "      <td>0.351348</td>\n",
       "      <td>0.346369</td>\n",
       "      <td>0.0</td>\n",
       "    </tr>\n",
       "    <tr>\n",
       "      <th>1</th>\n",
       "      <td>576</td>\n",
       "      <td>0.0</td>\n",
       "      <td>0.0</td>\n",
       "      <td>0.331906</td>\n",
       "      <td>0.452514</td>\n",
       "      <td>0.0</td>\n",
       "    </tr>\n",
       "    <tr>\n",
       "      <th>2</th>\n",
       "      <td>704</td>\n",
       "      <td>0.0</td>\n",
       "      <td>0.0</td>\n",
       "      <td>0.320250</td>\n",
       "      <td>0.307263</td>\n",
       "      <td>0.0</td>\n",
       "    </tr>\n",
       "    <tr>\n",
       "      <th>3</th>\n",
       "      <td>3818</td>\n",
       "      <td>0.0</td>\n",
       "      <td>0.0</td>\n",
       "      <td>0.331906</td>\n",
       "      <td>0.365922</td>\n",
       "      <td>0.0</td>\n",
       "    </tr>\n",
       "    <tr>\n",
       "      <th>4</th>\n",
       "      <td>1972</td>\n",
       "      <td>0.0</td>\n",
       "      <td>0.0</td>\n",
       "      <td>0.320250</td>\n",
       "      <td>0.430168</td>\n",
       "      <td>0.0</td>\n",
       "    </tr>\n",
       "    <tr>\n",
       "      <th>...</th>\n",
       "      <td>...</td>\n",
       "      <td>...</td>\n",
       "      <td>...</td>\n",
       "      <td>...</td>\n",
       "      <td>...</td>\n",
       "      <td>...</td>\n",
       "    </tr>\n",
       "    <tr>\n",
       "      <th>4495</th>\n",
       "      <td>124</td>\n",
       "      <td>0.0</td>\n",
       "      <td>0.0</td>\n",
       "      <td>0.000580</td>\n",
       "      <td>0.245614</td>\n",
       "      <td>0.0</td>\n",
       "    </tr>\n",
       "    <tr>\n",
       "      <th>4496</th>\n",
       "      <td>3958</td>\n",
       "      <td>0.0</td>\n",
       "      <td>0.0</td>\n",
       "      <td>0.117813</td>\n",
       "      <td>0.403509</td>\n",
       "      <td>0.0</td>\n",
       "    </tr>\n",
       "    <tr>\n",
       "      <th>4497</th>\n",
       "      <td>777</td>\n",
       "      <td>0.0</td>\n",
       "      <td>0.0</td>\n",
       "      <td>0.000082</td>\n",
       "      <td>0.263158</td>\n",
       "      <td>0.0</td>\n",
       "    </tr>\n",
       "    <tr>\n",
       "      <th>4498</th>\n",
       "      <td>3276</td>\n",
       "      <td>0.0</td>\n",
       "      <td>0.0</td>\n",
       "      <td>0.086129</td>\n",
       "      <td>0.267857</td>\n",
       "      <td>0.0</td>\n",
       "    </tr>\n",
       "    <tr>\n",
       "      <th>4499</th>\n",
       "      <td>1573</td>\n",
       "      <td>0.0</td>\n",
       "      <td>0.0</td>\n",
       "      <td>0.320329</td>\n",
       "      <td>0.464286</td>\n",
       "      <td>0.0</td>\n",
       "    </tr>\n",
       "  </tbody>\n",
       "</table>\n",
       "<p>4500 rows × 6 columns</p>\n",
       "</div>"
      ],
      "text/plain": [
       "        id  churnLinear  churnExponencial_2  churnExponencial_e  churnRecente  \\\n",
       "0     2378          0.0                 0.0            0.351348      0.346369   \n",
       "1      576          0.0                 0.0            0.331906      0.452514   \n",
       "2      704          0.0                 0.0            0.320250      0.307263   \n",
       "3     3818          0.0                 0.0            0.331906      0.365922   \n",
       "4     1972          0.0                 0.0            0.320250      0.430168   \n",
       "...    ...          ...                 ...                 ...           ...   \n",
       "4495   124          0.0                 0.0            0.000580      0.245614   \n",
       "4496  3958          0.0                 0.0            0.117813      0.403509   \n",
       "4497   777          0.0                 0.0            0.000082      0.263158   \n",
       "4498  3276          0.0                 0.0            0.086129      0.267857   \n",
       "4499  1573          0.0                 0.0            0.320329      0.464286   \n",
       "\n",
       "      resultado  \n",
       "0           0.0  \n",
       "1           0.0  \n",
       "2           0.0  \n",
       "3           0.0  \n",
       "4           0.0  \n",
       "...         ...  \n",
       "4495        0.0  \n",
       "4496        0.0  \n",
       "4497        0.0  \n",
       "4498        0.0  \n",
       "4499        0.0  \n",
       "\n",
       "[4500 rows x 6 columns]"
      ]
     },
     "execution_count": 6,
     "metadata": {},
     "output_type": "execute_result"
    }
   ],
   "source": [
    "df[\"churnExponencial_2\"] = df[\"churnExponencial_2\"].apply(lambda x: 1.0 if x >= limite else 0.0)\n",
    "df"
   ]
  },
  {
   "cell_type": "code",
   "execution_count": 7,
   "id": "39e0dbcf-5bd3-4974-bfde-ff742ac98343",
   "metadata": {},
   "outputs": [
    {
     "data": {
      "text/html": [
       "<div>\n",
       "<style scoped>\n",
       "    .dataframe tbody tr th:only-of-type {\n",
       "        vertical-align: middle;\n",
       "    }\n",
       "\n",
       "    .dataframe tbody tr th {\n",
       "        vertical-align: top;\n",
       "    }\n",
       "\n",
       "    .dataframe thead th {\n",
       "        text-align: right;\n",
       "    }\n",
       "</style>\n",
       "<table border=\"1\" class=\"dataframe\">\n",
       "  <thead>\n",
       "    <tr style=\"text-align: right;\">\n",
       "      <th></th>\n",
       "      <th>id</th>\n",
       "      <th>churnLinear</th>\n",
       "      <th>churnExponencial_2</th>\n",
       "      <th>churnExponencial_e</th>\n",
       "      <th>churnRecente</th>\n",
       "      <th>resultado</th>\n",
       "    </tr>\n",
       "  </thead>\n",
       "  <tbody>\n",
       "    <tr>\n",
       "      <th>0</th>\n",
       "      <td>2378</td>\n",
       "      <td>0.0</td>\n",
       "      <td>0.0</td>\n",
       "      <td>0.0</td>\n",
       "      <td>0.346369</td>\n",
       "      <td>0.0</td>\n",
       "    </tr>\n",
       "    <tr>\n",
       "      <th>1</th>\n",
       "      <td>576</td>\n",
       "      <td>0.0</td>\n",
       "      <td>0.0</td>\n",
       "      <td>0.0</td>\n",
       "      <td>0.452514</td>\n",
       "      <td>0.0</td>\n",
       "    </tr>\n",
       "    <tr>\n",
       "      <th>2</th>\n",
       "      <td>704</td>\n",
       "      <td>0.0</td>\n",
       "      <td>0.0</td>\n",
       "      <td>0.0</td>\n",
       "      <td>0.307263</td>\n",
       "      <td>0.0</td>\n",
       "    </tr>\n",
       "    <tr>\n",
       "      <th>3</th>\n",
       "      <td>3818</td>\n",
       "      <td>0.0</td>\n",
       "      <td>0.0</td>\n",
       "      <td>0.0</td>\n",
       "      <td>0.365922</td>\n",
       "      <td>0.0</td>\n",
       "    </tr>\n",
       "    <tr>\n",
       "      <th>4</th>\n",
       "      <td>1972</td>\n",
       "      <td>0.0</td>\n",
       "      <td>0.0</td>\n",
       "      <td>0.0</td>\n",
       "      <td>0.430168</td>\n",
       "      <td>0.0</td>\n",
       "    </tr>\n",
       "    <tr>\n",
       "      <th>...</th>\n",
       "      <td>...</td>\n",
       "      <td>...</td>\n",
       "      <td>...</td>\n",
       "      <td>...</td>\n",
       "      <td>...</td>\n",
       "      <td>...</td>\n",
       "    </tr>\n",
       "    <tr>\n",
       "      <th>4495</th>\n",
       "      <td>124</td>\n",
       "      <td>0.0</td>\n",
       "      <td>0.0</td>\n",
       "      <td>0.0</td>\n",
       "      <td>0.245614</td>\n",
       "      <td>0.0</td>\n",
       "    </tr>\n",
       "    <tr>\n",
       "      <th>4496</th>\n",
       "      <td>3958</td>\n",
       "      <td>0.0</td>\n",
       "      <td>0.0</td>\n",
       "      <td>0.0</td>\n",
       "      <td>0.403509</td>\n",
       "      <td>0.0</td>\n",
       "    </tr>\n",
       "    <tr>\n",
       "      <th>4497</th>\n",
       "      <td>777</td>\n",
       "      <td>0.0</td>\n",
       "      <td>0.0</td>\n",
       "      <td>0.0</td>\n",
       "      <td>0.263158</td>\n",
       "      <td>0.0</td>\n",
       "    </tr>\n",
       "    <tr>\n",
       "      <th>4498</th>\n",
       "      <td>3276</td>\n",
       "      <td>0.0</td>\n",
       "      <td>0.0</td>\n",
       "      <td>0.0</td>\n",
       "      <td>0.267857</td>\n",
       "      <td>0.0</td>\n",
       "    </tr>\n",
       "    <tr>\n",
       "      <th>4499</th>\n",
       "      <td>1573</td>\n",
       "      <td>0.0</td>\n",
       "      <td>0.0</td>\n",
       "      <td>0.0</td>\n",
       "      <td>0.464286</td>\n",
       "      <td>0.0</td>\n",
       "    </tr>\n",
       "  </tbody>\n",
       "</table>\n",
       "<p>4500 rows × 6 columns</p>\n",
       "</div>"
      ],
      "text/plain": [
       "        id  churnLinear  churnExponencial_2  churnExponencial_e  churnRecente  \\\n",
       "0     2378          0.0                 0.0                 0.0      0.346369   \n",
       "1      576          0.0                 0.0                 0.0      0.452514   \n",
       "2      704          0.0                 0.0                 0.0      0.307263   \n",
       "3     3818          0.0                 0.0                 0.0      0.365922   \n",
       "4     1972          0.0                 0.0                 0.0      0.430168   \n",
       "...    ...          ...                 ...                 ...           ...   \n",
       "4495   124          0.0                 0.0                 0.0      0.245614   \n",
       "4496  3958          0.0                 0.0                 0.0      0.403509   \n",
       "4497   777          0.0                 0.0                 0.0      0.263158   \n",
       "4498  3276          0.0                 0.0                 0.0      0.267857   \n",
       "4499  1573          0.0                 0.0                 0.0      0.464286   \n",
       "\n",
       "      resultado  \n",
       "0           0.0  \n",
       "1           0.0  \n",
       "2           0.0  \n",
       "3           0.0  \n",
       "4           0.0  \n",
       "...         ...  \n",
       "4495        0.0  \n",
       "4496        0.0  \n",
       "4497        0.0  \n",
       "4498        0.0  \n",
       "4499        0.0  \n",
       "\n",
       "[4500 rows x 6 columns]"
      ]
     },
     "execution_count": 7,
     "metadata": {},
     "output_type": "execute_result"
    }
   ],
   "source": [
    "df[\"churnExponencial_e\"] = df[\"churnExponencial_e\"].apply(lambda x: 1.0 if x >= limite else 0.0)\n",
    "df"
   ]
  },
  {
   "cell_type": "code",
   "execution_count": 8,
   "id": "41686993-36fb-4ba1-b832-bded5258ba54",
   "metadata": {},
   "outputs": [
    {
     "data": {
      "text/html": [
       "<div>\n",
       "<style scoped>\n",
       "    .dataframe tbody tr th:only-of-type {\n",
       "        vertical-align: middle;\n",
       "    }\n",
       "\n",
       "    .dataframe tbody tr th {\n",
       "        vertical-align: top;\n",
       "    }\n",
       "\n",
       "    .dataframe thead th {\n",
       "        text-align: right;\n",
       "    }\n",
       "</style>\n",
       "<table border=\"1\" class=\"dataframe\">\n",
       "  <thead>\n",
       "    <tr style=\"text-align: right;\">\n",
       "      <th></th>\n",
       "      <th>id</th>\n",
       "      <th>churnLinear</th>\n",
       "      <th>churnExponencial_2</th>\n",
       "      <th>churnExponencial_e</th>\n",
       "      <th>churnRecente</th>\n",
       "      <th>resultado</th>\n",
       "    </tr>\n",
       "  </thead>\n",
       "  <tbody>\n",
       "    <tr>\n",
       "      <th>0</th>\n",
       "      <td>2378</td>\n",
       "      <td>0.0</td>\n",
       "      <td>0.0</td>\n",
       "      <td>0.0</td>\n",
       "      <td>0.0</td>\n",
       "      <td>0.0</td>\n",
       "    </tr>\n",
       "    <tr>\n",
       "      <th>1</th>\n",
       "      <td>576</td>\n",
       "      <td>0.0</td>\n",
       "      <td>0.0</td>\n",
       "      <td>0.0</td>\n",
       "      <td>0.0</td>\n",
       "      <td>0.0</td>\n",
       "    </tr>\n",
       "    <tr>\n",
       "      <th>2</th>\n",
       "      <td>704</td>\n",
       "      <td>0.0</td>\n",
       "      <td>0.0</td>\n",
       "      <td>0.0</td>\n",
       "      <td>0.0</td>\n",
       "      <td>0.0</td>\n",
       "    </tr>\n",
       "    <tr>\n",
       "      <th>3</th>\n",
       "      <td>3818</td>\n",
       "      <td>0.0</td>\n",
       "      <td>0.0</td>\n",
       "      <td>0.0</td>\n",
       "      <td>0.0</td>\n",
       "      <td>0.0</td>\n",
       "    </tr>\n",
       "    <tr>\n",
       "      <th>4</th>\n",
       "      <td>1972</td>\n",
       "      <td>0.0</td>\n",
       "      <td>0.0</td>\n",
       "      <td>0.0</td>\n",
       "      <td>0.0</td>\n",
       "      <td>0.0</td>\n",
       "    </tr>\n",
       "    <tr>\n",
       "      <th>...</th>\n",
       "      <td>...</td>\n",
       "      <td>...</td>\n",
       "      <td>...</td>\n",
       "      <td>...</td>\n",
       "      <td>...</td>\n",
       "      <td>...</td>\n",
       "    </tr>\n",
       "    <tr>\n",
       "      <th>4495</th>\n",
       "      <td>124</td>\n",
       "      <td>0.0</td>\n",
       "      <td>0.0</td>\n",
       "      <td>0.0</td>\n",
       "      <td>0.0</td>\n",
       "      <td>0.0</td>\n",
       "    </tr>\n",
       "    <tr>\n",
       "      <th>4496</th>\n",
       "      <td>3958</td>\n",
       "      <td>0.0</td>\n",
       "      <td>0.0</td>\n",
       "      <td>0.0</td>\n",
       "      <td>0.0</td>\n",
       "      <td>0.0</td>\n",
       "    </tr>\n",
       "    <tr>\n",
       "      <th>4497</th>\n",
       "      <td>777</td>\n",
       "      <td>0.0</td>\n",
       "      <td>0.0</td>\n",
       "      <td>0.0</td>\n",
       "      <td>0.0</td>\n",
       "      <td>0.0</td>\n",
       "    </tr>\n",
       "    <tr>\n",
       "      <th>4498</th>\n",
       "      <td>3276</td>\n",
       "      <td>0.0</td>\n",
       "      <td>0.0</td>\n",
       "      <td>0.0</td>\n",
       "      <td>0.0</td>\n",
       "      <td>0.0</td>\n",
       "    </tr>\n",
       "    <tr>\n",
       "      <th>4499</th>\n",
       "      <td>1573</td>\n",
       "      <td>0.0</td>\n",
       "      <td>0.0</td>\n",
       "      <td>0.0</td>\n",
       "      <td>0.0</td>\n",
       "      <td>0.0</td>\n",
       "    </tr>\n",
       "  </tbody>\n",
       "</table>\n",
       "<p>4500 rows × 6 columns</p>\n",
       "</div>"
      ],
      "text/plain": [
       "        id  churnLinear  churnExponencial_2  churnExponencial_e  churnRecente  \\\n",
       "0     2378          0.0                 0.0                 0.0           0.0   \n",
       "1      576          0.0                 0.0                 0.0           0.0   \n",
       "2      704          0.0                 0.0                 0.0           0.0   \n",
       "3     3818          0.0                 0.0                 0.0           0.0   \n",
       "4     1972          0.0                 0.0                 0.0           0.0   \n",
       "...    ...          ...                 ...                 ...           ...   \n",
       "4495   124          0.0                 0.0                 0.0           0.0   \n",
       "4496  3958          0.0                 0.0                 0.0           0.0   \n",
       "4497   777          0.0                 0.0                 0.0           0.0   \n",
       "4498  3276          0.0                 0.0                 0.0           0.0   \n",
       "4499  1573          0.0                 0.0                 0.0           0.0   \n",
       "\n",
       "      resultado  \n",
       "0           0.0  \n",
       "1           0.0  \n",
       "2           0.0  \n",
       "3           0.0  \n",
       "4           0.0  \n",
       "...         ...  \n",
       "4495        0.0  \n",
       "4496        0.0  \n",
       "4497        0.0  \n",
       "4498        0.0  \n",
       "4499        0.0  \n",
       "\n",
       "[4500 rows x 6 columns]"
      ]
     },
     "execution_count": 8,
     "metadata": {},
     "output_type": "execute_result"
    }
   ],
   "source": [
    "df[\"churnRecente\"] = df[\"churnRecente\"].apply(lambda x: 1.0 if x >= limite else 0.0)\n",
    "df"
   ]
  },
  {
   "cell_type": "code",
   "execution_count": 9,
   "id": "3fb76225-dea6-4546-a631-7385815068ba",
   "metadata": {},
   "outputs": [
    {
     "data": {
      "text/html": [
       "<div>\n",
       "<style scoped>\n",
       "    .dataframe tbody tr th:only-of-type {\n",
       "        vertical-align: middle;\n",
       "    }\n",
       "\n",
       "    .dataframe tbody tr th {\n",
       "        vertical-align: top;\n",
       "    }\n",
       "\n",
       "    .dataframe thead th {\n",
       "        text-align: right;\n",
       "    }\n",
       "</style>\n",
       "<table border=\"1\" class=\"dataframe\">\n",
       "  <thead>\n",
       "    <tr style=\"text-align: right;\">\n",
       "      <th></th>\n",
       "      <th>id</th>\n",
       "      <th>churnLinear</th>\n",
       "      <th>churnExponencial_2</th>\n",
       "      <th>churnExponencial_e</th>\n",
       "      <th>churnRecente</th>\n",
       "      <th>resultado</th>\n",
       "    </tr>\n",
       "  </thead>\n",
       "  <tbody>\n",
       "    <tr>\n",
       "      <th>count</th>\n",
       "      <td>4500.000000</td>\n",
       "      <td>4500.000000</td>\n",
       "      <td>4500.000000</td>\n",
       "      <td>4500.000000</td>\n",
       "      <td>4500.000000</td>\n",
       "      <td>4500.000000</td>\n",
       "    </tr>\n",
       "    <tr>\n",
       "      <th>mean</th>\n",
       "      <td>2786.067556</td>\n",
       "      <td>0.087778</td>\n",
       "      <td>0.015333</td>\n",
       "      <td>0.015333</td>\n",
       "      <td>0.113556</td>\n",
       "      <td>0.019556</td>\n",
       "    </tr>\n",
       "    <tr>\n",
       "      <th>std</th>\n",
       "      <td>2313.811984</td>\n",
       "      <td>0.283003</td>\n",
       "      <td>0.122888</td>\n",
       "      <td>0.122888</td>\n",
       "      <td>0.317306</td>\n",
       "      <td>0.138482</td>\n",
       "    </tr>\n",
       "    <tr>\n",
       "      <th>min</th>\n",
       "      <td>1.000000</td>\n",
       "      <td>0.000000</td>\n",
       "      <td>0.000000</td>\n",
       "      <td>0.000000</td>\n",
       "      <td>0.000000</td>\n",
       "      <td>0.000000</td>\n",
       "    </tr>\n",
       "    <tr>\n",
       "      <th>25%</th>\n",
       "      <td>1182.750000</td>\n",
       "      <td>0.000000</td>\n",
       "      <td>0.000000</td>\n",
       "      <td>0.000000</td>\n",
       "      <td>0.000000</td>\n",
       "      <td>0.000000</td>\n",
       "    </tr>\n",
       "    <tr>\n",
       "      <th>50%</th>\n",
       "      <td>2368.000000</td>\n",
       "      <td>0.000000</td>\n",
       "      <td>0.000000</td>\n",
       "      <td>0.000000</td>\n",
       "      <td>0.000000</td>\n",
       "      <td>0.000000</td>\n",
       "    </tr>\n",
       "    <tr>\n",
       "      <th>75%</th>\n",
       "      <td>3552.250000</td>\n",
       "      <td>0.000000</td>\n",
       "      <td>0.000000</td>\n",
       "      <td>0.000000</td>\n",
       "      <td>0.000000</td>\n",
       "      <td>0.000000</td>\n",
       "    </tr>\n",
       "    <tr>\n",
       "      <th>max</th>\n",
       "      <td>11382.000000</td>\n",
       "      <td>1.000000</td>\n",
       "      <td>1.000000</td>\n",
       "      <td>1.000000</td>\n",
       "      <td>1.000000</td>\n",
       "      <td>1.000000</td>\n",
       "    </tr>\n",
       "  </tbody>\n",
       "</table>\n",
       "</div>"
      ],
      "text/plain": [
       "                 id  churnLinear  churnExponencial_2  churnExponencial_e  \\\n",
       "count   4500.000000  4500.000000         4500.000000         4500.000000   \n",
       "mean    2786.067556     0.087778            0.015333            0.015333   \n",
       "std     2313.811984     0.283003            0.122888            0.122888   \n",
       "min        1.000000     0.000000            0.000000            0.000000   \n",
       "25%     1182.750000     0.000000            0.000000            0.000000   \n",
       "50%     2368.000000     0.000000            0.000000            0.000000   \n",
       "75%     3552.250000     0.000000            0.000000            0.000000   \n",
       "max    11382.000000     1.000000            1.000000            1.000000   \n",
       "\n",
       "       churnRecente    resultado  \n",
       "count   4500.000000  4500.000000  \n",
       "mean       0.113556     0.019556  \n",
       "std        0.317306     0.138482  \n",
       "min        0.000000     0.000000  \n",
       "25%        0.000000     0.000000  \n",
       "50%        0.000000     0.000000  \n",
       "75%        0.000000     0.000000  \n",
       "max        1.000000     1.000000  "
      ]
     },
     "execution_count": 9,
     "metadata": {},
     "output_type": "execute_result"
    }
   ],
   "source": [
    "df.describe()"
   ]
  },
  {
   "cell_type": "code",
   "execution_count": 10,
   "id": "3005c950-0445-485b-9f0e-821b6bd98697",
   "metadata": {},
   "outputs": [],
   "source": [
    "# Função para contar zeros e uns em uma coluna\n",
    "def contar_zeros_uns(coluna):\n",
    "    contagem = coluna.value_counts()\n",
    "    zeros = contagem.get(0, 0)\n",
    "    uns = contagem.get(1, 0)\n",
    "    return pd.Series({'zeros': zeros, 'uns': uns})"
   ]
  },
  {
   "cell_type": "code",
   "execution_count": 11,
   "id": "98c9fb27-5c9d-484f-a1ef-b9847d457964",
   "metadata": {},
   "outputs": [
    {
     "data": {
      "text/html": [
       "<div>\n",
       "<style scoped>\n",
       "    .dataframe tbody tr th:only-of-type {\n",
       "        vertical-align: middle;\n",
       "    }\n",
       "\n",
       "    .dataframe tbody tr th {\n",
       "        vertical-align: top;\n",
       "    }\n",
       "\n",
       "    .dataframe thead th {\n",
       "        text-align: right;\n",
       "    }\n",
       "</style>\n",
       "<table border=\"1\" class=\"dataframe\">\n",
       "  <thead>\n",
       "    <tr style=\"text-align: right;\">\n",
       "      <th></th>\n",
       "      <th>id</th>\n",
       "      <th>churnLinear</th>\n",
       "      <th>churnExponencial_2</th>\n",
       "      <th>churnExponencial_e</th>\n",
       "      <th>churnRecente</th>\n",
       "      <th>resultado</th>\n",
       "    </tr>\n",
       "  </thead>\n",
       "  <tbody>\n",
       "    <tr>\n",
       "      <th>zeros</th>\n",
       "      <td>0</td>\n",
       "      <td>4105</td>\n",
       "      <td>4431</td>\n",
       "      <td>4431</td>\n",
       "      <td>3989</td>\n",
       "      <td>4412</td>\n",
       "    </tr>\n",
       "    <tr>\n",
       "      <th>uns</th>\n",
       "      <td>1</td>\n",
       "      <td>395</td>\n",
       "      <td>69</td>\n",
       "      <td>69</td>\n",
       "      <td>511</td>\n",
       "      <td>88</td>\n",
       "    </tr>\n",
       "  </tbody>\n",
       "</table>\n",
       "</div>"
      ],
      "text/plain": [
       "       id  churnLinear  churnExponencial_2  churnExponencial_e  churnRecente  \\\n",
       "zeros   0         4105                4431                4431          3989   \n",
       "uns     1          395                  69                  69           511   \n",
       "\n",
       "       resultado  \n",
       "zeros       4412  \n",
       "uns           88  "
      ]
     },
     "execution_count": 11,
     "metadata": {},
     "output_type": "execute_result"
    }
   ],
   "source": [
    "# Aplicar a função a cada coluna\n",
    "contagens = df.apply(contar_zeros_uns)\n",
    "contagens"
   ]
  },
  {
   "cell_type": "markdown",
   "id": "c7baa366-fd55-492d-964d-24b23513c7ad",
   "metadata": {},
   "source": [
    "## Validando o modelo"
   ]
  },
  {
   "cell_type": "markdown",
   "id": "9825653b-6a48-4826-afc8-b2a7c5b67ad0",
   "metadata": {},
   "source": [
    "### Modelo Linear:"
   ]
  },
  {
   "cell_type": "code",
   "execution_count": 12,
   "id": "7793794b-43ed-4d64-ab41-6db2a1d6c224",
   "metadata": {},
   "outputs": [
    {
     "data": {
      "text/plain": [
       "-2.8363863018214794"
      ]
     },
     "execution_count": 12,
     "metadata": {},
     "output_type": "execute_result"
    }
   ],
   "source": [
    "r2_score(df[\"resultado\"], df[\"churnLinear\"])"
   ]
  },
  {
   "cell_type": "code",
   "execution_count": 13,
   "id": "1d335b38-dd00-453a-9cde-66b8618525ba",
   "metadata": {},
   "outputs": [
    {
     "data": {
      "text/plain": [
       "array([[4093,  319],\n",
       "       [  12,   76]])"
      ]
     },
     "execution_count": 13,
     "metadata": {},
     "output_type": "execute_result"
    }
   ],
   "source": [
    "cL = confusion_matrix(df[\"resultado\"], df[\"churnLinear\"])\n",
    "cL"
   ]
  },
  {
   "cell_type": "code",
   "execution_count": 14,
   "id": "b6f3c9c1-c577-4123-b687-44bcf7dd3eae",
   "metadata": {},
   "outputs": [
    {
     "data": {
      "text/plain": [
       "<sklearn.metrics._plot.confusion_matrix.ConfusionMatrixDisplay at 0x7f4f4a6aed90>"
      ]
     },
     "execution_count": 14,
     "metadata": {},
     "output_type": "execute_result"
    }
   ],
   "source": [
    "dispL = ConfusionMatrixDisplay(confusion_matrix=cL)\n",
    "dispL"
   ]
  },
  {
   "cell_type": "code",
   "execution_count": 15,
   "id": "65b73a61-5155-4c6a-aad2-f3714a7bc6ab",
   "metadata": {},
   "outputs": [
    {
     "data": {
      "image/png": "[encoded data removed]",
      "text/plain": [
       "<Figure size 640x480 with 2 Axes>"
      ]
     },
     "metadata": {},
     "output_type": "display_data"
    }
   ],
   "source": [
    "dispL.plot()\n",
    "plt.show()"
   ]
  },
  {
   "cell_type": "markdown",
   "id": "a9a63bc3-83b9-4ddc-80f6-c08f5a4bab59",
   "metadata": {},
   "source": [
    "### Modelo Exponencial de base 2:"
   ]
  },
  {
   "cell_type": "code",
   "execution_count": 16,
   "id": "a6f7e05b-95fc-441b-8f4c-d2d8d2ca738f",
   "metadata": {},
   "outputs": [
    {
     "data": {
      "text/plain": [
       "0.26981167065029243"
      ]
     },
     "execution_count": 16,
     "metadata": {},
     "output_type": "execute_result"
    }
   ],
   "source": [
    "r2_score(df[\"resultado\"], df[\"churnExponencial_2\"])"
   ]
  },
  {
   "cell_type": "code",
   "execution_count": 17,
   "id": "9172ce4a-d33b-43bb-9c40-4be0049da72e",
   "metadata": {},
   "outputs": [
    {
     "data": {
      "text/plain": [
       "array([[4390,   22],\n",
       "       [  41,   47]])"
      ]
     },
     "execution_count": 17,
     "metadata": {},
     "output_type": "execute_result"
    }
   ],
   "source": [
    "cE2 = confusion_matrix(df[\"resultado\"], df[\"churnExponencial_2\"])\n",
    "cE2"
   ]
  },
  {
   "cell_type": "code",
   "execution_count": 18,
   "id": "b65948c7-4743-4e1b-a6e4-0158b980d171",
   "metadata": {},
   "outputs": [
    {
     "data": {
      "text/plain": [
       "<sklearn.metrics._plot.confusion_matrix.ConfusionMatrixDisplay at 0x7f4fa05120a0>"
      ]
     },
     "execution_count": 18,
     "metadata": {},
     "output_type": "execute_result"
    }
   ],
   "source": [
    "dispE2 = ConfusionMatrixDisplay(confusion_matrix=cE2)\n",
    "dispE2"
   ]
  },
  {
   "cell_type": "code",
   "execution_count": 19,
   "id": "bf691af1-d027-4ca9-83e1-1934ce667786",
   "metadata": {},
   "outputs": [
    {
     "data": {
      "image/png": "[encoded data removed]",
      "text/plain": [
       "<Figure size 640x480 with 2 Axes>"
      ]
     },
     "metadata": {},
     "output_type": "display_data"
    }
   ],
   "source": [
    "dispE2.plot()\n",
    "plt.show()"
   ]
  },
  {
   "cell_type": "markdown",
   "id": "d6f323d5-6731-4f72-b588-59fe0497ab27",
   "metadata": {},
   "source": [
    "### Modelo Exponencial de base e:"
   ]
  },
  {
   "cell_type": "code",
   "execution_count": 20,
   "id": "9f6b949f-2b65-4b3f-ab3f-36d968e4d782",
   "metadata": {},
   "outputs": [
    {
     "data": {
      "text/plain": [
       "0.26981167065029243"
      ]
     },
     "execution_count": 20,
     "metadata": {},
     "output_type": "execute_result"
    }
   ],
   "source": [
    "r2_score(df[\"resultado\"], df[\"churnExponencial_e\"])"
   ]
  },
  {
   "cell_type": "code",
   "execution_count": 21,
   "id": "10cb5bab-b268-4154-b5aa-2252bf4f1422",
   "metadata": {},
   "outputs": [
    {
     "data": {
      "text/plain": [
       "array([[4390,   22],\n",
       "       [  41,   47]])"
      ]
     },
     "execution_count": 21,
     "metadata": {},
     "output_type": "execute_result"
    }
   ],
   "source": [
    "cEe = confusion_matrix(df[\"resultado\"], df[\"churnExponencial_e\"])\n",
    "cEe"
   ]
  },
  {
   "cell_type": "code",
   "execution_count": 22,
   "id": "ccc8be9b-97ff-4021-9791-472bf2096e41",
   "metadata": {},
   "outputs": [
    {
     "data": {
      "text/plain": [
       "<sklearn.metrics._plot.confusion_matrix.ConfusionMatrixDisplay at 0x7f4f4822afa0>"
      ]
     },
     "execution_count": 22,
     "metadata": {},
     "output_type": "execute_result"
    }
   ],
   "source": [
    "dispEe = ConfusionMatrixDisplay(confusion_matrix=cEe)\n",
    "dispEe"
   ]
  },
  {
   "cell_type": "code",
   "execution_count": 23,
   "id": "367af85b-628a-483a-8746-3df2b9674715",
   "metadata": {},
   "outputs": [
    {
     "data": {
      "image/png": "[encoded data removed]",
      "text/plain": [
       "<Figure size 640x480 with 2 Axes>"
      ]
     },
     "metadata": {},
     "output_type": "display_data"
    }
   ],
   "source": [
    "dispEe.plot()\n",
    "plt.show()"
   ]
  },
  {
   "cell_type": "markdown",
   "id": "14be3be6-9c2c-43ac-87b3-af44e4ccc7ce",
   "metadata": {},
   "source": [
    "### Modelo Recente:"
   ]
  },
  {
   "cell_type": "code",
   "execution_count": 24,
   "id": "f3594c0e-7ef6-404a-95bb-dcf9e5899415",
   "metadata": {},
   "outputs": [
    {
     "data": {
      "text/plain": [
       "-4.2504017967526595"
      ]
     },
     "execution_count": 24,
     "metadata": {},
     "output_type": "execute_result"
    }
   ],
   "source": [
    "r2_score(df[\"resultado\"], df[\"churnRecente\"])"
   ]
  },
  {
   "cell_type": "code",
   "execution_count": 25,
   "id": "6af3c5e5-af39-4a3f-9b3a-89df21fc4f8a",
   "metadata": {},
   "outputs": [
    {
     "data": {
      "text/plain": [
       "array([[3974,  438],\n",
       "       [  15,   73]])"
      ]
     },
     "execution_count": 25,
     "metadata": {},
     "output_type": "execute_result"
    }
   ],
   "source": [
    "cR = confusion_matrix(df[\"resultado\"], df[\"churnRecente\"])\n",
    "cR"
   ]
  },
  {
   "cell_type": "code",
   "execution_count": 26,
   "id": "e7a4605f-59f3-4e5e-90c5-d31000c1dd80",
   "metadata": {},
   "outputs": [
    {
     "data": {
      "text/plain": [
       "<sklearn.metrics._plot.confusion_matrix.ConfusionMatrixDisplay at 0x7f4f48172640>"
      ]
     },
     "execution_count": 26,
     "metadata": {},
     "output_type": "execute_result"
    }
   ],
   "source": [
    "dispR = ConfusionMatrixDisplay(confusion_matrix=cR)\n",
    "dispR"
   ]
  },
  {
   "cell_type": "code",
   "execution_count": 27,
   "id": "04adb813-09ff-4e79-a418-dba509c258b4",
   "metadata": {},
   "outputs": [
    {
     "data": {
      "image/png": "[encoded data removed]",
      "text/plain": [
       "<Figure size 640x480 with 2 Axes>"
      ]
     },
     "metadata": {},
     "output_type": "display_data"
    }
   ],
   "source": [
    "dispR.plot()\n",
    "plt.show()"
   ]
  }
 ],
 "metadata": {
  "kernelspec": {
   "display_name": "Python 3 (ipykernel)",
   "language": "python",
   "name": "python3"
  },
  "language_info": {
   "codemirror_mode": {
    "name": "ipython",
    "version": 3
   },
   "file_extension": ".py",
   "mimetype": "text/x-python",
   "name": "python",
   "nbconvert_exporter": "python",
   "pygments_lexer": "ipython3",
   "version": "3.8.10"
  },
  "widgets": {
   "application/vnd.jupyter.widget-state+json": {
    "state": {},
    "version_major": 2,
    "version_minor": 0
   }
  }
 },
 "nbformat": 4,
 "nbformat_minor": 5
}
