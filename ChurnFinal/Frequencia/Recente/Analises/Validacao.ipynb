{
 "cells": [
  {
   "cell_type": "markdown",
   "metadata": {},
   "source": [
    "# Validação do modelo de Churn\n",
    "* Aplicado o Recente em todos e utilizando o cálculo de períodos.\n",
    "---\n",
    "\n",
    "**Autor(a):** Sabrina Bruni de Souza Faria"
   ]
  },
  {
   "cell_type": "markdown",
   "metadata": {},
   "source": [
    "## Importando Bibliotecas"
   ]
  },
  {
   "cell_type": "code",
   "execution_count": 1,
   "metadata": {},
   "outputs": [],
   "source": [
    "import pandas as pd\n",
    "import csv\n",
    "from funcoesAuxiliares import *"
   ]
  },
  {
   "cell_type": "markdown",
   "metadata": {},
   "source": [
    "## Leitura dos dados"
   ]
  },
  {
   "cell_type": "code",
   "execution_count": 2,
   "metadata": {
    "scrolled": true
   },
   "outputs": [
    {
     "data": {
      "text/html": [
       "<div>\n",
       "<style scoped>\n",
       "    .dataframe tbody tr th:only-of-type {\n",
       "        vertical-align: middle;\n",
       "    }\n",
       "\n",
       "    .dataframe tbody tr th {\n",
       "        vertical-align: top;\n",
       "    }\n",
       "\n",
       "    .dataframe thead th {\n",
       "        text-align: right;\n",
       "    }\n",
       "</style>\n",
       "<table border=\"1\" class=\"dataframe\">\n",
       "  <thead>\n",
       "    <tr style=\"text-align: right;\">\n",
       "      <th></th>\n",
       "      <th>id_cliente</th>\n",
       "      <th>churnLinear</th>\n",
       "      <th>churnExponencial_2</th>\n",
       "      <th>churnExponencial_e</th>\n",
       "      <th>churnRecente</th>\n",
       "      <th>resultado</th>\n",
       "    </tr>\n",
       "  </thead>\n",
       "  <tbody>\n",
       "    <tr>\n",
       "      <th>0</th>\n",
       "      <td>2378</td>\n",
       "      <td>0.290557</td>\n",
       "      <td>0.991526</td>\n",
       "      <td>0.990924</td>\n",
       "      <td>0.289474</td>\n",
       "      <td>não churn</td>\n",
       "    </tr>\n",
       "    <tr>\n",
       "      <th>1</th>\n",
       "      <td>576</td>\n",
       "      <td>0.398677</td>\n",
       "      <td>0.997203</td>\n",
       "      <td>0.998403</td>\n",
       "      <td>0.394737</td>\n",
       "      <td>não churn</td>\n",
       "    </tr>\n",
       "    <tr>\n",
       "      <th>2</th>\n",
       "      <td>704</td>\n",
       "      <td>0.259568</td>\n",
       "      <td>0.997093</td>\n",
       "      <td>0.998367</td>\n",
       "      <td>0.256579</td>\n",
       "      <td>não churn</td>\n",
       "    </tr>\n",
       "    <tr>\n",
       "      <th>3</th>\n",
       "      <td>3818</td>\n",
       "      <td>0.300109</td>\n",
       "      <td>0.997203</td>\n",
       "      <td>0.998403</td>\n",
       "      <td>0.296053</td>\n",
       "      <td>não churn</td>\n",
       "    </tr>\n",
       "    <tr>\n",
       "      <th>4</th>\n",
       "      <td>1972</td>\n",
       "      <td>0.371964</td>\n",
       "      <td>0.998958</td>\n",
       "      <td>0.999549</td>\n",
       "      <td>0.368421</td>\n",
       "      <td>não churn</td>\n",
       "    </tr>\n",
       "  </tbody>\n",
       "</table>\n",
       "</div>"
      ],
      "text/plain": [
       "   id_cliente  churnLinear  churnExponencial_2  churnExponencial_e  \\\n",
       "0        2378     0.290557            0.991526            0.990924   \n",
       "1         576     0.398677            0.997203            0.998403   \n",
       "2         704     0.259568            0.997093            0.998367   \n",
       "3        3818     0.300109            0.997203            0.998403   \n",
       "4        1972     0.371964            0.998958            0.999549   \n",
       "\n",
       "   churnRecente  resultado  \n",
       "0      0.289474  não churn  \n",
       "1      0.394737  não churn  \n",
       "2      0.256579  não churn  \n",
       "3      0.296053  não churn  \n",
       "4      0.368421  não churn  "
      ]
     },
     "execution_count": 2,
     "metadata": {},
     "output_type": "execute_result"
    }
   ],
   "source": [
    "df = pd.read_csv('Arquivos/TesteTreinoChurnTrans.csv')\n",
    "df.head(5)"
   ]
  },
  {
   "cell_type": "code",
   "execution_count": 3,
   "metadata": {},
   "outputs": [
    {
     "data": {
      "text/html": [
       "<div>\n",
       "<style scoped>\n",
       "    .dataframe tbody tr th:only-of-type {\n",
       "        vertical-align: middle;\n",
       "    }\n",
       "\n",
       "    .dataframe tbody tr th {\n",
       "        vertical-align: top;\n",
       "    }\n",
       "\n",
       "    .dataframe thead th {\n",
       "        text-align: right;\n",
       "    }\n",
       "</style>\n",
       "<table border=\"1\" class=\"dataframe\">\n",
       "  <thead>\n",
       "    <tr style=\"text-align: right;\">\n",
       "      <th></th>\n",
       "      <th>id_cliente</th>\n",
       "      <th>churnLinear</th>\n",
       "      <th>churnExponencial_2</th>\n",
       "      <th>churnExponencial_e</th>\n",
       "      <th>churnRecente</th>\n",
       "    </tr>\n",
       "  </thead>\n",
       "  <tbody>\n",
       "    <tr>\n",
       "      <th>count</th>\n",
       "      <td>4500.000000</td>\n",
       "      <td>4500.000000</td>\n",
       "      <td>4500.000000</td>\n",
       "      <td>4500.000000</td>\n",
       "      <td>4500.000000</td>\n",
       "    </tr>\n",
       "    <tr>\n",
       "      <th>mean</th>\n",
       "      <td>2786.067556</td>\n",
       "      <td>0.802617</td>\n",
       "      <td>0.999968</td>\n",
       "      <td>0.999981</td>\n",
       "      <td>0.630798</td>\n",
       "    </tr>\n",
       "    <tr>\n",
       "      <th>std</th>\n",
       "      <td>2313.811984</td>\n",
       "      <td>0.198231</td>\n",
       "      <td>0.000312</td>\n",
       "      <td>0.000261</td>\n",
       "      <td>0.189418</td>\n",
       "    </tr>\n",
       "    <tr>\n",
       "      <th>min</th>\n",
       "      <td>1.000000</td>\n",
       "      <td>0.198918</td>\n",
       "      <td>0.988417</td>\n",
       "      <td>0.987959</td>\n",
       "      <td>0.141447</td>\n",
       "    </tr>\n",
       "    <tr>\n",
       "      <th>25%</th>\n",
       "      <td>1182.750000</td>\n",
       "      <td>0.658043</td>\n",
       "      <td>1.000000</td>\n",
       "      <td>1.000000</td>\n",
       "      <td>0.459704</td>\n",
       "    </tr>\n",
       "    <tr>\n",
       "      <th>50%</th>\n",
       "      <td>2368.000000</td>\n",
       "      <td>0.901251</td>\n",
       "      <td>1.000000</td>\n",
       "      <td>1.000000</td>\n",
       "      <td>0.674342</td>\n",
       "    </tr>\n",
       "    <tr>\n",
       "      <th>75%</th>\n",
       "      <td>3552.250000</td>\n",
       "      <td>0.956262</td>\n",
       "      <td>1.000000</td>\n",
       "      <td>1.000000</td>\n",
       "      <td>0.786184</td>\n",
       "    </tr>\n",
       "    <tr>\n",
       "      <th>max</th>\n",
       "      <td>11382.000000</td>\n",
       "      <td>0.997424</td>\n",
       "      <td>1.000000</td>\n",
       "      <td>1.000000</td>\n",
       "      <td>0.971875</td>\n",
       "    </tr>\n",
       "  </tbody>\n",
       "</table>\n",
       "</div>"
      ],
      "text/plain": [
       "         id_cliente  churnLinear  churnExponencial_2  churnExponencial_e  \\\n",
       "count   4500.000000  4500.000000         4500.000000         4500.000000   \n",
       "mean    2786.067556     0.802617            0.999968            0.999981   \n",
       "std     2313.811984     0.198231            0.000312            0.000261   \n",
       "min        1.000000     0.198918            0.988417            0.987959   \n",
       "25%     1182.750000     0.658043            1.000000            1.000000   \n",
       "50%     2368.000000     0.901251            1.000000            1.000000   \n",
       "75%     3552.250000     0.956262            1.000000            1.000000   \n",
       "max    11382.000000     0.997424            1.000000            1.000000   \n",
       "\n",
       "       churnRecente  \n",
       "count   4500.000000  \n",
       "mean       0.630798  \n",
       "std        0.189418  \n",
       "min        0.141447  \n",
       "25%        0.459704  \n",
       "50%        0.674342  \n",
       "75%        0.786184  \n",
       "max        0.971875  "
      ]
     },
     "execution_count": 3,
     "metadata": {},
     "output_type": "execute_result"
    }
   ],
   "source": [
    "df.describe()"
   ]
  },
  {
   "cell_type": "markdown",
   "metadata": {},
   "source": [
    "## Variável de decisão"
   ]
  },
  {
   "cell_type": "code",
   "execution_count": 4,
   "metadata": {},
   "outputs": [],
   "source": [
    "limite = 0.5"
   ]
  },
  {
   "cell_type": "markdown",
   "metadata": {},
   "source": [
    "## Ajustando os dados"
   ]
  },
  {
   "cell_type": "code",
   "execution_count": 5,
   "metadata": {},
   "outputs": [
    {
     "data": {
      "text/html": [
       "<div>\n",
       "<style scoped>\n",
       "    .dataframe tbody tr th:only-of-type {\n",
       "        vertical-align: middle;\n",
       "    }\n",
       "\n",
       "    .dataframe tbody tr th {\n",
       "        vertical-align: top;\n",
       "    }\n",
       "\n",
       "    .dataframe thead th {\n",
       "        text-align: right;\n",
       "    }\n",
       "</style>\n",
       "<table border=\"1\" class=\"dataframe\">\n",
       "  <thead>\n",
       "    <tr style=\"text-align: right;\">\n",
       "      <th></th>\n",
       "      <th>id_cliente</th>\n",
       "      <th>churnLinear</th>\n",
       "      <th>churnExponencial_2</th>\n",
       "      <th>churnExponencial_e</th>\n",
       "      <th>churnRecente</th>\n",
       "      <th>resultado</th>\n",
       "    </tr>\n",
       "  </thead>\n",
       "  <tbody>\n",
       "    <tr>\n",
       "      <th>0</th>\n",
       "      <td>2378</td>\n",
       "      <td>0.0</td>\n",
       "      <td>1.0</td>\n",
       "      <td>1.0</td>\n",
       "      <td>0.0</td>\n",
       "      <td>0.0</td>\n",
       "    </tr>\n",
       "    <tr>\n",
       "      <th>1</th>\n",
       "      <td>576</td>\n",
       "      <td>0.0</td>\n",
       "      <td>1.0</td>\n",
       "      <td>1.0</td>\n",
       "      <td>0.0</td>\n",
       "      <td>0.0</td>\n",
       "    </tr>\n",
       "    <tr>\n",
       "      <th>2</th>\n",
       "      <td>704</td>\n",
       "      <td>0.0</td>\n",
       "      <td>1.0</td>\n",
       "      <td>1.0</td>\n",
       "      <td>0.0</td>\n",
       "      <td>0.0</td>\n",
       "    </tr>\n",
       "    <tr>\n",
       "      <th>3</th>\n",
       "      <td>3818</td>\n",
       "      <td>0.0</td>\n",
       "      <td>1.0</td>\n",
       "      <td>1.0</td>\n",
       "      <td>0.0</td>\n",
       "      <td>0.0</td>\n",
       "    </tr>\n",
       "    <tr>\n",
       "      <th>4</th>\n",
       "      <td>1972</td>\n",
       "      <td>0.0</td>\n",
       "      <td>1.0</td>\n",
       "      <td>1.0</td>\n",
       "      <td>0.0</td>\n",
       "      <td>0.0</td>\n",
       "    </tr>\n",
       "  </tbody>\n",
       "</table>\n",
       "</div>"
      ],
      "text/plain": [
       "   id_cliente  churnLinear  churnExponencial_2  churnExponencial_e  \\\n",
       "0        2378          0.0                 1.0                 1.0   \n",
       "1         576          0.0                 1.0                 1.0   \n",
       "2         704          0.0                 1.0                 1.0   \n",
       "3        3818          0.0                 1.0                 1.0   \n",
       "4        1972          0.0                 1.0                 1.0   \n",
       "\n",
       "   churnRecente  resultado  \n",
       "0           0.0        0.0  \n",
       "1           0.0        0.0  \n",
       "2           0.0        0.0  \n",
       "3           0.0        0.0  \n",
       "4           0.0        0.0  "
      ]
     },
     "execution_count": 5,
     "metadata": {},
     "output_type": "execute_result"
    }
   ],
   "source": [
    "df[\"resultado\"] = df['resultado'].apply(lambda x: 1.0 if x == \"churn\" else 0.0)\n",
    "df[\"churnLinear\"] = df[\"churnLinear\"].apply(lambda x: 1.0 if x >= limite else 0.0)\n",
    "df[\"churnExponencial_2\"] = df[\"churnExponencial_2\"].apply(lambda x: 1.0 if x >= limite else 0.0)\n",
    "df[\"churnExponencial_e\"] = df[\"churnExponencial_e\"].apply(lambda x: 1.0 if x >= limite else 0.0)\n",
    "df[\"churnRecente\"] = df[\"churnRecente\"].apply(lambda x: 1.0 if x >= limite else 0.0)\n",
    "df.head(5)"
   ]
  },
  {
   "cell_type": "markdown",
   "metadata": {},
   "source": [
    "## Salvando o dataframe de churn e resultado ajustados em um arquivo CSV"
   ]
  },
  {
   "cell_type": "code",
   "execution_count": 6,
   "metadata": {},
   "outputs": [],
   "source": [
    "df.to_csv( \"Arquivos/TesteTreinoChurnAjustadoTrans.csv\", index = False, header = True, quoting = csv.QUOTE_NONNUMERIC )"
   ]
  },
  {
   "cell_type": "markdown",
   "metadata": {},
   "source": [
    "## Visualizando Estatísticas Descritivas"
   ]
  },
  {
   "cell_type": "code",
   "execution_count": 7,
   "metadata": {
    "scrolled": false
   },
   "outputs": [
    {
     "data": {
      "text/html": [
       "<div>\n",
       "<style scoped>\n",
       "    .dataframe tbody tr th:only-of-type {\n",
       "        vertical-align: middle;\n",
       "    }\n",
       "\n",
       "    .dataframe tbody tr th {\n",
       "        vertical-align: top;\n",
       "    }\n",
       "\n",
       "    .dataframe thead th {\n",
       "        text-align: right;\n",
       "    }\n",
       "</style>\n",
       "<table border=\"1\" class=\"dataframe\">\n",
       "  <thead>\n",
       "    <tr style=\"text-align: right;\">\n",
       "      <th></th>\n",
       "      <th>id_cliente</th>\n",
       "      <th>churnLinear</th>\n",
       "      <th>churnExponencial_2</th>\n",
       "      <th>churnExponencial_e</th>\n",
       "      <th>churnRecente</th>\n",
       "      <th>resultado</th>\n",
       "    </tr>\n",
       "  </thead>\n",
       "  <tbody>\n",
       "    <tr>\n",
       "      <th>count</th>\n",
       "      <td>4500.000000</td>\n",
       "      <td>4500.000000</td>\n",
       "      <td>4500.0</td>\n",
       "      <td>4500.0</td>\n",
       "      <td>4500.000000</td>\n",
       "      <td>4500.000000</td>\n",
       "    </tr>\n",
       "    <tr>\n",
       "      <th>mean</th>\n",
       "      <td>2786.067556</td>\n",
       "      <td>0.884000</td>\n",
       "      <td>1.0</td>\n",
       "      <td>1.0</td>\n",
       "      <td>0.707778</td>\n",
       "      <td>0.006667</td>\n",
       "    </tr>\n",
       "    <tr>\n",
       "      <th>std</th>\n",
       "      <td>2313.811984</td>\n",
       "      <td>0.320261</td>\n",
       "      <td>0.0</td>\n",
       "      <td>0.0</td>\n",
       "      <td>0.454834</td>\n",
       "      <td>0.081386</td>\n",
       "    </tr>\n",
       "    <tr>\n",
       "      <th>min</th>\n",
       "      <td>1.000000</td>\n",
       "      <td>0.000000</td>\n",
       "      <td>1.0</td>\n",
       "      <td>1.0</td>\n",
       "      <td>0.000000</td>\n",
       "      <td>0.000000</td>\n",
       "    </tr>\n",
       "    <tr>\n",
       "      <th>25%</th>\n",
       "      <td>1182.750000</td>\n",
       "      <td>1.000000</td>\n",
       "      <td>1.0</td>\n",
       "      <td>1.0</td>\n",
       "      <td>0.000000</td>\n",
       "      <td>0.000000</td>\n",
       "    </tr>\n",
       "    <tr>\n",
       "      <th>50%</th>\n",
       "      <td>2368.000000</td>\n",
       "      <td>1.000000</td>\n",
       "      <td>1.0</td>\n",
       "      <td>1.0</td>\n",
       "      <td>1.000000</td>\n",
       "      <td>0.000000</td>\n",
       "    </tr>\n",
       "    <tr>\n",
       "      <th>75%</th>\n",
       "      <td>3552.250000</td>\n",
       "      <td>1.000000</td>\n",
       "      <td>1.0</td>\n",
       "      <td>1.0</td>\n",
       "      <td>1.000000</td>\n",
       "      <td>0.000000</td>\n",
       "    </tr>\n",
       "    <tr>\n",
       "      <th>max</th>\n",
       "      <td>11382.000000</td>\n",
       "      <td>1.000000</td>\n",
       "      <td>1.0</td>\n",
       "      <td>1.0</td>\n",
       "      <td>1.000000</td>\n",
       "      <td>1.000000</td>\n",
       "    </tr>\n",
       "  </tbody>\n",
       "</table>\n",
       "</div>"
      ],
      "text/plain": [
       "         id_cliente  churnLinear  churnExponencial_2  churnExponencial_e  \\\n",
       "count   4500.000000  4500.000000              4500.0              4500.0   \n",
       "mean    2786.067556     0.884000                 1.0                 1.0   \n",
       "std     2313.811984     0.320261                 0.0                 0.0   \n",
       "min        1.000000     0.000000                 1.0                 1.0   \n",
       "25%     1182.750000     1.000000                 1.0                 1.0   \n",
       "50%     2368.000000     1.000000                 1.0                 1.0   \n",
       "75%     3552.250000     1.000000                 1.0                 1.0   \n",
       "max    11382.000000     1.000000                 1.0                 1.0   \n",
       "\n",
       "       churnRecente    resultado  \n",
       "count   4500.000000  4500.000000  \n",
       "mean       0.707778     0.006667  \n",
       "std        0.454834     0.081386  \n",
       "min        0.000000     0.000000  \n",
       "25%        0.000000     0.000000  \n",
       "50%        1.000000     0.000000  \n",
       "75%        1.000000     0.000000  \n",
       "max        1.000000     1.000000  "
      ]
     },
     "execution_count": 7,
     "metadata": {},
     "output_type": "execute_result"
    }
   ],
   "source": [
    "df.describe()"
   ]
  },
  {
   "cell_type": "markdown",
   "metadata": {},
   "source": [
    "## Visualizando a proporção de Churns"
   ]
  },
  {
   "cell_type": "code",
   "execution_count": 8,
   "metadata": {
    "scrolled": true
   },
   "outputs": [
    {
     "data": {
      "text/html": [
       "<div>\n",
       "<style scoped>\n",
       "    .dataframe tbody tr th:only-of-type {\n",
       "        vertical-align: middle;\n",
       "    }\n",
       "\n",
       "    .dataframe tbody tr th {\n",
       "        vertical-align: top;\n",
       "    }\n",
       "\n",
       "    .dataframe thead th {\n",
       "        text-align: right;\n",
       "    }\n",
       "</style>\n",
       "<table border=\"1\" class=\"dataframe\">\n",
       "  <thead>\n",
       "    <tr style=\"text-align: right;\">\n",
       "      <th></th>\n",
       "      <th>id_cliente</th>\n",
       "      <th>churnLinear</th>\n",
       "      <th>churnExponencial_2</th>\n",
       "      <th>churnExponencial_e</th>\n",
       "      <th>churnRecente</th>\n",
       "      <th>resultado</th>\n",
       "    </tr>\n",
       "  </thead>\n",
       "  <tbody>\n",
       "    <tr>\n",
       "      <th>zeros</th>\n",
       "      <td>0</td>\n",
       "      <td>522</td>\n",
       "      <td>0</td>\n",
       "      <td>0</td>\n",
       "      <td>1315</td>\n",
       "      <td>4470</td>\n",
       "    </tr>\n",
       "    <tr>\n",
       "      <th>uns</th>\n",
       "      <td>1</td>\n",
       "      <td>3978</td>\n",
       "      <td>4500</td>\n",
       "      <td>4500</td>\n",
       "      <td>3185</td>\n",
       "      <td>30</td>\n",
       "    </tr>\n",
       "  </tbody>\n",
       "</table>\n",
       "</div>"
      ],
      "text/plain": [
       "       id_cliente  churnLinear  churnExponencial_2  churnExponencial_e  \\\n",
       "zeros           0          522                   0                   0   \n",
       "uns             1         3978                4500                4500   \n",
       "\n",
       "       churnRecente  resultado  \n",
       "zeros          1315       4470  \n",
       "uns            3185         30  "
      ]
     },
     "execution_count": 8,
     "metadata": {},
     "output_type": "execute_result"
    }
   ],
   "source": [
    "# Aplicar a função a cada coluna\n",
    "df.apply(contar_zeros_uns)"
   ]
  },
  {
   "cell_type": "markdown",
   "metadata": {},
   "source": [
    "## Validando os Modelos"
   ]
  },
  {
   "cell_type": "code",
   "execution_count": 9,
   "metadata": {},
   "outputs": [],
   "source": [
    "real = df[\"resultado\"]\n",
    "linear, exp2, expE, recente = df[\"churnLinear\"], df[\"churnExponencial_2\"], df[\"churnExponencial_e\"], df[\"churnRecente\"]"
   ]
  },
  {
   "cell_type": "code",
   "execution_count": 10,
   "metadata": {
    "scrolled": true
   },
   "outputs": [
    {
     "name": "stdout",
     "output_type": "stream",
     "text": [
      "R² = [-131.48322147651012, -149.00000000000006, -149.00000000000006, -104.87248322147654]\n"
     ]
    },
    {
     "data": {
      "image/png": "[encoded data removed]",
      "text/plain": [
       "<Figure size 1080x576 with 4 Axes>"
      ]
     },
     "metadata": {
      "needs_background": "light"
     },
     "output_type": "display_data"
    }
   ],
   "source": [
    "r2, CM = validacaoR2MatrizConfusao(\n",
    "            real, \n",
    "            predict = [linear, exp2, expE, recente], \n",
    "            titulos = [\"Churn Linear\", \"Churn Exponencial Base 2\", \"Churn Exponencial Base e\", \"Churn Recente\"], \n",
    "            tamanhos = (15,8)\n",
    "            )"
   ]
  },
  {
   "cell_type": "code",
   "execution_count": 11,
   "metadata": {},
   "outputs": [
    {
     "name": "stdout",
     "output_type": "stream",
     "text": [
      "Churn Linear:\n",
      "Acurácia: 12.27%\n",
      "\n",
      "Classe     Precisão     Revocação    F1-Score    \n",
      "---------------------------------------------\n",
      "0.0        100.00       11.68        20.91       \n",
      "1.0        0.75         100.00       1.50        \n",
      "\n",
      "\n",
      "\n",
      "Churn Exponencial Base 2:\n",
      "Acurácia: 0.67%\n",
      "\n",
      "Classe     Precisão     Revocação    F1-Score    \n",
      "---------------------------------------------\n",
      "1.0        0.67         100.00       1.32        \n",
      "\n",
      "\n",
      "\n",
      "Churn Exponencial Base e:\n",
      "Acurácia: 0.67%\n",
      "\n",
      "Classe     Precisão     Revocação    F1-Score    \n",
      "---------------------------------------------\n",
      "1.0        0.67         100.00       1.32        \n",
      "\n",
      "\n",
      "\n",
      "Churn Recente:\n",
      "Acurácia: 29.89%\n",
      "\n",
      "Classe     Precisão     Revocação    F1-Score    \n",
      "---------------------------------------------\n",
      "0.0        100.00       29.42        45.46       \n",
      "1.0        0.94         100.00       1.87        \n"
     ]
    }
   ],
   "source": [
    "print(\"Churn Linear:\")\n",
    "calculaValoresAvaliacao(linear, real)\n",
    "print(\"\\n\\n\")\n",
    "print(\"Churn Exponencial Base 2:\")\n",
    "calculaValoresAvaliacao(exp2, real)\n",
    "print(\"\\n\\n\")\n",
    "print(\"Churn Exponencial Base e:\")\n",
    "calculaValoresAvaliacao(expE, real)\n",
    "print(\"\\n\\n\")\n",
    "print(\"Churn Recente:\")\n",
    "calculaValoresAvaliacao(recente, real)"
   ]
  }
 ],
 "metadata": {
  "kernelspec": {
   "display_name": "Python 3 (ipykernel)",
   "language": "python",
   "name": "python3"
  },
  "language_info": {
   "codemirror_mode": {
    "name": "ipython",
    "version": 3
   },
   "file_extension": ".py",
   "mimetype": "text/x-python",
   "name": "python",
   "nbconvert_exporter": "python",
   "pygments_lexer": "ipython3",
   "version": "3.7.3"
  },
  "widgets": {
   "application/vnd.jupyter.widget-state+json": {
    "state": {},
    "version_major": 2,
    "version_minor": 0
   }
  }
 },
 "nbformat": 4,
 "nbformat_minor": 5
}
