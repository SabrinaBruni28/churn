{
 "cells": [
  {
   "cell_type": "markdown",
   "metadata": {},
   "source": [
    "# Validação do modelo de Churn\n",
    "* Aplicado o Recente em todos e utilizando o cálculo de períodos.\n",
    "---\n",
    "\n",
    "**Autor(a):** Sabrina Bruni de Souza Faria"
   ]
  },
  {
   "cell_type": "markdown",
   "metadata": {},
   "source": [
    "## Importando Bibliotecas"
   ]
  },
  {
   "cell_type": "code",
   "execution_count": 1,
   "metadata": {},
   "outputs": [],
   "source": [
    "import pandas as pd\n",
    "import csv\n",
    "from funçoesAuxiliares import *"
   ]
  },
  {
   "cell_type": "markdown",
   "metadata": {},
   "source": [
    "## Leitura dos dados"
   ]
  },
  {
   "cell_type": "code",
   "execution_count": 2,
   "metadata": {
    "scrolled": true
   },
   "outputs": [
    {
     "data": {
      "text/html": [
       "<div>\n",
       "<style scoped>\n",
       "    .dataframe tbody tr th:only-of-type {\n",
       "        vertical-align: middle;\n",
       "    }\n",
       "\n",
       "    .dataframe tbody tr th {\n",
       "        vertical-align: top;\n",
       "    }\n",
       "\n",
       "    .dataframe thead th {\n",
       "        text-align: right;\n",
       "    }\n",
       "</style>\n",
       "<table border=\"1\" class=\"dataframe\">\n",
       "  <thead>\n",
       "    <tr style=\"text-align: right;\">\n",
       "      <th></th>\n",
       "      <th>churnLinear</th>\n",
       "      <th>churnExponencial_2</th>\n",
       "      <th>churnExponencial_e</th>\n",
       "      <th>churnRecente</th>\n",
       "      <th>Churn</th>\n",
       "      <th>resultado</th>\n",
       "    </tr>\n",
       "  </thead>\n",
       "  <tbody>\n",
       "    <tr>\n",
       "      <th>0</th>\n",
       "      <td>0.306844</td>\n",
       "      <td>0.298981</td>\n",
       "      <td>0.248598</td>\n",
       "      <td>0.287129</td>\n",
       "      <td>0.280981</td>\n",
       "      <td>não churn</td>\n",
       "    </tr>\n",
       "    <tr>\n",
       "      <th>1</th>\n",
       "      <td>0.375673</td>\n",
       "      <td>0.665238</td>\n",
       "      <td>0.730897</td>\n",
       "      <td>0.392739</td>\n",
       "      <td>0.390033</td>\n",
       "      <td>não churn</td>\n",
       "    </tr>\n",
       "    <tr>\n",
       "      <th>2</th>\n",
       "      <td>0.259749</td>\n",
       "      <td>0.534367</td>\n",
       "      <td>0.643994</td>\n",
       "      <td>0.254125</td>\n",
       "      <td>0.250033</td>\n",
       "      <td>não churn</td>\n",
       "    </tr>\n",
       "    <tr>\n",
       "      <th>3</th>\n",
       "      <td>0.304933</td>\n",
       "      <td>0.534367</td>\n",
       "      <td>0.643994</td>\n",
       "      <td>0.293729</td>\n",
       "      <td>0.290033</td>\n",
       "      <td>não churn</td>\n",
       "    </tr>\n",
       "    <tr>\n",
       "      <th>4</th>\n",
       "      <td>0.364491</td>\n",
       "      <td>0.550020</td>\n",
       "      <td>0.648253</td>\n",
       "      <td>0.366337</td>\n",
       "      <td>0.356969</td>\n",
       "      <td>não churn</td>\n",
       "    </tr>\n",
       "  </tbody>\n",
       "</table>\n",
       "</div>"
      ],
      "text/plain": [
       "   churnLinear  churnExponencial_2  churnExponencial_e  churnRecente  \\\n",
       "0     0.306844            0.298981            0.248598      0.287129   \n",
       "1     0.375673            0.665238            0.730897      0.392739   \n",
       "2     0.259749            0.534367            0.643994      0.254125   \n",
       "3     0.304933            0.534367            0.643994      0.293729   \n",
       "4     0.364491            0.550020            0.648253      0.366337   \n",
       "\n",
       "      Churn  resultado  \n",
       "0  0.280981  não churn  \n",
       "1  0.390033  não churn  \n",
       "2  0.250033  não churn  \n",
       "3  0.290033  não churn  \n",
       "4  0.356969  não churn  "
      ]
     },
     "execution_count": 2,
     "metadata": {},
     "output_type": "execute_result"
    }
   ],
   "source": [
    "df = pd.read_csv('Arquivos/TesteTreinoChurn.csv')\n",
    "df.head(5)"
   ]
  },
  {
   "cell_type": "code",
   "execution_count": 3,
   "metadata": {},
   "outputs": [
    {
     "data": {
      "text/html": [
       "<div>\n",
       "<style scoped>\n",
       "    .dataframe tbody tr th:only-of-type {\n",
       "        vertical-align: middle;\n",
       "    }\n",
       "\n",
       "    .dataframe tbody tr th {\n",
       "        vertical-align: top;\n",
       "    }\n",
       "\n",
       "    .dataframe thead th {\n",
       "        text-align: right;\n",
       "    }\n",
       "</style>\n",
       "<table border=\"1\" class=\"dataframe\">\n",
       "  <thead>\n",
       "    <tr style=\"text-align: right;\">\n",
       "      <th></th>\n",
       "      <th>churnLinear</th>\n",
       "      <th>churnExponencial_2</th>\n",
       "      <th>churnExponencial_e</th>\n",
       "      <th>churnRecente</th>\n",
       "      <th>Churn</th>\n",
       "    </tr>\n",
       "  </thead>\n",
       "  <tbody>\n",
       "    <tr>\n",
       "      <th>count</th>\n",
       "      <td>4500.000000</td>\n",
       "      <td>4.500000e+03</td>\n",
       "      <td>4500.000000</td>\n",
       "      <td>4500.000000</td>\n",
       "      <td>4500.000000</td>\n",
       "    </tr>\n",
       "    <tr>\n",
       "      <th>mean</th>\n",
       "      <td>0.320461</td>\n",
       "      <td>4.533954e-01</td>\n",
       "      <td>0.510960</td>\n",
       "      <td>0.340064</td>\n",
       "      <td>0.330865</td>\n",
       "    </tr>\n",
       "    <tr>\n",
       "      <th>std</th>\n",
       "      <td>0.106855</td>\n",
       "      <td>2.506315e-01</td>\n",
       "      <td>0.298509</td>\n",
       "      <td>0.102026</td>\n",
       "      <td>0.100471</td>\n",
       "    </tr>\n",
       "    <tr>\n",
       "      <th>min</th>\n",
       "      <td>0.042839</td>\n",
       "      <td>1.110223e-16</td>\n",
       "      <td>0.000000</td>\n",
       "      <td>0.095238</td>\n",
       "      <td>0.080773</td>\n",
       "    </tr>\n",
       "    <tr>\n",
       "      <th>25%</th>\n",
       "      <td>0.255224</td>\n",
       "      <td>2.661840e-01</td>\n",
       "      <td>0.236834</td>\n",
       "      <td>0.273810</td>\n",
       "      <td>0.266091</td>\n",
       "    </tr>\n",
       "    <tr>\n",
       "      <th>50%</th>\n",
       "      <td>0.310149</td>\n",
       "      <td>5.333904e-01</td>\n",
       "      <td>0.643916</td>\n",
       "      <td>0.329524</td>\n",
       "      <td>0.320833</td>\n",
       "    </tr>\n",
       "    <tr>\n",
       "      <th>75%</th>\n",
       "      <td>0.371143</td>\n",
       "      <td>6.281308e-01</td>\n",
       "      <td>0.717964</td>\n",
       "      <td>0.387097</td>\n",
       "      <td>0.377186</td>\n",
       "    </tr>\n",
       "    <tr>\n",
       "      <th>max</th>\n",
       "      <td>0.966789</td>\n",
       "      <td>1.000000e+00</td>\n",
       "      <td>1.000000</td>\n",
       "      <td>0.920354</td>\n",
       "      <td>0.881561</td>\n",
       "    </tr>\n",
       "  </tbody>\n",
       "</table>\n",
       "</div>"
      ],
      "text/plain": [
       "       churnLinear  churnExponencial_2  churnExponencial_e  churnRecente  \\\n",
       "count  4500.000000        4.500000e+03         4500.000000   4500.000000   \n",
       "mean      0.320461        4.533954e-01            0.510960      0.340064   \n",
       "std       0.106855        2.506315e-01            0.298509      0.102026   \n",
       "min       0.042839        1.110223e-16            0.000000      0.095238   \n",
       "25%       0.255224        2.661840e-01            0.236834      0.273810   \n",
       "50%       0.310149        5.333904e-01            0.643916      0.329524   \n",
       "75%       0.371143        6.281308e-01            0.717964      0.387097   \n",
       "max       0.966789        1.000000e+00            1.000000      0.920354   \n",
       "\n",
       "             Churn  \n",
       "count  4500.000000  \n",
       "mean      0.330865  \n",
       "std       0.100471  \n",
       "min       0.080773  \n",
       "25%       0.266091  \n",
       "50%       0.320833  \n",
       "75%       0.377186  \n",
       "max       0.881561  "
      ]
     },
     "execution_count": 3,
     "metadata": {},
     "output_type": "execute_result"
    }
   ],
   "source": [
    "df.describe()"
   ]
  },
  {
   "cell_type": "markdown",
   "metadata": {},
   "source": [
    "## Variável de decisão"
   ]
  },
  {
   "cell_type": "code",
   "execution_count": 4,
   "metadata": {},
   "outputs": [],
   "source": [
    "limite = 0.6"
   ]
  },
  {
   "cell_type": "markdown",
   "metadata": {},
   "source": [
    "## Ajustando os dados"
   ]
  },
  {
   "cell_type": "code",
   "execution_count": 5,
   "metadata": {},
   "outputs": [
    {
     "data": {
      "text/html": [
       "<div>\n",
       "<style scoped>\n",
       "    .dataframe tbody tr th:only-of-type {\n",
       "        vertical-align: middle;\n",
       "    }\n",
       "\n",
       "    .dataframe tbody tr th {\n",
       "        vertical-align: top;\n",
       "    }\n",
       "\n",
       "    .dataframe thead th {\n",
       "        text-align: right;\n",
       "    }\n",
       "</style>\n",
       "<table border=\"1\" class=\"dataframe\">\n",
       "  <thead>\n",
       "    <tr style=\"text-align: right;\">\n",
       "      <th></th>\n",
       "      <th>churnLinear</th>\n",
       "      <th>churnExponencial_2</th>\n",
       "      <th>churnExponencial_e</th>\n",
       "      <th>churnRecente</th>\n",
       "      <th>Churn</th>\n",
       "      <th>resultado</th>\n",
       "    </tr>\n",
       "  </thead>\n",
       "  <tbody>\n",
       "    <tr>\n",
       "      <th>0</th>\n",
       "      <td>0.0</td>\n",
       "      <td>0.0</td>\n",
       "      <td>0.0</td>\n",
       "      <td>0.0</td>\n",
       "      <td>0.0</td>\n",
       "      <td>0.0</td>\n",
       "    </tr>\n",
       "    <tr>\n",
       "      <th>1</th>\n",
       "      <td>0.0</td>\n",
       "      <td>1.0</td>\n",
       "      <td>1.0</td>\n",
       "      <td>0.0</td>\n",
       "      <td>0.0</td>\n",
       "      <td>0.0</td>\n",
       "    </tr>\n",
       "    <tr>\n",
       "      <th>2</th>\n",
       "      <td>0.0</td>\n",
       "      <td>0.0</td>\n",
       "      <td>1.0</td>\n",
       "      <td>0.0</td>\n",
       "      <td>0.0</td>\n",
       "      <td>0.0</td>\n",
       "    </tr>\n",
       "    <tr>\n",
       "      <th>3</th>\n",
       "      <td>0.0</td>\n",
       "      <td>0.0</td>\n",
       "      <td>1.0</td>\n",
       "      <td>0.0</td>\n",
       "      <td>0.0</td>\n",
       "      <td>0.0</td>\n",
       "    </tr>\n",
       "    <tr>\n",
       "      <th>4</th>\n",
       "      <td>0.0</td>\n",
       "      <td>0.0</td>\n",
       "      <td>1.0</td>\n",
       "      <td>0.0</td>\n",
       "      <td>0.0</td>\n",
       "      <td>0.0</td>\n",
       "    </tr>\n",
       "  </tbody>\n",
       "</table>\n",
       "</div>"
      ],
      "text/plain": [
       "   churnLinear  churnExponencial_2  churnExponencial_e  churnRecente  Churn  \\\n",
       "0          0.0                 0.0                 0.0           0.0    0.0   \n",
       "1          0.0                 1.0                 1.0           0.0    0.0   \n",
       "2          0.0                 0.0                 1.0           0.0    0.0   \n",
       "3          0.0                 0.0                 1.0           0.0    0.0   \n",
       "4          0.0                 0.0                 1.0           0.0    0.0   \n",
       "\n",
       "   resultado  \n",
       "0        0.0  \n",
       "1        0.0  \n",
       "2        0.0  \n",
       "3        0.0  \n",
       "4        0.0  "
      ]
     },
     "execution_count": 5,
     "metadata": {},
     "output_type": "execute_result"
    }
   ],
   "source": [
    "df[\"resultado\"] = df['resultado'].apply(lambda x: 1.0 if x == \"churn\" else 0.0)\n",
    "df[\"churnLinear\"] = df[\"churnLinear\"].apply(lambda x: 1.0 if x >= limite else 0.0)\n",
    "df[\"churnExponencial_2\"] = df[\"churnExponencial_2\"].apply(lambda x: 1.0 if x >= limite else 0.0)\n",
    "df[\"churnExponencial_e\"] = df[\"churnExponencial_e\"].apply(lambda x: 1.0 if x >= limite else 0.0)\n",
    "df[\"churnRecente\"] = df[\"churnRecente\"].apply(lambda x: 1.0 if x >= limite else 0.0)\n",
    "df[\"Churn\"] = df[\"Churn\"].apply(lambda x: 1.0 if x >= limite else 0.0)\n",
    "df.head(5)"
   ]
  },
  {
   "cell_type": "markdown",
   "metadata": {},
   "source": [
    "## Salvando o dataframe de churn e resultado ajustados em um arquivo CSV"
   ]
  },
  {
   "cell_type": "code",
   "execution_count": 6,
   "metadata": {},
   "outputs": [],
   "source": [
    "df.to_csv( \"Arquivos/TesteTreinoChurnAjustado.csv\", index = False, header = True, quoting = csv.QUOTE_NONNUMERIC )"
   ]
  },
  {
   "cell_type": "markdown",
   "metadata": {},
   "source": [
    "## Visualizando Estatísticas Descritivas"
   ]
  },
  {
   "cell_type": "code",
   "execution_count": 7,
   "metadata": {
    "scrolled": false
   },
   "outputs": [
    {
     "data": {
      "text/html": [
       "<div>\n",
       "<style scoped>\n",
       "    .dataframe tbody tr th:only-of-type {\n",
       "        vertical-align: middle;\n",
       "    }\n",
       "\n",
       "    .dataframe tbody tr th {\n",
       "        vertical-align: top;\n",
       "    }\n",
       "\n",
       "    .dataframe thead th {\n",
       "        text-align: right;\n",
       "    }\n",
       "</style>\n",
       "<table border=\"1\" class=\"dataframe\">\n",
       "  <thead>\n",
       "    <tr style=\"text-align: right;\">\n",
       "      <th></th>\n",
       "      <th>churnLinear</th>\n",
       "      <th>churnExponencial_2</th>\n",
       "      <th>churnExponencial_e</th>\n",
       "      <th>churnRecente</th>\n",
       "      <th>Churn</th>\n",
       "      <th>resultado</th>\n",
       "    </tr>\n",
       "  </thead>\n",
       "  <tbody>\n",
       "    <tr>\n",
       "      <th>count</th>\n",
       "      <td>4500.000000</td>\n",
       "      <td>4500.000000</td>\n",
       "      <td>4500.000000</td>\n",
       "      <td>4500.000000</td>\n",
       "      <td>4500.000000</td>\n",
       "      <td>4500.000000</td>\n",
       "    </tr>\n",
       "    <tr>\n",
       "      <th>mean</th>\n",
       "      <td>0.021556</td>\n",
       "      <td>0.263556</td>\n",
       "      <td>0.696222</td>\n",
       "      <td>0.024444</td>\n",
       "      <td>0.023111</td>\n",
       "      <td>0.004000</td>\n",
       "    </tr>\n",
       "    <tr>\n",
       "      <th>std</th>\n",
       "      <td>0.145243</td>\n",
       "      <td>0.440610</td>\n",
       "      <td>0.459939</td>\n",
       "      <td>0.154442</td>\n",
       "      <td>0.150273</td>\n",
       "      <td>0.063126</td>\n",
       "    </tr>\n",
       "    <tr>\n",
       "      <th>min</th>\n",
       "      <td>0.000000</td>\n",
       "      <td>0.000000</td>\n",
       "      <td>0.000000</td>\n",
       "      <td>0.000000</td>\n",
       "      <td>0.000000</td>\n",
       "      <td>0.000000</td>\n",
       "    </tr>\n",
       "    <tr>\n",
       "      <th>25%</th>\n",
       "      <td>0.000000</td>\n",
       "      <td>0.000000</td>\n",
       "      <td>0.000000</td>\n",
       "      <td>0.000000</td>\n",
       "      <td>0.000000</td>\n",
       "      <td>0.000000</td>\n",
       "    </tr>\n",
       "    <tr>\n",
       "      <th>50%</th>\n",
       "      <td>0.000000</td>\n",
       "      <td>0.000000</td>\n",
       "      <td>1.000000</td>\n",
       "      <td>0.000000</td>\n",
       "      <td>0.000000</td>\n",
       "      <td>0.000000</td>\n",
       "    </tr>\n",
       "    <tr>\n",
       "      <th>75%</th>\n",
       "      <td>0.000000</td>\n",
       "      <td>1.000000</td>\n",
       "      <td>1.000000</td>\n",
       "      <td>0.000000</td>\n",
       "      <td>0.000000</td>\n",
       "      <td>0.000000</td>\n",
       "    </tr>\n",
       "    <tr>\n",
       "      <th>max</th>\n",
       "      <td>1.000000</td>\n",
       "      <td>1.000000</td>\n",
       "      <td>1.000000</td>\n",
       "      <td>1.000000</td>\n",
       "      <td>1.000000</td>\n",
       "      <td>1.000000</td>\n",
       "    </tr>\n",
       "  </tbody>\n",
       "</table>\n",
       "</div>"
      ],
      "text/plain": [
       "       churnLinear  churnExponencial_2  churnExponencial_e  churnRecente  \\\n",
       "count  4500.000000         4500.000000         4500.000000   4500.000000   \n",
       "mean      0.021556            0.263556            0.696222      0.024444   \n",
       "std       0.145243            0.440610            0.459939      0.154442   \n",
       "min       0.000000            0.000000            0.000000      0.000000   \n",
       "25%       0.000000            0.000000            0.000000      0.000000   \n",
       "50%       0.000000            0.000000            1.000000      0.000000   \n",
       "75%       0.000000            1.000000            1.000000      0.000000   \n",
       "max       1.000000            1.000000            1.000000      1.000000   \n",
       "\n",
       "             Churn    resultado  \n",
       "count  4500.000000  4500.000000  \n",
       "mean      0.023111     0.004000  \n",
       "std       0.150273     0.063126  \n",
       "min       0.000000     0.000000  \n",
       "25%       0.000000     0.000000  \n",
       "50%       0.000000     0.000000  \n",
       "75%       0.000000     0.000000  \n",
       "max       1.000000     1.000000  "
      ]
     },
     "execution_count": 7,
     "metadata": {},
     "output_type": "execute_result"
    }
   ],
   "source": [
    "df.describe()"
   ]
  },
  {
   "cell_type": "markdown",
   "metadata": {},
   "source": [
    "## Visualizando a proporção de Churns"
   ]
  },
  {
   "cell_type": "code",
   "execution_count": 8,
   "metadata": {
    "scrolled": true
   },
   "outputs": [
    {
     "data": {
      "text/html": [
       "<div>\n",
       "<style scoped>\n",
       "    .dataframe tbody tr th:only-of-type {\n",
       "        vertical-align: middle;\n",
       "    }\n",
       "\n",
       "    .dataframe tbody tr th {\n",
       "        vertical-align: top;\n",
       "    }\n",
       "\n",
       "    .dataframe thead th {\n",
       "        text-align: right;\n",
       "    }\n",
       "</style>\n",
       "<table border=\"1\" class=\"dataframe\">\n",
       "  <thead>\n",
       "    <tr style=\"text-align: right;\">\n",
       "      <th></th>\n",
       "      <th>churnLinear</th>\n",
       "      <th>churnExponencial_2</th>\n",
       "      <th>churnExponencial_e</th>\n",
       "      <th>churnRecente</th>\n",
       "      <th>Churn</th>\n",
       "      <th>resultado</th>\n",
       "    </tr>\n",
       "  </thead>\n",
       "  <tbody>\n",
       "    <tr>\n",
       "      <th>zeros</th>\n",
       "      <td>4403</td>\n",
       "      <td>3314</td>\n",
       "      <td>1367</td>\n",
       "      <td>4390</td>\n",
       "      <td>4396</td>\n",
       "      <td>4482</td>\n",
       "    </tr>\n",
       "    <tr>\n",
       "      <th>uns</th>\n",
       "      <td>97</td>\n",
       "      <td>1186</td>\n",
       "      <td>3133</td>\n",
       "      <td>110</td>\n",
       "      <td>104</td>\n",
       "      <td>18</td>\n",
       "    </tr>\n",
       "  </tbody>\n",
       "</table>\n",
       "</div>"
      ],
      "text/plain": [
       "       churnLinear  churnExponencial_2  churnExponencial_e  churnRecente  \\\n",
       "zeros         4403                3314                1367          4390   \n",
       "uns             97                1186                3133           110   \n",
       "\n",
       "       Churn  resultado  \n",
       "zeros   4396       4482  \n",
       "uns      104         18  "
      ]
     },
     "execution_count": 8,
     "metadata": {},
     "output_type": "execute_result"
    }
   ],
   "source": [
    "# Aplicar a função a cada coluna\n",
    "df.apply(contar_zeros_uns)"
   ]
  },
  {
   "cell_type": "markdown",
   "metadata": {},
   "source": [
    "## Validando os Modelos"
   ]
  },
  {
   "cell_type": "code",
   "execution_count": 9,
   "metadata": {},
   "outputs": [],
   "source": [
    "real = df[\"resultado\"]\n",
    "linear, exp2, expE, recente, churn = df[\"churnLinear\"], df[\"churnExponencial_2\"], df[\"churnExponencial_e\"], df[\"churnRecente\"], df[\"Churn\"]"
   ]
  },
  {
   "cell_type": "code",
   "execution_count": 10,
   "metadata": {},
   "outputs": [
    {
     "name": "stdout",
     "output_type": "stream",
     "text": [
      "R² = [-3.406514948683623, -64.14948683623382, -172.75055778670236, -4.131637661758144, -3.908522980812137]\n"
     ]
    },
    {
     "data": {
      "image/png": "[encoded data removed]",
      "text/plain": [
       "<Figure size 1080x576 with 5 Axes>"
      ]
     },
     "metadata": {
      "needs_background": "light"
     },
     "output_type": "display_data"
    }
   ],
   "source": [
    "r2, CM = validacaoR2MatrizConfusao(\n",
    "            real, \n",
    "            predict = [linear, exp2, expE, recente, churn], \n",
    "            titulos = [\"Churn Linear\", \"Churn Exponencial Base 2\", \"Churn Exponencial Base e\", \"Churn Recente\", \"Churn\"], \n",
    "            tamanhos = (15,8)\n",
    "            )"
   ]
  },
  {
   "cell_type": "code",
   "execution_count": 11,
   "metadata": {},
   "outputs": [
    {
     "name": "stdout",
     "output_type": "stream",
     "text": [
      "Churn Linear:\n",
      "Acurácia: 98.24%\n",
      "\n",
      "Classe     Precisão     Revocação    F1-Score    \n",
      "---------------------------------------------\n",
      "0.0        100.00       98.24        99.11       \n",
      "1.0        18.56        100.00       31.30       \n",
      "\n",
      "\n",
      "\n",
      "Churn Exponencial Base 2:\n",
      "Acurácia: 74.04%\n",
      "\n",
      "Classe     Precisão     Revocação    F1-Score    \n",
      "---------------------------------------------\n",
      "0.0        100.00       73.94        85.02       \n",
      "1.0        1.52         100.00       2.99        \n",
      "\n",
      "\n",
      "\n",
      "Churn Exponencial Base e:\n",
      "Acurácia: 30.78%\n",
      "\n",
      "Classe     Precisão     Revocação    F1-Score    \n",
      "---------------------------------------------\n",
      "0.0        100.00       30.50        46.74       \n",
      "1.0        0.57         100.00       1.14        \n",
      "\n",
      "\n",
      "\n",
      "Churn Recente:\n",
      "Acurácia: 97.96%\n",
      "\n",
      "Classe     Precisão     Revocação    F1-Score    \n",
      "---------------------------------------------\n",
      "0.0        100.00       97.95        98.96       \n",
      "1.0        16.36        100.00       28.12       \n",
      "\n",
      "\n",
      "\n",
      "Churn:\n",
      "Acurácia: 98.04%\n",
      "\n",
      "Classe     Precisão     Revocação    F1-Score    \n",
      "---------------------------------------------\n",
      "0.0        99.98        98.06        99.01       \n",
      "1.0        16.35        94.44        27.87       \n"
     ]
    }
   ],
   "source": [
    "print(\"Churn Linear:\")\n",
    "calculaValoresAvaliacao(linear, real)\n",
    "print(\"\\n\\n\")\n",
    "print(\"Churn Exponencial Base 2:\")\n",
    "calculaValoresAvaliacao(exp2, real)\n",
    "print(\"\\n\\n\")\n",
    "print(\"Churn Exponencial Base e:\")\n",
    "calculaValoresAvaliacao(expE, real)\n",
    "print(\"\\n\\n\")\n",
    "print(\"Churn Recente:\")\n",
    "calculaValoresAvaliacao(recente, real)\n",
    "print(\"\\n\\n\")\n",
    "print(\"Churn:\")\n",
    "calculaValoresAvaliacao(churn, real)"
   ]
  }
 ],
 "metadata": {
  "kernelspec": {
   "display_name": "Python 3 (ipykernel)",
   "language": "python",
   "name": "python3"
  },
  "language_info": {
   "codemirror_mode": {
    "name": "ipython",
    "version": 3
   },
   "file_extension": ".py",
   "mimetype": "text/x-python",
   "name": "python",
   "nbconvert_exporter": "python",
   "pygments_lexer": "ipython3",
   "version": "3.7.3"
  },
  "widgets": {
   "application/vnd.jupyter.widget-state+json": {
    "state": {},
    "version_major": 2,
    "version_minor": 0
   }
  }
 },
 "nbformat": 4,
 "nbformat_minor": 5
}
