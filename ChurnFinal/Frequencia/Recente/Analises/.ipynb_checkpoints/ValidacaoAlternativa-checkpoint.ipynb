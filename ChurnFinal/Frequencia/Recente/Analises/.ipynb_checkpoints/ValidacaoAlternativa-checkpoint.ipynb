{
 "cells": [
  {
   "cell_type": "markdown",
   "id": "744e709e-750e-402c-b10f-28afd5abebab",
   "metadata": {},
   "source": [
    "# Validação do modelo de Churn\n",
    "---"
   ]
  },
  {
   "cell_type": "code",
   "execution_count": 1,
   "id": "6745b32c-c7f5-4323-a4b8-0ff7219868c2",
   "metadata": {},
   "outputs": [],
   "source": [
    "import pandas as pd\n",
    "import matplotlib.pyplot as plt\n",
    "from sklearn.calibration import calibration_curve\n",
    "from sklearn.metrics import log_loss, roc_auc_score, brier_score_loss, precision_recall_curve, auc"
   ]
  },
  {
   "cell_type": "markdown",
   "id": "2db11468-39fd-44f0-b6b5-c04ee9cb944f",
   "metadata": {},
   "source": [
    "## Leitura dos dados"
   ]
  },
  {
   "cell_type": "code",
   "execution_count": 2,
   "id": "40c71f27-3384-49b4-b5ee-4e79684fd59b",
   "metadata": {},
   "outputs": [
    {
     "data": {
      "text/html": [
       "<div>\n",
       "<style scoped>\n",
       "    .dataframe tbody tr th:only-of-type {\n",
       "        vertical-align: middle;\n",
       "    }\n",
       "\n",
       "    .dataframe tbody tr th {\n",
       "        vertical-align: top;\n",
       "    }\n",
       "\n",
       "    .dataframe thead th {\n",
       "        text-align: right;\n",
       "    }\n",
       "</style>\n",
       "<table border=\"1\" class=\"dataframe\">\n",
       "  <thead>\n",
       "    <tr style=\"text-align: right;\">\n",
       "      <th></th>\n",
       "      <th>id</th>\n",
       "      <th>churnLinear</th>\n",
       "      <th>churnExponencial_2</th>\n",
       "      <th>churnExponencial_e</th>\n",
       "      <th>churnRecente</th>\n",
       "      <th>resultado</th>\n",
       "    </tr>\n",
       "  </thead>\n",
       "  <tbody>\n",
       "    <tr>\n",
       "      <th>0</th>\n",
       "      <td>2378</td>\n",
       "      <td>0.363300</td>\n",
       "      <td>0.447457</td>\n",
       "      <td>0.351348</td>\n",
       "      <td>0.346369</td>\n",
       "      <td>não churn</td>\n",
       "    </tr>\n",
       "    <tr>\n",
       "      <th>1</th>\n",
       "      <td>576</td>\n",
       "      <td>0.447830</td>\n",
       "      <td>0.419347</td>\n",
       "      <td>0.331906</td>\n",
       "      <td>0.452514</td>\n",
       "      <td>não churn</td>\n",
       "    </tr>\n",
       "    <tr>\n",
       "      <th>2</th>\n",
       "      <td>704</td>\n",
       "      <td>0.319136</td>\n",
       "      <td>0.387097</td>\n",
       "      <td>0.320250</td>\n",
       "      <td>0.307263</td>\n",
       "      <td>não churn</td>\n",
       "    </tr>\n",
       "    <tr>\n",
       "      <th>3</th>\n",
       "      <td>3818</td>\n",
       "      <td>0.386128</td>\n",
       "      <td>0.419354</td>\n",
       "      <td>0.331906</td>\n",
       "      <td>0.365922</td>\n",
       "      <td>não churn</td>\n",
       "    </tr>\n",
       "    <tr>\n",
       "      <th>4</th>\n",
       "      <td>1972</td>\n",
       "      <td>0.427771</td>\n",
       "      <td>0.387099</td>\n",
       "      <td>0.320250</td>\n",
       "      <td>0.430168</td>\n",
       "      <td>não churn</td>\n",
       "    </tr>\n",
       "    <tr>\n",
       "      <th>...</th>\n",
       "      <td>...</td>\n",
       "      <td>...</td>\n",
       "      <td>...</td>\n",
       "      <td>...</td>\n",
       "      <td>...</td>\n",
       "      <td>...</td>\n",
       "    </tr>\n",
       "    <tr>\n",
       "      <th>4495</th>\n",
       "      <td>124</td>\n",
       "      <td>0.176044</td>\n",
       "      <td>0.004032</td>\n",
       "      <td>0.000580</td>\n",
       "      <td>0.245614</td>\n",
       "      <td>não churn</td>\n",
       "    </tr>\n",
       "    <tr>\n",
       "      <th>4496</th>\n",
       "      <td>3958</td>\n",
       "      <td>0.384150</td>\n",
       "      <td>0.193548</td>\n",
       "      <td>0.117813</td>\n",
       "      <td>0.403509</td>\n",
       "      <td>não churn</td>\n",
       "    </tr>\n",
       "    <tr>\n",
       "      <th>4497</th>\n",
       "      <td>777</td>\n",
       "      <td>0.188748</td>\n",
       "      <td>0.001099</td>\n",
       "      <td>0.000082</td>\n",
       "      <td>0.263158</td>\n",
       "      <td>não churn</td>\n",
       "    </tr>\n",
       "    <tr>\n",
       "      <th>4498</th>\n",
       "      <td>3276</td>\n",
       "      <td>0.226190</td>\n",
       "      <td>0.129032</td>\n",
       "      <td>0.086129</td>\n",
       "      <td>0.267857</td>\n",
       "      <td>não churn</td>\n",
       "    </tr>\n",
       "    <tr>\n",
       "      <th>4499</th>\n",
       "      <td>1573</td>\n",
       "      <td>0.436717</td>\n",
       "      <td>0.388096</td>\n",
       "      <td>0.320329</td>\n",
       "      <td>0.464286</td>\n",
       "      <td>não churn</td>\n",
       "    </tr>\n",
       "  </tbody>\n",
       "</table>\n",
       "<p>4500 rows × 6 columns</p>\n",
       "</div>"
      ],
      "text/plain": [
       "        id  churnLinear  churnExponencial_2  churnExponencial_e  churnRecente  \\\n",
       "0     2378     0.363300            0.447457            0.351348      0.346369   \n",
       "1      576     0.447830            0.419347            0.331906      0.452514   \n",
       "2      704     0.319136            0.387097            0.320250      0.307263   \n",
       "3     3818     0.386128            0.419354            0.331906      0.365922   \n",
       "4     1972     0.427771            0.387099            0.320250      0.430168   \n",
       "...    ...          ...                 ...                 ...           ...   \n",
       "4495   124     0.176044            0.004032            0.000580      0.245614   \n",
       "4496  3958     0.384150            0.193548            0.117813      0.403509   \n",
       "4497   777     0.188748            0.001099            0.000082      0.263158   \n",
       "4498  3276     0.226190            0.129032            0.086129      0.267857   \n",
       "4499  1573     0.436717            0.388096            0.320329      0.464286   \n",
       "\n",
       "      resultado  \n",
       "0     não churn  \n",
       "1     não churn  \n",
       "2     não churn  \n",
       "3     não churn  \n",
       "4     não churn  \n",
       "...         ...  \n",
       "4495  não churn  \n",
       "4496  não churn  \n",
       "4497  não churn  \n",
       "4498  não churn  \n",
       "4499  não churn  \n",
       "\n",
       "[4500 rows x 6 columns]"
      ]
     },
     "execution_count": 2,
     "metadata": {},
     "output_type": "execute_result"
    }
   ],
   "source": [
    "df = pd.read_csv('resultadoChurn.csv')\n",
    "df"
   ]
  },
  {
   "cell_type": "markdown",
   "id": "b084b164-0a63-450d-9ca9-fd0aae51e51e",
   "metadata": {},
   "source": [
    "## Ajustando os dados"
   ]
  },
  {
   "cell_type": "code",
   "execution_count": 3,
   "id": "81435032-dbbe-424c-86bf-96511864ce62",
   "metadata": {},
   "outputs": [
    {
     "data": {
      "text/html": [
       "<div>\n",
       "<style scoped>\n",
       "    .dataframe tbody tr th:only-of-type {\n",
       "        vertical-align: middle;\n",
       "    }\n",
       "\n",
       "    .dataframe tbody tr th {\n",
       "        vertical-align: top;\n",
       "    }\n",
       "\n",
       "    .dataframe thead th {\n",
       "        text-align: right;\n",
       "    }\n",
       "</style>\n",
       "<table border=\"1\" class=\"dataframe\">\n",
       "  <thead>\n",
       "    <tr style=\"text-align: right;\">\n",
       "      <th></th>\n",
       "      <th>id</th>\n",
       "      <th>churnLinear</th>\n",
       "      <th>churnExponencial_2</th>\n",
       "      <th>churnExponencial_e</th>\n",
       "      <th>churnRecente</th>\n",
       "      <th>resultado</th>\n",
       "    </tr>\n",
       "  </thead>\n",
       "  <tbody>\n",
       "    <tr>\n",
       "      <th>0</th>\n",
       "      <td>2378</td>\n",
       "      <td>0.363300</td>\n",
       "      <td>0.447457</td>\n",
       "      <td>0.351348</td>\n",
       "      <td>0.346369</td>\n",
       "      <td>0.0</td>\n",
       "    </tr>\n",
       "    <tr>\n",
       "      <th>1</th>\n",
       "      <td>576</td>\n",
       "      <td>0.447830</td>\n",
       "      <td>0.419347</td>\n",
       "      <td>0.331906</td>\n",
       "      <td>0.452514</td>\n",
       "      <td>0.0</td>\n",
       "    </tr>\n",
       "    <tr>\n",
       "      <th>2</th>\n",
       "      <td>704</td>\n",
       "      <td>0.319136</td>\n",
       "      <td>0.387097</td>\n",
       "      <td>0.320250</td>\n",
       "      <td>0.307263</td>\n",
       "      <td>0.0</td>\n",
       "    </tr>\n",
       "    <tr>\n",
       "      <th>3</th>\n",
       "      <td>3818</td>\n",
       "      <td>0.386128</td>\n",
       "      <td>0.419354</td>\n",
       "      <td>0.331906</td>\n",
       "      <td>0.365922</td>\n",
       "      <td>0.0</td>\n",
       "    </tr>\n",
       "    <tr>\n",
       "      <th>4</th>\n",
       "      <td>1972</td>\n",
       "      <td>0.427771</td>\n",
       "      <td>0.387099</td>\n",
       "      <td>0.320250</td>\n",
       "      <td>0.430168</td>\n",
       "      <td>0.0</td>\n",
       "    </tr>\n",
       "    <tr>\n",
       "      <th>...</th>\n",
       "      <td>...</td>\n",
       "      <td>...</td>\n",
       "      <td>...</td>\n",
       "      <td>...</td>\n",
       "      <td>...</td>\n",
       "      <td>...</td>\n",
       "    </tr>\n",
       "    <tr>\n",
       "      <th>4495</th>\n",
       "      <td>124</td>\n",
       "      <td>0.176044</td>\n",
       "      <td>0.004032</td>\n",
       "      <td>0.000580</td>\n",
       "      <td>0.245614</td>\n",
       "      <td>0.0</td>\n",
       "    </tr>\n",
       "    <tr>\n",
       "      <th>4496</th>\n",
       "      <td>3958</td>\n",
       "      <td>0.384150</td>\n",
       "      <td>0.193548</td>\n",
       "      <td>0.117813</td>\n",
       "      <td>0.403509</td>\n",
       "      <td>0.0</td>\n",
       "    </tr>\n",
       "    <tr>\n",
       "      <th>4497</th>\n",
       "      <td>777</td>\n",
       "      <td>0.188748</td>\n",
       "      <td>0.001099</td>\n",
       "      <td>0.000082</td>\n",
       "      <td>0.263158</td>\n",
       "      <td>0.0</td>\n",
       "    </tr>\n",
       "    <tr>\n",
       "      <th>4498</th>\n",
       "      <td>3276</td>\n",
       "      <td>0.226190</td>\n",
       "      <td>0.129032</td>\n",
       "      <td>0.086129</td>\n",
       "      <td>0.267857</td>\n",
       "      <td>0.0</td>\n",
       "    </tr>\n",
       "    <tr>\n",
       "      <th>4499</th>\n",
       "      <td>1573</td>\n",
       "      <td>0.436717</td>\n",
       "      <td>0.388096</td>\n",
       "      <td>0.320329</td>\n",
       "      <td>0.464286</td>\n",
       "      <td>0.0</td>\n",
       "    </tr>\n",
       "  </tbody>\n",
       "</table>\n",
       "<p>4500 rows × 6 columns</p>\n",
       "</div>"
      ],
      "text/plain": [
       "        id  churnLinear  churnExponencial_2  churnExponencial_e  churnRecente  \\\n",
       "0     2378     0.363300            0.447457            0.351348      0.346369   \n",
       "1      576     0.447830            0.419347            0.331906      0.452514   \n",
       "2      704     0.319136            0.387097            0.320250      0.307263   \n",
       "3     3818     0.386128            0.419354            0.331906      0.365922   \n",
       "4     1972     0.427771            0.387099            0.320250      0.430168   \n",
       "...    ...          ...                 ...                 ...           ...   \n",
       "4495   124     0.176044            0.004032            0.000580      0.245614   \n",
       "4496  3958     0.384150            0.193548            0.117813      0.403509   \n",
       "4497   777     0.188748            0.001099            0.000082      0.263158   \n",
       "4498  3276     0.226190            0.129032            0.086129      0.267857   \n",
       "4499  1573     0.436717            0.388096            0.320329      0.464286   \n",
       "\n",
       "      resultado  \n",
       "0           0.0  \n",
       "1           0.0  \n",
       "2           0.0  \n",
       "3           0.0  \n",
       "4           0.0  \n",
       "...         ...  \n",
       "4495        0.0  \n",
       "4496        0.0  \n",
       "4497        0.0  \n",
       "4498        0.0  \n",
       "4499        0.0  \n",
       "\n",
       "[4500 rows x 6 columns]"
      ]
     },
     "execution_count": 3,
     "metadata": {},
     "output_type": "execute_result"
    }
   ],
   "source": [
    "df[\"resultado\"] = df['resultado'].apply(lambda x: 1.0 if x == \"churn\" else 0.0)\n",
    "df"
   ]
  },
  {
   "cell_type": "markdown",
   "id": "c7baa366-fd55-492d-964d-24b23513c7ad",
   "metadata": {},
   "source": [
    "## Validando o modelo"
   ]
  },
  {
   "cell_type": "markdown",
   "id": "9825653b-6a48-4826-afc8-b2a7c5b67ad0",
   "metadata": {},
   "source": [
    "### Modelo Linear:"
   ]
  },
  {
   "cell_type": "code",
   "execution_count": 4,
   "id": "480afe13-d88e-4a52-b49a-c9deeac16aea",
   "metadata": {},
   "outputs": [],
   "source": [
    "y_true, y_prob = df[\"resultado\"], df[\"churnLinear\"]"
   ]
  },
  {
   "cell_type": "markdown",
   "id": "fc1af10b-757b-431c-b0d3-b53b551f2f17",
   "metadata": {},
   "source": [
    "#### Log Loss"
   ]
  },
  {
   "cell_type": "code",
   "execution_count": 5,
   "id": "7793794b-43ed-4d64-ab41-6db2a1d6c224",
   "metadata": {},
   "outputs": [
    {
     "name": "stdout",
     "output_type": "stream",
     "text": [
      "Log Loss: 0.47050688086388054\n"
     ]
    }
   ],
   "source": [
    "logloss = log_loss(y_true, y_prob)\n",
    "print('Log Loss:', logloss)"
   ]
  },
  {
   "cell_type": "markdown",
   "id": "c0c6aacb-faf5-4cbf-a880-dacd922bd0ed",
   "metadata": {},
   "source": [
    "#### ROC AUC"
   ]
  },
  {
   "cell_type": "code",
   "execution_count": 6,
   "id": "1d335b38-dd00-453a-9cde-66b8618525ba",
   "metadata": {},
   "outputs": [
    {
     "name": "stdout",
     "output_type": "stream",
     "text": [
      "ROC AUC: 0.9531353024808373\n"
     ]
    }
   ],
   "source": [
    "roc_auc = roc_auc_score(y_true, y_prob)\n",
    "print('ROC AUC:', roc_auc)"
   ]
  },
  {
   "cell_type": "markdown",
   "id": "68a35715-0689-4466-821d-84b692d8effd",
   "metadata": {},
   "source": [
    "#### Brier Score"
   ]
  },
  {
   "cell_type": "code",
   "execution_count": 7,
   "id": "b6f3c9c1-c577-4123-b687-44bcf7dd3eae",
   "metadata": {},
   "outputs": [
    {
     "name": "stdout",
     "output_type": "stream",
     "text": [
      "Brier Score: 0.14378594713318385\n"
     ]
    }
   ],
   "source": [
    "brier = brier_score_loss(y_true, y_prob)\n",
    "print('Brier Score:', brier)"
   ]
  },
  {
   "cell_type": "markdown",
   "id": "3d64e03d-f091-4b2b-aef9-d69b0f98fdd9",
   "metadata": {},
   "source": [
    "#### Precision-Recall AUC"
   ]
  },
  {
   "cell_type": "code",
   "execution_count": 8,
   "id": "65b73a61-5155-4c6a-aad2-f3714a7bc6ab",
   "metadata": {},
   "outputs": [
    {
     "name": "stdout",
     "output_type": "stream",
     "text": [
      "Precision-Recall AUC: 0.6000253891432998\n"
     ]
    }
   ],
   "source": [
    "precision, recall, _ = precision_recall_curve(y_true, y_prob)\n",
    "pr_auc = auc(recall, precision)\n",
    "print('Precision-Recall AUC:', pr_auc)"
   ]
  },
  {
   "cell_type": "markdown",
   "id": "1268b149-9ee3-4245-bcdb-04ac15f1a211",
   "metadata": {},
   "source": [
    "##### Calibration Curve"
   ]
  },
  {
   "cell_type": "code",
   "execution_count": 9,
   "id": "95f998ea-3bea-4cd8-b9a1-8d2ccc03a35b",
   "metadata": {},
   "outputs": [
    {
     "data": {
      "image/png": "[encoded data removed]",
      "text/plain": [
       "<Figure size 640x480 with 1 Axes>"
      ]
     },
     "metadata": {},
     "output_type": "display_data"
    }
   ],
   "source": [
    "prob_true, prob_pred = calibration_curve(y_true, y_prob, n_bins=10)\n",
    "\n",
    "plt.plot(prob_pred, prob_true, marker='o', label='Calibration curve')\n",
    "plt.plot([0, 1], [0, 1], linestyle='--', label='Perfectly calibrated')\n",
    "plt.xlabel('Mean predicted probability')\n",
    "plt.ylabel('Fraction of positives')\n",
    "plt.legend()\n",
    "plt.show()"
   ]
  },
  {
   "cell_type": "markdown",
   "id": "a9a63bc3-83b9-4ddc-80f6-c08f5a4bab59",
   "metadata": {},
   "source": [
    "### Modelo Exponencial de base 2:"
   ]
  },
  {
   "cell_type": "code",
   "execution_count": 10,
   "id": "aaf38297-f00d-4eef-9eaf-1c7d9eb989d6",
   "metadata": {},
   "outputs": [],
   "source": [
    "y_true, y_prob = df[\"resultado\"], df[\"churnExponencial_2\"]"
   ]
  },
  {
   "cell_type": "markdown",
   "id": "f772792a-b019-4bb2-acd3-4183da3f8caa",
   "metadata": {},
   "source": [
    "#### Log Loss"
   ]
  },
  {
   "cell_type": "code",
   "execution_count": 11,
   "id": "a6f7e05b-95fc-441b-8f4c-d2d8d2ca738f",
   "metadata": {},
   "outputs": [
    {
     "name": "stdout",
     "output_type": "stream",
     "text": [
      "Log Loss: 0.3710050129133647\n"
     ]
    }
   ],
   "source": [
    "logloss = log_loss(y_true, y_prob)\n",
    "print('Log Loss:', logloss)"
   ]
  },
  {
   "cell_type": "markdown",
   "id": "6c57565c-ecb9-4a53-8ade-ba8a858dc8c6",
   "metadata": {},
   "source": [
    "#### ROC AUC"
   ]
  },
  {
   "cell_type": "code",
   "execution_count": 12,
   "id": "9172ce4a-d33b-43bb-9c40-4be0049da72e",
   "metadata": {},
   "outputs": [
    {
     "name": "stdout",
     "output_type": "stream",
     "text": [
      "ROC AUC: 0.9370917641968186\n"
     ]
    }
   ],
   "source": [
    "roc_auc = roc_auc_score(y_true, y_prob)\n",
    "print('ROC AUC:', roc_auc)"
   ]
  },
  {
   "cell_type": "markdown",
   "id": "c0090419-c186-4b12-9854-b6548bf87235",
   "metadata": {},
   "source": [
    "#### Brier Score"
   ]
  },
  {
   "cell_type": "code",
   "execution_count": 13,
   "id": "b65948c7-4743-4e1b-a6e4-0158b980d171",
   "metadata": {},
   "outputs": [
    {
     "name": "stdout",
     "output_type": "stream",
     "text": [
      "Brier Score: 0.10429233088228032\n"
     ]
    }
   ],
   "source": [
    "brier = brier_score_loss(y_true, y_prob)\n",
    "print('Brier Score:', brier)"
   ]
  },
  {
   "cell_type": "markdown",
   "id": "07291d38-e768-4b2f-8b91-414ca5e13196",
   "metadata": {},
   "source": [
    "#### Precision-Recall AUC"
   ]
  },
  {
   "cell_type": "code",
   "execution_count": 14,
   "id": "bf691af1-d027-4ca9-83e1-1934ce667786",
   "metadata": {},
   "outputs": [
    {
     "name": "stdout",
     "output_type": "stream",
     "text": [
      "Precision-Recall AUC: 0.6430182663851409\n"
     ]
    }
   ],
   "source": [
    "precision, recall, _ = precision_recall_curve(y_true, y_prob)\n",
    "pr_auc = auc(recall, precision)\n",
    "print('Precision-Recall AUC:', pr_auc)"
   ]
  },
  {
   "cell_type": "markdown",
   "id": "b80d8a27-3a53-4dae-9154-8fd9584ab06b",
   "metadata": {},
   "source": [
    "##### Calibration Curve"
   ]
  },
  {
   "cell_type": "code",
   "execution_count": 15,
   "id": "5145e372-f570-4a37-9125-b96f38a2a76a",
   "metadata": {},
   "outputs": [
    {
     "data": {
      "image/png": "[encoded data removed]",
      "text/plain": [
       "<Figure size 640x480 with 1 Axes>"
      ]
     },
     "metadata": {},
     "output_type": "display_data"
    }
   ],
   "source": [
    "prob_true, prob_pred = calibration_curve(y_true, y_prob, n_bins=10)\n",
    "\n",
    "plt.plot(prob_pred, prob_true, marker='o', label='Calibration curve')\n",
    "plt.plot([0, 1], [0, 1], linestyle='--', label='Perfectly calibrated')\n",
    "plt.xlabel('Mean predicted probability')\n",
    "plt.ylabel('Fraction of positives')\n",
    "plt.legend()\n",
    "plt.show()"
   ]
  },
  {
   "cell_type": "markdown",
   "id": "d6f323d5-6731-4f72-b588-59fe0497ab27",
   "metadata": {},
   "source": [
    "### Modelo Exponencial de base e:"
   ]
  },
  {
   "cell_type": "code",
   "execution_count": 16,
   "id": "9f6b949f-2b65-4b3f-ab3f-36d968e4d782",
   "metadata": {},
   "outputs": [],
   "source": [
    "y_true, y_prob = df[\"resultado\"], df[\"churnExponencial_e\"]"
   ]
  },
  {
   "cell_type": "markdown",
   "id": "d4df20d3-ca8b-43ac-9f6c-7ae35df49038",
   "metadata": {},
   "source": [
    "#### Log Loss"
   ]
  },
  {
   "cell_type": "code",
   "execution_count": 17,
   "id": "a8900de0-b172-4b39-9487-46b51d3de010",
   "metadata": {},
   "outputs": [
    {
     "name": "stdout",
     "output_type": "stream",
     "text": [
      "Log Loss: 0.2989097253148035\n"
     ]
    }
   ],
   "source": [
    "logloss = log_loss(y_true, y_prob)\n",
    "print('Log Loss:', logloss)"
   ]
  },
  {
   "cell_type": "markdown",
   "id": "91a64b07-2ab6-4121-a8f2-5b98b95b294b",
   "metadata": {},
   "source": [
    "#### ROC AUC"
   ]
  },
  {
   "cell_type": "code",
   "execution_count": 18,
   "id": "10cb5bab-b268-4154-b5aa-2252bf4f1422",
   "metadata": {},
   "outputs": [
    {
     "name": "stdout",
     "output_type": "stream",
     "text": [
      "ROC AUC: 0.9370814617159811\n"
     ]
    }
   ],
   "source": [
    "roc_auc = roc_auc_score(y_true, y_prob)\n",
    "print('ROC AUC:', roc_auc)"
   ]
  },
  {
   "cell_type": "markdown",
   "id": "d4587726-eff1-4f92-8d23-290b75e55d08",
   "metadata": {},
   "source": [
    "#### Brier Score"
   ]
  },
  {
   "cell_type": "code",
   "execution_count": 19,
   "id": "ccc8be9b-97ff-4021-9791-472bf2096e41",
   "metadata": {},
   "outputs": [
    {
     "name": "stdout",
     "output_type": "stream",
     "text": [
      "Brier Score: 0.07350562876689051\n"
     ]
    }
   ],
   "source": [
    "brier = brier_score_loss(y_true, y_prob)\n",
    "print('Brier Score:', brier)"
   ]
  },
  {
   "cell_type": "markdown",
   "id": "767f9902-cdd8-4972-9de5-6b22e8210fc9",
   "metadata": {},
   "source": [
    "#### Precision-Recall AUC"
   ]
  },
  {
   "cell_type": "code",
   "execution_count": 20,
   "id": "367af85b-628a-483a-8746-3df2b9674715",
   "metadata": {},
   "outputs": [
    {
     "name": "stdout",
     "output_type": "stream",
     "text": [
      "Precision-Recall AUC: 0.6434294836248994\n"
     ]
    }
   ],
   "source": [
    "precision, recall, _ = precision_recall_curve(y_true, y_prob)\n",
    "pr_auc = auc(recall, precision)\n",
    "print('Precision-Recall AUC:', pr_auc)"
   ]
  },
  {
   "cell_type": "markdown",
   "id": "3ed6ba11-eee4-4154-8c63-854009968eec",
   "metadata": {},
   "source": [
    "##### Calibration Curve"
   ]
  },
  {
   "cell_type": "code",
   "execution_count": 21,
   "id": "44c9b8f9-8da8-4227-a5b4-1aa8ec057ba9",
   "metadata": {},
   "outputs": [
    {
     "data": {
      "image/png": "[encoded data removed]",
      "text/plain": [
       "<Figure size 640x480 with 1 Axes>"
      ]
     },
     "metadata": {},
     "output_type": "display_data"
    }
   ],
   "source": [
    "prob_true, prob_pred = calibration_curve(y_true, y_prob, n_bins=10)\n",
    "\n",
    "plt.plot(prob_pred, prob_true, marker='o', label='Calibration curve')\n",
    "plt.plot([0, 1], [0, 1], linestyle='--', label='Perfectly calibrated')\n",
    "plt.xlabel('Mean predicted probability')\n",
    "plt.ylabel('Fraction of positives')\n",
    "plt.legend()\n",
    "plt.show()"
   ]
  },
  {
   "cell_type": "markdown",
   "id": "14be3be6-9c2c-43ac-87b3-af44e4ccc7ce",
   "metadata": {},
   "source": [
    "### Modelo Recente:"
   ]
  },
  {
   "cell_type": "code",
   "execution_count": 22,
   "id": "f50cc9d3-1c57-4bd0-a061-49febb27e709",
   "metadata": {},
   "outputs": [],
   "source": [
    "y_true, y_prob = df[\"resultado\"], df[\"churnRecente\"]"
   ]
  },
  {
   "cell_type": "markdown",
   "id": "e03b2141-e923-4c58-aaeb-d8f572467a22",
   "metadata": {},
   "source": [
    "#### Log Loss"
   ]
  },
  {
   "cell_type": "code",
   "execution_count": 23,
   "id": "f3594c0e-7ef6-404a-95bb-dcf9e5899415",
   "metadata": {},
   "outputs": [
    {
     "name": "stdout",
     "output_type": "stream",
     "text": [
      "Log Loss: 0.5005863703366148\n"
     ]
    }
   ],
   "source": [
    "logloss = log_loss(y_true, y_prob)\n",
    "print('Log Loss:', logloss)"
   ]
  },
  {
   "cell_type": "markdown",
   "id": "cf54fc57-9bc4-4195-8f93-7afcc1bfccd9",
   "metadata": {},
   "source": [
    "#### ROC AUC"
   ]
  },
  {
   "cell_type": "code",
   "execution_count": 24,
   "id": "6af3c5e5-af39-4a3f-9b3a-89df21fc4f8a",
   "metadata": {},
   "outputs": [
    {
     "name": "stdout",
     "output_type": "stream",
     "text": [
      "ROC AUC: 0.9356944902332481\n"
     ]
    }
   ],
   "source": [
    "roc_auc = roc_auc_score(y_true, y_prob)\n",
    "print('ROC AUC:', roc_auc)"
   ]
  },
  {
   "cell_type": "markdown",
   "id": "8aa6a28d-6f4e-41a8-b844-984e5f0bfd22",
   "metadata": {},
   "source": [
    "#### Brier Score"
   ]
  },
  {
   "cell_type": "code",
   "execution_count": 25,
   "id": "e7a4605f-59f3-4e5e-90c5-d31000c1dd80",
   "metadata": {},
   "outputs": [
    {
     "name": "stdout",
     "output_type": "stream",
     "text": [
      "Brier Score: 0.1572775771628786\n"
     ]
    }
   ],
   "source": [
    "brier = brier_score_loss(y_true, y_prob)\n",
    "print('Brier Score:', brier)"
   ]
  },
  {
   "cell_type": "markdown",
   "id": "05f1de0c-64a5-4288-a7ae-ed33cb4f482f",
   "metadata": {},
   "source": [
    "#### Precision-Recall AUC"
   ]
  },
  {
   "cell_type": "code",
   "execution_count": 26,
   "id": "04adb813-09ff-4e79-a418-dba509c258b4",
   "metadata": {},
   "outputs": [
    {
     "name": "stdout",
     "output_type": "stream",
     "text": [
      "Precision-Recall AUC: 0.5734754207223625\n"
     ]
    }
   ],
   "source": [
    "precision, recall, _ = precision_recall_curve(y_true, y_prob)\n",
    "pr_auc = auc(recall, precision)\n",
    "print('Precision-Recall AUC:', pr_auc)"
   ]
  },
  {
   "cell_type": "markdown",
   "id": "8745ce4c-abc7-40f4-b23e-280c734ed6ef",
   "metadata": {},
   "source": [
    "##### Calibration Curve"
   ]
  },
  {
   "cell_type": "code",
   "execution_count": 27,
   "id": "46728409-4e86-4462-9f28-33261d4d30dc",
   "metadata": {},
   "outputs": [
    {
     "data": {
      "image/png": "[encoded data removed]",
      "text/plain": [
       "<Figure size 640x480 with 1 Axes>"
      ]
     },
     "metadata": {},
     "output_type": "display_data"
    }
   ],
   "source": [
    "prob_true, prob_pred = calibration_curve(y_true, y_prob, n_bins=10)\n",
    "\n",
    "plt.plot(prob_pred, prob_true, marker='o', label='Calibration curve')\n",
    "plt.plot([0, 1], [0, 1], linestyle='--', label='Perfectly calibrated')\n",
    "plt.xlabel('Mean predicted probability')\n",
    "plt.ylabel('Fraction of positives')\n",
    "plt.legend()\n",
    "plt.show()"
   ]
  }
 ],
 "metadata": {
  "kernelspec": {
   "display_name": "Python 3 (ipykernel)",
   "language": "python",
   "name": "python3"
  },
  "language_info": {
   "codemirror_mode": {
    "name": "ipython",
    "version": 3
   },
   "file_extension": ".py",
   "mimetype": "text/x-python",
   "name": "python",
   "nbconvert_exporter": "python",
   "pygments_lexer": "ipython3",
   "version": "3.8.10"
  },
  "widgets": {
   "application/vnd.jupyter.widget-state+json": {
    "state": {},
    "version_major": 2,
    "version_minor": 0
   }
  }
 },
 "nbformat": 4,
 "nbformat_minor": 5
}
