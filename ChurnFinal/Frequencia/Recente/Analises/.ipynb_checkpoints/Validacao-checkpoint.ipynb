{
 "cells": [
  {
   "cell_type": "markdown",
   "metadata": {},
   "source": [
    "# Validação do modelo de Churn\n",
    "* Aplicado o Recente em todos e utilizando o cálculo de períodos.\n",
    "---\n",
    "\n",
    "**Autor(a):** Sabrina Bruni de Souza Faria"
   ]
  },
  {
   "cell_type": "markdown",
   "metadata": {},
   "source": [
    "## Importando Bibliotecas"
   ]
  },
  {
   "cell_type": "code",
   "execution_count": 1,
   "metadata": {},
   "outputs": [],
   "source": [
    "import pandas as pd\n",
    "import csv\n",
    "from funçoesAuxiliares import *"
   ]
  },
  {
   "cell_type": "markdown",
   "metadata": {},
   "source": [
    "## Leitura dos dados"
   ]
  },
  {
   "cell_type": "code",
   "execution_count": 2,
   "metadata": {
    "scrolled": true
   },
   "outputs": [
    {
     "data": {
      "text/html": [
       "<div>\n",
       "<style scoped>\n",
       "    .dataframe tbody tr th:only-of-type {\n",
       "        vertical-align: middle;\n",
       "    }\n",
       "\n",
       "    .dataframe tbody tr th {\n",
       "        vertical-align: top;\n",
       "    }\n",
       "\n",
       "    .dataframe thead th {\n",
       "        text-align: right;\n",
       "    }\n",
       "</style>\n",
       "<table border=\"1\" class=\"dataframe\">\n",
       "  <thead>\n",
       "    <tr style=\"text-align: right;\">\n",
       "      <th></th>\n",
       "      <th>id</th>\n",
       "      <th>churnLinear</th>\n",
       "      <th>churnExponencial_2</th>\n",
       "      <th>churnExponencial_e</th>\n",
       "      <th>churnRecente</th>\n",
       "      <th>resultado</th>\n",
       "    </tr>\n",
       "  </thead>\n",
       "  <tbody>\n",
       "    <tr>\n",
       "      <th>0</th>\n",
       "      <td>2378</td>\n",
       "      <td>0.100363</td>\n",
       "      <td>3.099465e-04</td>\n",
       "      <td>1.201600e-05</td>\n",
       "      <td>0.089041</td>\n",
       "      <td>não churn</td>\n",
       "    </tr>\n",
       "    <tr>\n",
       "      <th>1</th>\n",
       "      <td>576</td>\n",
       "      <td>0.045229</td>\n",
       "      <td>9.536743e-07</td>\n",
       "      <td>3.541643e-09</td>\n",
       "      <td>0.068027</td>\n",
       "      <td>não churn</td>\n",
       "    </tr>\n",
       "    <tr>\n",
       "      <th>2</th>\n",
       "      <td>704</td>\n",
       "      <td>0.060029</td>\n",
       "      <td>3.906632e-02</td>\n",
       "      <td>1.314459e-02</td>\n",
       "      <td>0.061224</td>\n",
       "      <td>não churn</td>\n",
       "    </tr>\n",
       "    <tr>\n",
       "      <th>3</th>\n",
       "      <td>3818</td>\n",
       "      <td>0.075473</td>\n",
       "      <td>3.906727e-02</td>\n",
       "      <td>1.314459e-02</td>\n",
       "      <td>0.081633</td>\n",
       "      <td>não churn</td>\n",
       "    </tr>\n",
       "    <tr>\n",
       "      <th>4</th>\n",
       "      <td>1972</td>\n",
       "      <td>0.132929</td>\n",
       "      <td>1.250010e-01</td>\n",
       "      <td>8.554822e-02</td>\n",
       "      <td>0.163265</td>\n",
       "      <td>não churn</td>\n",
       "    </tr>\n",
       "  </tbody>\n",
       "</table>\n",
       "</div>"
      ],
      "text/plain": [
       "     id  churnLinear  churnExponencial_2  churnExponencial_e  churnRecente  \\\n",
       "0  2378     0.100363        3.099465e-04        1.201600e-05      0.089041   \n",
       "1   576     0.045229        9.536743e-07        3.541643e-09      0.068027   \n",
       "2   704     0.060029        3.906632e-02        1.314459e-02      0.061224   \n",
       "3  3818     0.075473        3.906727e-02        1.314459e-02      0.081633   \n",
       "4  1972     0.132929        1.250010e-01        8.554822e-02      0.163265   \n",
       "\n",
       "   resultado  \n",
       "0  não churn  \n",
       "1  não churn  \n",
       "2  não churn  \n",
       "3  não churn  \n",
       "4  não churn  "
      ]
     },
     "execution_count": 2,
     "metadata": {},
     "output_type": "execute_result"
    }
   ],
   "source": [
    "df = pd.read_csv('Arquivos/TesteTreinoChurn.csv')\n",
    "df.head(5)"
   ]
  },
  {
   "cell_type": "code",
   "execution_count": 3,
   "metadata": {},
   "outputs": [
    {
     "data": {
      "text/html": [
       "<div>\n",
       "<style scoped>\n",
       "    .dataframe tbody tr th:only-of-type {\n",
       "        vertical-align: middle;\n",
       "    }\n",
       "\n",
       "    .dataframe tbody tr th {\n",
       "        vertical-align: top;\n",
       "    }\n",
       "\n",
       "    .dataframe thead th {\n",
       "        text-align: right;\n",
       "    }\n",
       "</style>\n",
       "<table border=\"1\" class=\"dataframe\">\n",
       "  <thead>\n",
       "    <tr style=\"text-align: right;\">\n",
       "      <th></th>\n",
       "      <th>id</th>\n",
       "      <th>churnLinear</th>\n",
       "      <th>churnExponencial_2</th>\n",
       "      <th>churnExponencial_e</th>\n",
       "      <th>churnRecente</th>\n",
       "    </tr>\n",
       "  </thead>\n",
       "  <tbody>\n",
       "    <tr>\n",
       "      <th>count</th>\n",
       "      <td>4500.000000</td>\n",
       "      <td>4500.000000</td>\n",
       "      <td>4.500000e+03</td>\n",
       "      <td>4.500000e+03</td>\n",
       "      <td>4500.000000</td>\n",
       "    </tr>\n",
       "    <tr>\n",
       "      <th>mean</th>\n",
       "      <td>2786.067556</td>\n",
       "      <td>0.092289</td>\n",
       "      <td>9.111940e-02</td>\n",
       "      <td>8.561776e-02</td>\n",
       "      <td>0.105710</td>\n",
       "    </tr>\n",
       "    <tr>\n",
       "      <th>std</th>\n",
       "      <td>2313.811984</td>\n",
       "      <td>0.097351</td>\n",
       "      <td>1.846486e-01</td>\n",
       "      <td>2.077350e-01</td>\n",
       "      <td>0.096178</td>\n",
       "    </tr>\n",
       "    <tr>\n",
       "      <th>min</th>\n",
       "      <td>1.000000</td>\n",
       "      <td>0.000000</td>\n",
       "      <td>0.000000e+00</td>\n",
       "      <td>-2.220446e-16</td>\n",
       "      <td>0.000000</td>\n",
       "    </tr>\n",
       "    <tr>\n",
       "      <th>25%</th>\n",
       "      <td>1182.750000</td>\n",
       "      <td>0.033673</td>\n",
       "      <td>4.770154e-07</td>\n",
       "      <td>1.302914e-09</td>\n",
       "      <td>0.045455</td>\n",
       "    </tr>\n",
       "    <tr>\n",
       "      <th>50%</th>\n",
       "      <td>2368.000000</td>\n",
       "      <td>0.068065</td>\n",
       "      <td>7.813454e-03</td>\n",
       "      <td>1.566874e-03</td>\n",
       "      <td>0.080000</td>\n",
       "    </tr>\n",
       "    <tr>\n",
       "      <th>75%</th>\n",
       "      <td>3552.250000</td>\n",
       "      <td>0.118308</td>\n",
       "      <td>1.250000e-01</td>\n",
       "      <td>8.554821e-02</td>\n",
       "      <td>0.136364</td>\n",
       "    </tr>\n",
       "    <tr>\n",
       "      <th>max</th>\n",
       "      <td>11382.000000</td>\n",
       "      <td>0.925421</td>\n",
       "      <td>1.000000e+00</td>\n",
       "      <td>1.000000e+00</td>\n",
       "      <td>0.830189</td>\n",
       "    </tr>\n",
       "  </tbody>\n",
       "</table>\n",
       "</div>"
      ],
      "text/plain": [
       "                 id  churnLinear  churnExponencial_2  churnExponencial_e  \\\n",
       "count   4500.000000  4500.000000        4.500000e+03        4.500000e+03   \n",
       "mean    2786.067556     0.092289        9.111940e-02        8.561776e-02   \n",
       "std     2313.811984     0.097351        1.846486e-01        2.077350e-01   \n",
       "min        1.000000     0.000000        0.000000e+00       -2.220446e-16   \n",
       "25%     1182.750000     0.033673        4.770154e-07        1.302914e-09   \n",
       "50%     2368.000000     0.068065        7.813454e-03        1.566874e-03   \n",
       "75%     3552.250000     0.118308        1.250000e-01        8.554821e-02   \n",
       "max    11382.000000     0.925421        1.000000e+00        1.000000e+00   \n",
       "\n",
       "       churnRecente  \n",
       "count   4500.000000  \n",
       "mean       0.105710  \n",
       "std        0.096178  \n",
       "min        0.000000  \n",
       "25%        0.045455  \n",
       "50%        0.080000  \n",
       "75%        0.136364  \n",
       "max        0.830189  "
      ]
     },
     "execution_count": 3,
     "metadata": {},
     "output_type": "execute_result"
    }
   ],
   "source": [
    "df.describe()"
   ]
  },
  {
   "cell_type": "markdown",
   "metadata": {},
   "source": [
    "## Variável de decisão"
   ]
  },
  {
   "cell_type": "code",
   "execution_count": 4,
   "metadata": {},
   "outputs": [],
   "source": [
    "limite = 0.5"
   ]
  },
  {
   "cell_type": "markdown",
   "metadata": {},
   "source": [
    "## Ajustando os dados"
   ]
  },
  {
   "cell_type": "code",
   "execution_count": 5,
   "metadata": {},
   "outputs": [
    {
     "data": {
      "text/html": [
       "<div>\n",
       "<style scoped>\n",
       "    .dataframe tbody tr th:only-of-type {\n",
       "        vertical-align: middle;\n",
       "    }\n",
       "\n",
       "    .dataframe tbody tr th {\n",
       "        vertical-align: top;\n",
       "    }\n",
       "\n",
       "    .dataframe thead th {\n",
       "        text-align: right;\n",
       "    }\n",
       "</style>\n",
       "<table border=\"1\" class=\"dataframe\">\n",
       "  <thead>\n",
       "    <tr style=\"text-align: right;\">\n",
       "      <th></th>\n",
       "      <th>id</th>\n",
       "      <th>churnLinear</th>\n",
       "      <th>churnExponencial_2</th>\n",
       "      <th>churnExponencial_e</th>\n",
       "      <th>churnRecente</th>\n",
       "      <th>resultado</th>\n",
       "    </tr>\n",
       "  </thead>\n",
       "  <tbody>\n",
       "    <tr>\n",
       "      <th>0</th>\n",
       "      <td>2378</td>\n",
       "      <td>0.0</td>\n",
       "      <td>0.0</td>\n",
       "      <td>0.0</td>\n",
       "      <td>0.0</td>\n",
       "      <td>0.0</td>\n",
       "    </tr>\n",
       "    <tr>\n",
       "      <th>1</th>\n",
       "      <td>576</td>\n",
       "      <td>0.0</td>\n",
       "      <td>0.0</td>\n",
       "      <td>0.0</td>\n",
       "      <td>0.0</td>\n",
       "      <td>0.0</td>\n",
       "    </tr>\n",
       "    <tr>\n",
       "      <th>2</th>\n",
       "      <td>704</td>\n",
       "      <td>0.0</td>\n",
       "      <td>0.0</td>\n",
       "      <td>0.0</td>\n",
       "      <td>0.0</td>\n",
       "      <td>0.0</td>\n",
       "    </tr>\n",
       "    <tr>\n",
       "      <th>3</th>\n",
       "      <td>3818</td>\n",
       "      <td>0.0</td>\n",
       "      <td>0.0</td>\n",
       "      <td>0.0</td>\n",
       "      <td>0.0</td>\n",
       "      <td>0.0</td>\n",
       "    </tr>\n",
       "    <tr>\n",
       "      <th>4</th>\n",
       "      <td>1972</td>\n",
       "      <td>0.0</td>\n",
       "      <td>0.0</td>\n",
       "      <td>0.0</td>\n",
       "      <td>0.0</td>\n",
       "      <td>0.0</td>\n",
       "    </tr>\n",
       "  </tbody>\n",
       "</table>\n",
       "</div>"
      ],
      "text/plain": [
       "     id  churnLinear  churnExponencial_2  churnExponencial_e  churnRecente  \\\n",
       "0  2378          0.0                 0.0                 0.0           0.0   \n",
       "1   576          0.0                 0.0                 0.0           0.0   \n",
       "2   704          0.0                 0.0                 0.0           0.0   \n",
       "3  3818          0.0                 0.0                 0.0           0.0   \n",
       "4  1972          0.0                 0.0                 0.0           0.0   \n",
       "\n",
       "   resultado  \n",
       "0        0.0  \n",
       "1        0.0  \n",
       "2        0.0  \n",
       "3        0.0  \n",
       "4        0.0  "
      ]
     },
     "execution_count": 5,
     "metadata": {},
     "output_type": "execute_result"
    }
   ],
   "source": [
    "df[\"resultado\"] = df['resultado'].apply(lambda x: 1.0 if x == \"churn\" else 0.0)\n",
    "df[\"churnLinear\"] = df[\"churnLinear\"].apply(lambda x: 1.0 if x >= limite else 0.0)\n",
    "df[\"churnExponencial_2\"] = df[\"churnExponencial_2\"].apply(lambda x: 1.0 if x >= limite else 0.0)\n",
    "df[\"churnExponencial_e\"] = df[\"churnExponencial_e\"].apply(lambda x: 1.0 if x >= limite else 0.0)\n",
    "df[\"churnRecente\"] = df[\"churnRecente\"].apply(lambda x: 1.0 if x >= limite else 0.0)\n",
    "df.head(5)"
   ]
  },
  {
   "cell_type": "markdown",
   "metadata": {},
   "source": [
    "## Salvando o dataframe de churn e resultado ajustados em um arquivo CSV"
   ]
  },
  {
   "cell_type": "code",
   "execution_count": 6,
   "metadata": {},
   "outputs": [],
   "source": [
    "df.to_csv( \"Arquivos/TesteTreinoChurnAjustado.csv\", index = False, header = True, quoting = csv.QUOTE_NONNUMERIC )"
   ]
  },
  {
   "cell_type": "markdown",
   "metadata": {},
   "source": [
    "## Visualizando Estatísticas Descritivas"
   ]
  },
  {
   "cell_type": "code",
   "execution_count": 7,
   "metadata": {
    "scrolled": false
   },
   "outputs": [
    {
     "data": {
      "text/html": [
       "<div>\n",
       "<style scoped>\n",
       "    .dataframe tbody tr th:only-of-type {\n",
       "        vertical-align: middle;\n",
       "    }\n",
       "\n",
       "    .dataframe tbody tr th {\n",
       "        vertical-align: top;\n",
       "    }\n",
       "\n",
       "    .dataframe thead th {\n",
       "        text-align: right;\n",
       "    }\n",
       "</style>\n",
       "<table border=\"1\" class=\"dataframe\">\n",
       "  <thead>\n",
       "    <tr style=\"text-align: right;\">\n",
       "      <th></th>\n",
       "      <th>id</th>\n",
       "      <th>churnLinear</th>\n",
       "      <th>churnExponencial_2</th>\n",
       "      <th>churnExponencial_e</th>\n",
       "      <th>churnRecente</th>\n",
       "      <th>resultado</th>\n",
       "    </tr>\n",
       "  </thead>\n",
       "  <tbody>\n",
       "    <tr>\n",
       "      <th>count</th>\n",
       "      <td>4500.000000</td>\n",
       "      <td>4500.000000</td>\n",
       "      <td>4500.000000</td>\n",
       "      <td>4500.000000</td>\n",
       "      <td>4500.000000</td>\n",
       "      <td>4500.000000</td>\n",
       "    </tr>\n",
       "    <tr>\n",
       "      <th>mean</th>\n",
       "      <td>2786.067556</td>\n",
       "      <td>0.014667</td>\n",
       "      <td>0.095111</td>\n",
       "      <td>0.095111</td>\n",
       "      <td>0.015111</td>\n",
       "      <td>0.003111</td>\n",
       "    </tr>\n",
       "    <tr>\n",
       "      <th>std</th>\n",
       "      <td>2313.811984</td>\n",
       "      <td>0.120228</td>\n",
       "      <td>0.293401</td>\n",
       "      <td>0.293401</td>\n",
       "      <td>0.122008</td>\n",
       "      <td>0.055697</td>\n",
       "    </tr>\n",
       "    <tr>\n",
       "      <th>min</th>\n",
       "      <td>1.000000</td>\n",
       "      <td>0.000000</td>\n",
       "      <td>0.000000</td>\n",
       "      <td>0.000000</td>\n",
       "      <td>0.000000</td>\n",
       "      <td>0.000000</td>\n",
       "    </tr>\n",
       "    <tr>\n",
       "      <th>25%</th>\n",
       "      <td>1182.750000</td>\n",
       "      <td>0.000000</td>\n",
       "      <td>0.000000</td>\n",
       "      <td>0.000000</td>\n",
       "      <td>0.000000</td>\n",
       "      <td>0.000000</td>\n",
       "    </tr>\n",
       "    <tr>\n",
       "      <th>50%</th>\n",
       "      <td>2368.000000</td>\n",
       "      <td>0.000000</td>\n",
       "      <td>0.000000</td>\n",
       "      <td>0.000000</td>\n",
       "      <td>0.000000</td>\n",
       "      <td>0.000000</td>\n",
       "    </tr>\n",
       "    <tr>\n",
       "      <th>75%</th>\n",
       "      <td>3552.250000</td>\n",
       "      <td>0.000000</td>\n",
       "      <td>0.000000</td>\n",
       "      <td>0.000000</td>\n",
       "      <td>0.000000</td>\n",
       "      <td>0.000000</td>\n",
       "    </tr>\n",
       "    <tr>\n",
       "      <th>max</th>\n",
       "      <td>11382.000000</td>\n",
       "      <td>1.000000</td>\n",
       "      <td>1.000000</td>\n",
       "      <td>1.000000</td>\n",
       "      <td>1.000000</td>\n",
       "      <td>1.000000</td>\n",
       "    </tr>\n",
       "  </tbody>\n",
       "</table>\n",
       "</div>"
      ],
      "text/plain": [
       "                 id  churnLinear  churnExponencial_2  churnExponencial_e  \\\n",
       "count   4500.000000  4500.000000         4500.000000         4500.000000   \n",
       "mean    2786.067556     0.014667            0.095111            0.095111   \n",
       "std     2313.811984     0.120228            0.293401            0.293401   \n",
       "min        1.000000     0.000000            0.000000            0.000000   \n",
       "25%     1182.750000     0.000000            0.000000            0.000000   \n",
       "50%     2368.000000     0.000000            0.000000            0.000000   \n",
       "75%     3552.250000     0.000000            0.000000            0.000000   \n",
       "max    11382.000000     1.000000            1.000000            1.000000   \n",
       "\n",
       "       churnRecente    resultado  \n",
       "count   4500.000000  4500.000000  \n",
       "mean       0.015111     0.003111  \n",
       "std        0.122008     0.055697  \n",
       "min        0.000000     0.000000  \n",
       "25%        0.000000     0.000000  \n",
       "50%        0.000000     0.000000  \n",
       "75%        0.000000     0.000000  \n",
       "max        1.000000     1.000000  "
      ]
     },
     "execution_count": 7,
     "metadata": {},
     "output_type": "execute_result"
    }
   ],
   "source": [
    "df.describe()"
   ]
  },
  {
   "cell_type": "markdown",
   "metadata": {},
   "source": [
    "## Visualizando a proporção de Churns"
   ]
  },
  {
   "cell_type": "code",
   "execution_count": 8,
   "metadata": {
    "scrolled": true
   },
   "outputs": [
    {
     "data": {
      "text/html": [
       "<div>\n",
       "<style scoped>\n",
       "    .dataframe tbody tr th:only-of-type {\n",
       "        vertical-align: middle;\n",
       "    }\n",
       "\n",
       "    .dataframe tbody tr th {\n",
       "        vertical-align: top;\n",
       "    }\n",
       "\n",
       "    .dataframe thead th {\n",
       "        text-align: right;\n",
       "    }\n",
       "</style>\n",
       "<table border=\"1\" class=\"dataframe\">\n",
       "  <thead>\n",
       "    <tr style=\"text-align: right;\">\n",
       "      <th></th>\n",
       "      <th>id</th>\n",
       "      <th>churnLinear</th>\n",
       "      <th>churnExponencial_2</th>\n",
       "      <th>churnExponencial_e</th>\n",
       "      <th>churnRecente</th>\n",
       "      <th>resultado</th>\n",
       "    </tr>\n",
       "  </thead>\n",
       "  <tbody>\n",
       "    <tr>\n",
       "      <th>zeros</th>\n",
       "      <td>0</td>\n",
       "      <td>4434</td>\n",
       "      <td>4072</td>\n",
       "      <td>4072</td>\n",
       "      <td>4432</td>\n",
       "      <td>4486</td>\n",
       "    </tr>\n",
       "    <tr>\n",
       "      <th>uns</th>\n",
       "      <td>1</td>\n",
       "      <td>66</td>\n",
       "      <td>428</td>\n",
       "      <td>428</td>\n",
       "      <td>68</td>\n",
       "      <td>14</td>\n",
       "    </tr>\n",
       "  </tbody>\n",
       "</table>\n",
       "</div>"
      ],
      "text/plain": [
       "       id  churnLinear  churnExponencial_2  churnExponencial_e  churnRecente  \\\n",
       "zeros   0         4434                4072                4072          4432   \n",
       "uns     1           66                 428                 428            68   \n",
       "\n",
       "       resultado  \n",
       "zeros       4486  \n",
       "uns           14  "
      ]
     },
     "execution_count": 8,
     "metadata": {},
     "output_type": "execute_result"
    }
   ],
   "source": [
    "# Aplicar a função a cada coluna\n",
    "df.apply(contar_zeros_uns)"
   ]
  },
  {
   "cell_type": "markdown",
   "metadata": {},
   "source": [
    "## Validando os Modelos"
   ]
  },
  {
   "cell_type": "code",
   "execution_count": 9,
   "metadata": {},
   "outputs": [],
   "source": [
    "real = df[\"resultado\"]\n",
    "linear, exp2, expE, recente = df[\"churnLinear\"], df[\"churnExponencial_2\"], df[\"churnExponencial_e\"], df[\"churnRecente\"]"
   ]
  },
  {
   "cell_type": "code",
   "execution_count": 10,
   "metadata": {},
   "outputs": [
    {
     "name": "stdout",
     "output_type": "stream",
     "text": [
      "R² = [-2.869180306986815, -28.663715686898914, -28.663715686898914, -3.0124832813196596]\n"
     ]
    },
    {
     "data": {
      "image/png": "[encoded data removed]",
      "text/plain": [
       "<Figure size 1080x576 with 4 Axes>"
      ]
     },
     "metadata": {
      "needs_background": "light"
     },
     "output_type": "display_data"
    }
   ],
   "source": [
    "r2, CM = validacaoR2MatrizConfusao(\n",
    "            real, \n",
    "            predict = [linear, exp2, expE, recente], \n",
    "            titulos = [\"Churn Linear\", \"Churn Exponencial Base 2\", \"Churn Exponencial Base e\", \"Churn Recente\"], \n",
    "            tamanhos = (15,8)\n",
    "            )"
   ]
  },
  {
   "cell_type": "code",
   "execution_count": 11,
   "metadata": {},
   "outputs": [
    {
     "name": "stdout",
     "output_type": "stream",
     "text": [
      "Churn Linear:\n",
      "Acurácia: 98.80%\n",
      "\n",
      "Classe     Precisão     Revocação    F1-Score    \n",
      "---------------------------------------------\n",
      "0.0        99.98        98.82        99.39       \n",
      "1.0        19.70        92.86        32.50       \n",
      "\n",
      "\n",
      "\n",
      "Churn Exponencial Base 2:\n",
      "Acurácia: 90.80%\n",
      "\n",
      "Classe     Precisão     Revocação    F1-Score    \n",
      "---------------------------------------------\n",
      "0.0        100.00       90.77        95.16       \n",
      "1.0        3.27         100.00       6.33        \n",
      "\n",
      "\n",
      "\n",
      "Churn Exponencial Base e:\n",
      "Acurácia: 90.80%\n",
      "\n",
      "Classe     Precisão     Revocação    F1-Score    \n",
      "---------------------------------------------\n",
      "0.0        100.00       90.77        95.16       \n",
      "1.0        3.27         100.00       6.33        \n",
      "\n",
      "\n",
      "\n",
      "Churn Recente:\n",
      "Acurácia: 98.76%\n",
      "\n",
      "Classe     Precisão     Revocação    F1-Score    \n",
      "---------------------------------------------\n",
      "0.0        99.98        98.77        99.37       \n",
      "1.0        19.12        92.86        31.71       \n"
     ]
    }
   ],
   "source": [
    "print(\"Churn Linear:\")\n",
    "calculaValoresAvaliacao(linear, real)\n",
    "print(\"\\n\\n\")\n",
    "print(\"Churn Exponencial Base 2:\")\n",
    "calculaValoresAvaliacao(exp2, real)\n",
    "print(\"\\n\\n\")\n",
    "print(\"Churn Exponencial Base e:\")\n",
    "calculaValoresAvaliacao(expE, real)\n",
    "print(\"\\n\\n\")\n",
    "print(\"Churn Recente:\")\n",
    "calculaValoresAvaliacao(recente, real)"
   ]
  }
 ],
 "metadata": {
  "kernelspec": {
   "display_name": "Python 3 (ipykernel)",
   "language": "python",
   "name": "python3"
  },
  "language_info": {
   "codemirror_mode": {
    "name": "ipython",
    "version": 3
   },
   "file_extension": ".py",
   "mimetype": "text/x-python",
   "name": "python",
   "nbconvert_exporter": "python",
   "pygments_lexer": "ipython3",
   "version": "3.7.3"
  },
  "widgets": {
   "application/vnd.jupyter.widget-state+json": {
    "state": {},
    "version_major": 2,
    "version_minor": 0
   }
  }
 },
 "nbformat": 4,
 "nbformat_minor": 5
}
