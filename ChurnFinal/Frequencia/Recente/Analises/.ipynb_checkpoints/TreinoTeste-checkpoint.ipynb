{
 "cells": [
  {
   "cell_type": "markdown",
   "metadata": {},
   "source": [
    "# Gerando dados de Teste e Treino\n",
    "---\n",
    "**Autor(a):** Sabrina Bruni de Souza Faria"
   ]
  },
  {
   "cell_type": "markdown",
   "metadata": {},
   "source": [
    "## Importando as Bibliotecas"
   ]
  },
  {
   "cell_type": "code",
   "execution_count": 1,
   "metadata": {},
   "outputs": [],
   "source": [
    "import pandas as pd\n",
    "import csv"
   ]
  },
  {
   "cell_type": "markdown",
   "metadata": {},
   "source": [
    "## Leitura do Dataframe"
   ]
  },
  {
   "cell_type": "code",
   "execution_count": 2,
   "metadata": {},
   "outputs": [
    {
     "data": {
      "text/html": [
       "<div>\n",
       "<style scoped>\n",
       "    .dataframe tbody tr th:only-of-type {\n",
       "        vertical-align: middle;\n",
       "    }\n",
       "\n",
       "    .dataframe tbody tr th {\n",
       "        vertical-align: top;\n",
       "    }\n",
       "\n",
       "    .dataframe thead th {\n",
       "        text-align: right;\n",
       "    }\n",
       "</style>\n",
       "<table border=\"1\" class=\"dataframe\">\n",
       "  <thead>\n",
       "    <tr style=\"text-align: right;\">\n",
       "      <th></th>\n",
       "      <th>id</th>\n",
       "      <th>churnLinear</th>\n",
       "      <th>churnExponencial_2</th>\n",
       "      <th>churnExponencial_e</th>\n",
       "      <th>churnRecente</th>\n",
       "    </tr>\n",
       "  </thead>\n",
       "  <tbody>\n",
       "    <tr>\n",
       "      <th>0</th>\n",
       "      <td>2378</td>\n",
       "      <td>0.100363</td>\n",
       "      <td>3.099465e-04</td>\n",
       "      <td>1.201600e-05</td>\n",
       "      <td>0.089041</td>\n",
       "    </tr>\n",
       "    <tr>\n",
       "      <th>1</th>\n",
       "      <td>576</td>\n",
       "      <td>0.045229</td>\n",
       "      <td>9.536743e-07</td>\n",
       "      <td>3.541643e-09</td>\n",
       "      <td>0.068027</td>\n",
       "    </tr>\n",
       "    <tr>\n",
       "      <th>2</th>\n",
       "      <td>704</td>\n",
       "      <td>0.060029</td>\n",
       "      <td>3.906632e-02</td>\n",
       "      <td>1.314459e-02</td>\n",
       "      <td>0.061224</td>\n",
       "    </tr>\n",
       "    <tr>\n",
       "      <th>3</th>\n",
       "      <td>3818</td>\n",
       "      <td>0.075473</td>\n",
       "      <td>3.906727e-02</td>\n",
       "      <td>1.314459e-02</td>\n",
       "      <td>0.081633</td>\n",
       "    </tr>\n",
       "    <tr>\n",
       "      <th>4</th>\n",
       "      <td>1972</td>\n",
       "      <td>0.132929</td>\n",
       "      <td>1.250010e-01</td>\n",
       "      <td>8.554822e-02</td>\n",
       "      <td>0.163265</td>\n",
       "    </tr>\n",
       "  </tbody>\n",
       "</table>\n",
       "</div>"
      ],
      "text/plain": [
       "     id  churnLinear  churnExponencial_2  churnExponencial_e  churnRecente\n",
       "0  2378     0.100363        3.099465e-04        1.201600e-05      0.089041\n",
       "1   576     0.045229        9.536743e-07        3.541643e-09      0.068027\n",
       "2   704     0.060029        3.906632e-02        1.314459e-02      0.061224\n",
       "3  3818     0.075473        3.906727e-02        1.314459e-02      0.081633\n",
       "4  1972     0.132929        1.250010e-01        8.554822e-02      0.163265"
      ]
     },
     "execution_count": 2,
     "metadata": {},
     "output_type": "execute_result"
    }
   ],
   "source": [
    "# Dataframe com o cálculo do churn até determinada data #\n",
    "# Teste #\n",
    "dfC = pd.read_csv('Arquivos/churnResultado.csv', index_col=0)\n",
    "dfC.head(5)"
   ]
  },
  {
   "cell_type": "code",
   "execution_count": 3,
   "metadata": {
    "scrolled": false
   },
   "outputs": [
    {
     "data": {
      "text/html": [
       "<div>\n",
       "<style scoped>\n",
       "    .dataframe tbody tr th:only-of-type {\n",
       "        vertical-align: middle;\n",
       "    }\n",
       "\n",
       "    .dataframe tbody tr th {\n",
       "        vertical-align: top;\n",
       "    }\n",
       "\n",
       "    .dataframe thead th {\n",
       "        text-align: right;\n",
       "    }\n",
       "</style>\n",
       "<table border=\"1\" class=\"dataframe\">\n",
       "  <thead>\n",
       "    <tr style=\"text-align: right;\">\n",
       "      <th></th>\n",
       "      <th>1993-01-03</th>\n",
       "      <th>1993-01-17</th>\n",
       "      <th>1993-01-31</th>\n",
       "      <th>1993-02-14</th>\n",
       "      <th>1993-02-28</th>\n",
       "      <th>1993-03-14</th>\n",
       "      <th>1993-03-28</th>\n",
       "      <th>1993-04-11</th>\n",
       "      <th>1993-04-25</th>\n",
       "      <th>1993-05-09</th>\n",
       "      <th>...</th>\n",
       "      <th>1998-08-09</th>\n",
       "      <th>1998-08-23</th>\n",
       "      <th>1998-09-06</th>\n",
       "      <th>1998-09-20</th>\n",
       "      <th>1998-10-04</th>\n",
       "      <th>1998-10-18</th>\n",
       "      <th>1998-11-01</th>\n",
       "      <th>1998-11-15</th>\n",
       "      <th>1998-11-29</th>\n",
       "      <th>1998-12-13</th>\n",
       "    </tr>\n",
       "  </thead>\n",
       "  <tbody>\n",
       "    <tr>\n",
       "      <th>2378</th>\n",
       "      <td>0</td>\n",
       "      <td>1</td>\n",
       "      <td>1</td>\n",
       "      <td>1</td>\n",
       "      <td>1</td>\n",
       "      <td>0</td>\n",
       "      <td>1</td>\n",
       "      <td>1</td>\n",
       "      <td>1</td>\n",
       "      <td>1</td>\n",
       "      <td>...</td>\n",
       "      <td>1</td>\n",
       "      <td>1</td>\n",
       "      <td>1</td>\n",
       "      <td>1</td>\n",
       "      <td>1</td>\n",
       "      <td>1</td>\n",
       "      <td>1</td>\n",
       "      <td>0</td>\n",
       "      <td>1</td>\n",
       "      <td>1</td>\n",
       "    </tr>\n",
       "    <tr>\n",
       "      <th>576</th>\n",
       "      <td>1</td>\n",
       "      <td>0</td>\n",
       "      <td>1</td>\n",
       "      <td>0</td>\n",
       "      <td>1</td>\n",
       "      <td>0</td>\n",
       "      <td>1</td>\n",
       "      <td>1</td>\n",
       "      <td>1</td>\n",
       "      <td>1</td>\n",
       "      <td>...</td>\n",
       "      <td>1</td>\n",
       "      <td>1</td>\n",
       "      <td>1</td>\n",
       "      <td>1</td>\n",
       "      <td>1</td>\n",
       "      <td>1</td>\n",
       "      <td>1</td>\n",
       "      <td>0</td>\n",
       "      <td>1</td>\n",
       "      <td>1</td>\n",
       "    </tr>\n",
       "    <tr>\n",
       "      <th>704</th>\n",
       "      <td>1</td>\n",
       "      <td>0</td>\n",
       "      <td>1</td>\n",
       "      <td>0</td>\n",
       "      <td>1</td>\n",
       "      <td>0</td>\n",
       "      <td>1</td>\n",
       "      <td>1</td>\n",
       "      <td>1</td>\n",
       "      <td>1</td>\n",
       "      <td>...</td>\n",
       "      <td>1</td>\n",
       "      <td>1</td>\n",
       "      <td>1</td>\n",
       "      <td>1</td>\n",
       "      <td>1</td>\n",
       "      <td>1</td>\n",
       "      <td>1</td>\n",
       "      <td>1</td>\n",
       "      <td>1</td>\n",
       "      <td>1</td>\n",
       "    </tr>\n",
       "    <tr>\n",
       "      <th>3818</th>\n",
       "      <td>1</td>\n",
       "      <td>0</td>\n",
       "      <td>1</td>\n",
       "      <td>0</td>\n",
       "      <td>1</td>\n",
       "      <td>0</td>\n",
       "      <td>1</td>\n",
       "      <td>0</td>\n",
       "      <td>1</td>\n",
       "      <td>1</td>\n",
       "      <td>...</td>\n",
       "      <td>1</td>\n",
       "      <td>1</td>\n",
       "      <td>1</td>\n",
       "      <td>1</td>\n",
       "      <td>1</td>\n",
       "      <td>1</td>\n",
       "      <td>1</td>\n",
       "      <td>0</td>\n",
       "      <td>1</td>\n",
       "      <td>0</td>\n",
       "    </tr>\n",
       "    <tr>\n",
       "      <th>1972</th>\n",
       "      <td>1</td>\n",
       "      <td>0</td>\n",
       "      <td>1</td>\n",
       "      <td>0</td>\n",
       "      <td>1</td>\n",
       "      <td>0</td>\n",
       "      <td>1</td>\n",
       "      <td>0</td>\n",
       "      <td>1</td>\n",
       "      <td>1</td>\n",
       "      <td>...</td>\n",
       "      <td>1</td>\n",
       "      <td>1</td>\n",
       "      <td>1</td>\n",
       "      <td>1</td>\n",
       "      <td>1</td>\n",
       "      <td>1</td>\n",
       "      <td>1</td>\n",
       "      <td>0</td>\n",
       "      <td>1</td>\n",
       "      <td>1</td>\n",
       "    </tr>\n",
       "  </tbody>\n",
       "</table>\n",
       "<p>5 rows × 156 columns</p>\n",
       "</div>"
      ],
      "text/plain": [
       "      1993-01-03  1993-01-17  1993-01-31  1993-02-14  1993-02-28  1993-03-14  \\\n",
       "2378           0           1           1           1           1           0   \n",
       "576            1           0           1           0           1           0   \n",
       "704            1           0           1           0           1           0   \n",
       "3818           1           0           1           0           1           0   \n",
       "1972           1           0           1           0           1           0   \n",
       "\n",
       "      1993-03-28  1993-04-11  1993-04-25  1993-05-09  ...  1998-08-09  \\\n",
       "2378           1           1           1           1  ...           1   \n",
       "576            1           1           1           1  ...           1   \n",
       "704            1           1           1           1  ...           1   \n",
       "3818           1           0           1           1  ...           1   \n",
       "1972           1           0           1           1  ...           1   \n",
       "\n",
       "      1998-08-23  1998-09-06  1998-09-20  1998-10-04  1998-10-18  1998-11-01  \\\n",
       "2378           1           1           1           1           1           1   \n",
       "576            1           1           1           1           1           1   \n",
       "704            1           1           1           1           1           1   \n",
       "3818           1           1           1           1           1           1   \n",
       "1972           1           1           1           1           1           1   \n",
       "\n",
       "      1998-11-15  1998-11-29  1998-12-13  \n",
       "2378           0           1           1  \n",
       "576            0           1           1  \n",
       "704            1           1           1  \n",
       "3818           0           1           0  \n",
       "1972           0           1           1  \n",
       "\n",
       "[5 rows x 156 columns]"
      ]
     },
     "execution_count": 3,
     "metadata": {},
     "output_type": "execute_result"
    }
   ],
   "source": [
    "# Tabela de zeros e uns de todos os períodos do dataset análisado #\n",
    "dftab = pd.read_csv('Arquivos/tabelaTotal.csv', index_col=0)\n",
    "dftab.head(5)"
   ]
  },
  {
   "cell_type": "markdown",
   "metadata": {},
   "source": [
    "## Data alvo"
   ]
  },
  {
   "cell_type": "code",
   "execution_count": 4,
   "metadata": {},
   "outputs": [
    {
     "data": {
      "text/plain": [
       "Timestamp('1998-08-31 00:00:00')"
      ]
     },
     "execution_count": 4,
     "metadata": {},
     "output_type": "execute_result"
    }
   ],
   "source": [
    "data = '1998-08-31'\n",
    "data_alvo = pd.to_datetime(data)\n",
    "data_alvo"
   ]
  },
  {
   "cell_type": "markdown",
   "metadata": {},
   "source": [
    "## Converter as colunas do DataFrame para datetime"
   ]
  },
  {
   "cell_type": "code",
   "execution_count": 5,
   "metadata": {},
   "outputs": [
    {
     "data": {
      "text/plain": [
       "DatetimeIndex(['1993-01-03', '1993-01-17', '1993-01-31', '1993-02-14',\n",
       "               '1993-02-28', '1993-03-14', '1993-03-28', '1993-04-11',\n",
       "               '1993-04-25', '1993-05-09',\n",
       "               ...\n",
       "               '1998-08-09', '1998-08-23', '1998-09-06', '1998-09-20',\n",
       "               '1998-10-04', '1998-10-18', '1998-11-01', '1998-11-15',\n",
       "               '1998-11-29', '1998-12-13'],\n",
       "              dtype='datetime64[ns]', length=156, freq=None)"
      ]
     },
     "execution_count": 5,
     "metadata": {},
     "output_type": "execute_result"
    }
   ],
   "source": [
    "datas_colunas = pd.to_datetime(dftab.columns)\n",
    "dftab.columns = datas_colunas\n",
    "datas_colunas"
   ]
  },
  {
   "cell_type": "markdown",
   "metadata": {},
   "source": [
    "## Encontrar a coluna mais próxima da data alvo"
   ]
  },
  {
   "cell_type": "code",
   "execution_count": 6,
   "metadata": {},
   "outputs": [
    {
     "data": {
      "text/plain": [
       "Timestamp('1998-09-06 00:00:00')"
      ]
     },
     "execution_count": 6,
     "metadata": {},
     "output_type": "execute_result"
    }
   ],
   "source": [
    "coluna_mais_proxima = datas_colunas[(datas_colunas >= data_alvo)].min()\n",
    "coluna_mais_proxima"
   ]
  },
  {
   "cell_type": "markdown",
   "metadata": {},
   "source": [
    "## Selecionar todas as colunas a partir da data mais próxima"
   ]
  },
  {
   "cell_type": "code",
   "execution_count": 7,
   "metadata": {},
   "outputs": [
    {
     "data": {
      "text/plain": [
       "DatetimeIndex(['1998-09-06', '1998-09-20', '1998-10-04', '1998-10-18',\n",
       "               '1998-11-01', '1998-11-15', '1998-11-29', '1998-12-13'],\n",
       "              dtype='datetime64[ns]', freq=None)"
      ]
     },
     "execution_count": 7,
     "metadata": {},
     "output_type": "execute_result"
    }
   ],
   "source": [
    "colunas_selecionadas = datas_colunas[datas_colunas >= coluna_mais_proxima]\n",
    "colunas_selecionadas"
   ]
  },
  {
   "cell_type": "markdown",
   "metadata": {},
   "source": [
    "## Filtrar o DataFrame para incluir apenas essas colunas"
   ]
  },
  {
   "cell_type": "code",
   "execution_count": 8,
   "metadata": {},
   "outputs": [
    {
     "data": {
      "text/html": [
       "<div>\n",
       "<style scoped>\n",
       "    .dataframe tbody tr th:only-of-type {\n",
       "        vertical-align: middle;\n",
       "    }\n",
       "\n",
       "    .dataframe tbody tr th {\n",
       "        vertical-align: top;\n",
       "    }\n",
       "\n",
       "    .dataframe thead th {\n",
       "        text-align: right;\n",
       "    }\n",
       "</style>\n",
       "<table border=\"1\" class=\"dataframe\">\n",
       "  <thead>\n",
       "    <tr style=\"text-align: right;\">\n",
       "      <th></th>\n",
       "      <th>1998-09-06 00:00:00</th>\n",
       "      <th>1998-09-20 00:00:00</th>\n",
       "      <th>1998-10-04 00:00:00</th>\n",
       "      <th>1998-10-18 00:00:00</th>\n",
       "      <th>1998-11-01 00:00:00</th>\n",
       "      <th>1998-11-15 00:00:00</th>\n",
       "      <th>1998-11-29 00:00:00</th>\n",
       "      <th>1998-12-13 00:00:00</th>\n",
       "    </tr>\n",
       "  </thead>\n",
       "  <tbody>\n",
       "    <tr>\n",
       "      <th>2378</th>\n",
       "      <td>1</td>\n",
       "      <td>1</td>\n",
       "      <td>1</td>\n",
       "      <td>1</td>\n",
       "      <td>1</td>\n",
       "      <td>0</td>\n",
       "      <td>1</td>\n",
       "      <td>1</td>\n",
       "    </tr>\n",
       "    <tr>\n",
       "      <th>576</th>\n",
       "      <td>1</td>\n",
       "      <td>1</td>\n",
       "      <td>1</td>\n",
       "      <td>1</td>\n",
       "      <td>1</td>\n",
       "      <td>0</td>\n",
       "      <td>1</td>\n",
       "      <td>1</td>\n",
       "    </tr>\n",
       "    <tr>\n",
       "      <th>704</th>\n",
       "      <td>1</td>\n",
       "      <td>1</td>\n",
       "      <td>1</td>\n",
       "      <td>1</td>\n",
       "      <td>1</td>\n",
       "      <td>1</td>\n",
       "      <td>1</td>\n",
       "      <td>1</td>\n",
       "    </tr>\n",
       "    <tr>\n",
       "      <th>3818</th>\n",
       "      <td>1</td>\n",
       "      <td>1</td>\n",
       "      <td>1</td>\n",
       "      <td>1</td>\n",
       "      <td>1</td>\n",
       "      <td>0</td>\n",
       "      <td>1</td>\n",
       "      <td>0</td>\n",
       "    </tr>\n",
       "    <tr>\n",
       "      <th>1972</th>\n",
       "      <td>1</td>\n",
       "      <td>1</td>\n",
       "      <td>1</td>\n",
       "      <td>1</td>\n",
       "      <td>1</td>\n",
       "      <td>0</td>\n",
       "      <td>1</td>\n",
       "      <td>1</td>\n",
       "    </tr>\n",
       "  </tbody>\n",
       "</table>\n",
       "</div>"
      ],
      "text/plain": [
       "      1998-09-06  1998-09-20  1998-10-04  1998-10-18  1998-11-01  1998-11-15  \\\n",
       "2378           1           1           1           1           1           0   \n",
       "576            1           1           1           1           1           0   \n",
       "704            1           1           1           1           1           1   \n",
       "3818           1           1           1           1           1           0   \n",
       "1972           1           1           1           1           1           0   \n",
       "\n",
       "      1998-11-29  1998-12-13  \n",
       "2378           1           1  \n",
       "576            1           1  \n",
       "704            1           1  \n",
       "3818           1           0  \n",
       "1972           1           1  "
      ]
     },
     "execution_count": 8,
     "metadata": {},
     "output_type": "execute_result"
    }
   ],
   "source": [
    "df_selecionado = dftab[colunas_selecionadas]\n",
    "df_selecionado.head(5)"
   ]
  },
  {
   "cell_type": "markdown",
   "metadata": {},
   "source": [
    "## Salvando a tabela de treino em um arquivo"
   ]
  },
  {
   "cell_type": "code",
   "execution_count": 9,
   "metadata": {},
   "outputs": [],
   "source": [
    "colunas_opostas = dftab.columns.difference(colunas_selecionadas)\n",
    "df_dif = dftab[colunas_opostas]"
   ]
  },
  {
   "cell_type": "code",
   "execution_count": 10,
   "metadata": {},
   "outputs": [],
   "source": [
    "df_dif.to_csv( \"Arquivos/tabelaAjustada.csv\", index = True, header = True, quoting = csv.QUOTE_NONNUMERIC )"
   ]
  },
  {
   "cell_type": "markdown",
   "metadata": {},
   "source": [
    "## Criando uma serie com \"não churn\" se houver pelo menos um valor 1 na linha, caso contrário \"churn\""
   ]
  },
  {
   "cell_type": "code",
   "execution_count": 11,
   "metadata": {},
   "outputs": [
    {
     "data": {
      "text/plain": [
       "2378    não churn\n",
       "576     não churn\n",
       "704     não churn\n",
       "3818    não churn\n",
       "1972    não churn\n",
       "Name: resultado, dtype: object"
      ]
     },
     "execution_count": 11,
     "metadata": {},
     "output_type": "execute_result"
    }
   ],
   "source": [
    "resultado = pd.Series( df_selecionado.apply(lambda row: \"não churn\" if 1 in row.values else \"churn\", axis=1), name='resultado')\n",
    "# Treino #\n",
    "resultado.head(5)"
   ]
  },
  {
   "cell_type": "markdown",
   "metadata": {},
   "source": [
    "## Juntando o cálculo de churn com o resultado das datas"
   ]
  },
  {
   "cell_type": "code",
   "execution_count": 12,
   "metadata": {},
   "outputs": [
    {
     "data": {
      "text/html": [
       "<div>\n",
       "<style scoped>\n",
       "    .dataframe tbody tr th:only-of-type {\n",
       "        vertical-align: middle;\n",
       "    }\n",
       "\n",
       "    .dataframe tbody tr th {\n",
       "        vertical-align: top;\n",
       "    }\n",
       "\n",
       "    .dataframe thead th {\n",
       "        text-align: right;\n",
       "    }\n",
       "</style>\n",
       "<table border=\"1\" class=\"dataframe\">\n",
       "  <thead>\n",
       "    <tr style=\"text-align: right;\">\n",
       "      <th></th>\n",
       "      <th>id</th>\n",
       "      <th>churnLinear</th>\n",
       "      <th>churnExponencial_2</th>\n",
       "      <th>churnExponencial_e</th>\n",
       "      <th>churnRecente</th>\n",
       "      <th>resultado</th>\n",
       "    </tr>\n",
       "  </thead>\n",
       "  <tbody>\n",
       "    <tr>\n",
       "      <th>0</th>\n",
       "      <td>2378</td>\n",
       "      <td>0.100363</td>\n",
       "      <td>3.099465e-04</td>\n",
       "      <td>1.201600e-05</td>\n",
       "      <td>0.089041</td>\n",
       "      <td>não churn</td>\n",
       "    </tr>\n",
       "    <tr>\n",
       "      <th>1</th>\n",
       "      <td>576</td>\n",
       "      <td>0.045229</td>\n",
       "      <td>9.536743e-07</td>\n",
       "      <td>3.541643e-09</td>\n",
       "      <td>0.068027</td>\n",
       "      <td>não churn</td>\n",
       "    </tr>\n",
       "    <tr>\n",
       "      <th>2</th>\n",
       "      <td>704</td>\n",
       "      <td>0.060029</td>\n",
       "      <td>3.906632e-02</td>\n",
       "      <td>1.314459e-02</td>\n",
       "      <td>0.061224</td>\n",
       "      <td>não churn</td>\n",
       "    </tr>\n",
       "    <tr>\n",
       "      <th>3</th>\n",
       "      <td>3818</td>\n",
       "      <td>0.075473</td>\n",
       "      <td>3.906727e-02</td>\n",
       "      <td>1.314459e-02</td>\n",
       "      <td>0.081633</td>\n",
       "      <td>não churn</td>\n",
       "    </tr>\n",
       "    <tr>\n",
       "      <th>4</th>\n",
       "      <td>1972</td>\n",
       "      <td>0.132929</td>\n",
       "      <td>1.250010e-01</td>\n",
       "      <td>8.554822e-02</td>\n",
       "      <td>0.163265</td>\n",
       "      <td>não churn</td>\n",
       "    </tr>\n",
       "  </tbody>\n",
       "</table>\n",
       "</div>"
      ],
      "text/plain": [
       "     id  churnLinear  churnExponencial_2  churnExponencial_e  churnRecente  \\\n",
       "0  2378     0.100363        3.099465e-04        1.201600e-05      0.089041   \n",
       "1   576     0.045229        9.536743e-07        3.541643e-09      0.068027   \n",
       "2   704     0.060029        3.906632e-02        1.314459e-02      0.061224   \n",
       "3  3818     0.075473        3.906727e-02        1.314459e-02      0.081633   \n",
       "4  1972     0.132929        1.250010e-01        8.554822e-02      0.163265   \n",
       "\n",
       "   resultado  \n",
       "0  não churn  \n",
       "1  não churn  \n",
       "2  não churn  \n",
       "3  não churn  \n",
       "4  não churn  "
      ]
     },
     "execution_count": 12,
     "metadata": {},
     "output_type": "execute_result"
    }
   ],
   "source": [
    "# Teste e Treino #\n",
    "df_merged = dfC.merge(resultado, left_on=\"id\", right_index=True)\n",
    "df_merged.head(5)"
   ]
  },
  {
   "cell_type": "markdown",
   "metadata": {},
   "source": [
    "## Salvando o dataframe de churn e resultado das datas em um arquivo CSV"
   ]
  },
  {
   "cell_type": "code",
   "execution_count": 13,
   "metadata": {},
   "outputs": [],
   "source": [
    "df_merged.to_csv( \"Arquivos/TesteTreinoChurn.csv\", index = False, header = True, quoting = csv.QUOTE_NONNUMERIC )"
   ]
  }
 ],
 "metadata": {
  "kernelspec": {
   "display_name": "Python 3 (ipykernel)",
   "language": "python",
   "name": "python3"
  },
  "language_info": {
   "codemirror_mode": {
    "name": "ipython",
    "version": 3
   },
   "file_extension": ".py",
   "mimetype": "text/x-python",
   "name": "python",
   "nbconvert_exporter": "python",
   "pygments_lexer": "ipython3",
   "version": "3.7.3"
  },
  "widgets": {
   "application/vnd.jupyter.widget-state+json": {
    "state": {},
    "version_major": 2,
    "version_minor": 0
   }
  }
 },
 "nbformat": 4,
 "nbformat_minor": 5
}
