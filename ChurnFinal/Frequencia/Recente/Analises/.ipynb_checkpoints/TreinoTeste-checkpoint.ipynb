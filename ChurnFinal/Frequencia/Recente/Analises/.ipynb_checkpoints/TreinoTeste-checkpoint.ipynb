{
 "cells": [
  {
   "cell_type": "markdown",
   "metadata": {},
   "source": [
    "# Gerando dados de Teste e Treino\n",
    "---\n",
    "**Autor(a):** Sabrina Bruni de Souza Faria"
   ]
  },
  {
   "cell_type": "markdown",
   "metadata": {},
   "source": [
    "## Importando as Bibliotecas"
   ]
  },
  {
   "cell_type": "code",
   "execution_count": 1,
   "metadata": {},
   "outputs": [],
   "source": [
    "import pandas as pd\n",
    "import csv\n",
    "from funcoesAuxiliares import *"
   ]
  },
  {
   "cell_type": "markdown",
   "metadata": {},
   "source": [
    "## Leitura do Dataframe"
   ]
  },
  {
   "cell_type": "code",
   "execution_count": 15,
   "metadata": {},
   "outputs": [
    {
     "data": {
      "text/plain": [
       "2.0"
      ]
     },
     "execution_count": 15,
     "metadata": {},
     "output_type": "execute_result"
    }
   ],
   "source": [
    "# Dataframe com o cálculo do churn até determinada data #\n",
    "# Teste #\n",
    "dfC = pd.read_csv('Arquivos/churnResultadoTransNovo.csv', index_col=0)\n",
    "dfC[\"Media_Intervalos\"] = np.ceil(dfC[\"Media_Intervalos\"])\n",
    "dfC.head(5)"
   ]
  },
  {
   "cell_type": "code",
   "execution_count": 3,
   "metadata": {
    "scrolled": false
   },
   "outputs": [
    {
     "data": {
      "text/html": [
       "<div>\n",
       "<style scoped>\n",
       "    .dataframe tbody tr th:only-of-type {\n",
       "        vertical-align: middle;\n",
       "    }\n",
       "\n",
       "    .dataframe tbody tr th {\n",
       "        vertical-align: top;\n",
       "    }\n",
       "\n",
       "    .dataframe thead th {\n",
       "        text-align: right;\n",
       "    }\n",
       "</style>\n",
       "<table border=\"1\" class=\"dataframe\">\n",
       "  <thead>\n",
       "    <tr style=\"text-align: right;\">\n",
       "      <th></th>\n",
       "      <th>1993-01-01</th>\n",
       "      <th>1993-01-08</th>\n",
       "      <th>1993-01-15</th>\n",
       "      <th>1993-01-22</th>\n",
       "      <th>1993-01-29</th>\n",
       "      <th>1993-02-05</th>\n",
       "      <th>1993-02-12</th>\n",
       "      <th>1993-02-19</th>\n",
       "      <th>1993-02-26</th>\n",
       "      <th>1993-03-05</th>\n",
       "      <th>...</th>\n",
       "      <th>1998-10-23</th>\n",
       "      <th>1998-10-30</th>\n",
       "      <th>1998-11-06</th>\n",
       "      <th>1998-11-13</th>\n",
       "      <th>1998-11-20</th>\n",
       "      <th>1998-11-27</th>\n",
       "      <th>1998-12-04</th>\n",
       "      <th>1998-12-11</th>\n",
       "      <th>1998-12-18</th>\n",
       "      <th>1998-12-25</th>\n",
       "    </tr>\n",
       "  </thead>\n",
       "  <tbody>\n",
       "    <tr>\n",
       "      <th>2378</th>\n",
       "      <td>1</td>\n",
       "      <td>0</td>\n",
       "      <td>0</td>\n",
       "      <td>1</td>\n",
       "      <td>1</td>\n",
       "      <td>1</td>\n",
       "      <td>0</td>\n",
       "      <td>1</td>\n",
       "      <td>1</td>\n",
       "      <td>1</td>\n",
       "      <td>...</td>\n",
       "      <td>0</td>\n",
       "      <td>1</td>\n",
       "      <td>1</td>\n",
       "      <td>0</td>\n",
       "      <td>0</td>\n",
       "      <td>1</td>\n",
       "      <td>1</td>\n",
       "      <td>0</td>\n",
       "      <td>1</td>\n",
       "      <td>1</td>\n",
       "    </tr>\n",
       "    <tr>\n",
       "      <th>576</th>\n",
       "      <td>1</td>\n",
       "      <td>1</td>\n",
       "      <td>0</td>\n",
       "      <td>0</td>\n",
       "      <td>1</td>\n",
       "      <td>1</td>\n",
       "      <td>0</td>\n",
       "      <td>0</td>\n",
       "      <td>1</td>\n",
       "      <td>1</td>\n",
       "      <td>...</td>\n",
       "      <td>0</td>\n",
       "      <td>1</td>\n",
       "      <td>1</td>\n",
       "      <td>1</td>\n",
       "      <td>0</td>\n",
       "      <td>1</td>\n",
       "      <td>0</td>\n",
       "      <td>1</td>\n",
       "      <td>0</td>\n",
       "      <td>1</td>\n",
       "    </tr>\n",
       "    <tr>\n",
       "      <th>704</th>\n",
       "      <td>1</td>\n",
       "      <td>1</td>\n",
       "      <td>0</td>\n",
       "      <td>0</td>\n",
       "      <td>1</td>\n",
       "      <td>0</td>\n",
       "      <td>1</td>\n",
       "      <td>0</td>\n",
       "      <td>1</td>\n",
       "      <td>0</td>\n",
       "      <td>...</td>\n",
       "      <td>0</td>\n",
       "      <td>1</td>\n",
       "      <td>1</td>\n",
       "      <td>0</td>\n",
       "      <td>0</td>\n",
       "      <td>1</td>\n",
       "      <td>1</td>\n",
       "      <td>1</td>\n",
       "      <td>0</td>\n",
       "      <td>1</td>\n",
       "    </tr>\n",
       "    <tr>\n",
       "      <th>3818</th>\n",
       "      <td>1</td>\n",
       "      <td>1</td>\n",
       "      <td>0</td>\n",
       "      <td>0</td>\n",
       "      <td>1</td>\n",
       "      <td>1</td>\n",
       "      <td>0</td>\n",
       "      <td>0</td>\n",
       "      <td>1</td>\n",
       "      <td>1</td>\n",
       "      <td>...</td>\n",
       "      <td>0</td>\n",
       "      <td>1</td>\n",
       "      <td>1</td>\n",
       "      <td>0</td>\n",
       "      <td>0</td>\n",
       "      <td>1</td>\n",
       "      <td>1</td>\n",
       "      <td>1</td>\n",
       "      <td>0</td>\n",
       "      <td>1</td>\n",
       "    </tr>\n",
       "    <tr>\n",
       "      <th>1972</th>\n",
       "      <td>1</td>\n",
       "      <td>0</td>\n",
       "      <td>0</td>\n",
       "      <td>0</td>\n",
       "      <td>1</td>\n",
       "      <td>1</td>\n",
       "      <td>0</td>\n",
       "      <td>0</td>\n",
       "      <td>1</td>\n",
       "      <td>1</td>\n",
       "      <td>...</td>\n",
       "      <td>0</td>\n",
       "      <td>1</td>\n",
       "      <td>1</td>\n",
       "      <td>0</td>\n",
       "      <td>0</td>\n",
       "      <td>1</td>\n",
       "      <td>1</td>\n",
       "      <td>1</td>\n",
       "      <td>1</td>\n",
       "      <td>1</td>\n",
       "    </tr>\n",
       "  </tbody>\n",
       "</table>\n",
       "<p>5 rows × 313 columns</p>\n",
       "</div>"
      ],
      "text/plain": [
       "      1993-01-01  1993-01-08  1993-01-15  1993-01-22  1993-01-29  1993-02-05  \\\n",
       "2378           1           0           0           1           1           1   \n",
       "576            1           1           0           0           1           1   \n",
       "704            1           1           0           0           1           0   \n",
       "3818           1           1           0           0           1           1   \n",
       "1972           1           0           0           0           1           1   \n",
       "\n",
       "      1993-02-12  1993-02-19  1993-02-26  1993-03-05  ...  1998-10-23  \\\n",
       "2378           0           1           1           1  ...           0   \n",
       "576            0           0           1           1  ...           0   \n",
       "704            1           0           1           0  ...           0   \n",
       "3818           0           0           1           1  ...           0   \n",
       "1972           0           0           1           1  ...           0   \n",
       "\n",
       "      1998-10-30  1998-11-06  1998-11-13  1998-11-20  1998-11-27  1998-12-04  \\\n",
       "2378           1           1           0           0           1           1   \n",
       "576            1           1           1           0           1           0   \n",
       "704            1           1           0           0           1           1   \n",
       "3818           1           1           0           0           1           1   \n",
       "1972           1           1           0           0           1           1   \n",
       "\n",
       "      1998-12-11  1998-12-18  1998-12-25  \n",
       "2378           0           1           1  \n",
       "576            1           0           1  \n",
       "704            1           0           1  \n",
       "3818           1           0           1  \n",
       "1972           1           1           1  \n",
       "\n",
       "[5 rows x 313 columns]"
      ]
     },
     "execution_count": 3,
     "metadata": {},
     "output_type": "execute_result"
    }
   ],
   "source": [
    "# Tabela de zeros e uns de todos os períodos do dataset análisado #\n",
    "dftab = pd.read_csv('Arquivos/tabelaTotalTrans.csv', index_col=0)\n",
    "dftab.head(5)"
   ]
  },
  {
   "cell_type": "markdown",
   "metadata": {},
   "source": [
    "## Data alvo"
   ]
  },
  {
   "cell_type": "code",
   "execution_count": 4,
   "metadata": {},
   "outputs": [
    {
     "data": {
      "text/plain": [
       "Timestamp('1998-10-22 00:00:00')"
      ]
     },
     "execution_count": 4,
     "metadata": {},
     "output_type": "execute_result"
    }
   ],
   "source": [
    "data = '1998-10-22'\n",
    "data_alvo = pd.to_datetime(data)\n",
    "data_alvo"
   ]
  },
  {
   "cell_type": "markdown",
   "metadata": {},
   "source": [
    "## Converter as colunas do DataFrame para datetime"
   ]
  },
  {
   "cell_type": "code",
   "execution_count": 5,
   "metadata": {},
   "outputs": [
    {
     "data": {
      "text/plain": [
       "DatetimeIndex(['1993-01-01', '1993-01-08', '1993-01-15', '1993-01-22',\n",
       "               '1993-01-29', '1993-02-05', '1993-02-12', '1993-02-19',\n",
       "               '1993-02-26', '1993-03-05',\n",
       "               ...\n",
       "               '1998-10-23', '1998-10-30', '1998-11-06', '1998-11-13',\n",
       "               '1998-11-20', '1998-11-27', '1998-12-04', '1998-12-11',\n",
       "               '1998-12-18', '1998-12-25'],\n",
       "              dtype='datetime64[ns]', length=313, freq=None)"
      ]
     },
     "execution_count": 5,
     "metadata": {},
     "output_type": "execute_result"
    }
   ],
   "source": [
    "datas_colunas = pd.to_datetime(dftab.columns)\n",
    "dftab.columns = datas_colunas\n",
    "datas_colunas"
   ]
  },
  {
   "cell_type": "markdown",
   "metadata": {},
   "source": [
    "## Encontrar a coluna mais próxima da data alvo"
   ]
  },
  {
   "cell_type": "code",
   "execution_count": 6,
   "metadata": {},
   "outputs": [
    {
     "data": {
      "text/plain": [
       "Timestamp('1998-10-23 00:00:00')"
      ]
     },
     "execution_count": 6,
     "metadata": {},
     "output_type": "execute_result"
    }
   ],
   "source": [
    "coluna_mais_proxima = datas_colunas[(datas_colunas >= data_alvo)].min()\n",
    "coluna_mais_proxima"
   ]
  },
  {
   "cell_type": "markdown",
   "metadata": {},
   "source": [
    "## Selecionar todas as colunas a partir da data mais próxima"
   ]
  },
  {
   "cell_type": "code",
   "execution_count": 7,
   "metadata": {},
   "outputs": [
    {
     "data": {
      "text/plain": [
       "DatetimeIndex(['1998-10-23', '1998-10-30', '1998-11-06', '1998-11-13',\n",
       "               '1998-11-20', '1998-11-27', '1998-12-04', '1998-12-11',\n",
       "               '1998-12-18', '1998-12-25'],\n",
       "              dtype='datetime64[ns]', freq=None)"
      ]
     },
     "execution_count": 7,
     "metadata": {},
     "output_type": "execute_result"
    }
   ],
   "source": [
    "colunas_selecionadas = datas_colunas[datas_colunas >= coluna_mais_proxima]\n",
    "colunas_selecionadas"
   ]
  },
  {
   "cell_type": "markdown",
   "metadata": {},
   "source": [
    "## Filtrar o DataFrame para incluir apenas essas colunas"
   ]
  },
  {
   "cell_type": "code",
   "execution_count": 8,
   "metadata": {},
   "outputs": [
    {
     "data": {
      "text/html": [
       "<div>\n",
       "<style scoped>\n",
       "    .dataframe tbody tr th:only-of-type {\n",
       "        vertical-align: middle;\n",
       "    }\n",
       "\n",
       "    .dataframe tbody tr th {\n",
       "        vertical-align: top;\n",
       "    }\n",
       "\n",
       "    .dataframe thead th {\n",
       "        text-align: right;\n",
       "    }\n",
       "</style>\n",
       "<table border=\"1\" class=\"dataframe\">\n",
       "  <thead>\n",
       "    <tr style=\"text-align: right;\">\n",
       "      <th></th>\n",
       "      <th>1998-10-23 00:00:00</th>\n",
       "      <th>1998-10-30 00:00:00</th>\n",
       "      <th>1998-11-06 00:00:00</th>\n",
       "      <th>1998-11-13 00:00:00</th>\n",
       "      <th>1998-11-20 00:00:00</th>\n",
       "      <th>1998-11-27 00:00:00</th>\n",
       "      <th>1998-12-04 00:00:00</th>\n",
       "      <th>1998-12-11 00:00:00</th>\n",
       "      <th>1998-12-18 00:00:00</th>\n",
       "      <th>1998-12-25 00:00:00</th>\n",
       "    </tr>\n",
       "  </thead>\n",
       "  <tbody>\n",
       "    <tr>\n",
       "      <th>2378</th>\n",
       "      <td>0</td>\n",
       "      <td>1</td>\n",
       "      <td>1</td>\n",
       "      <td>0</td>\n",
       "      <td>0</td>\n",
       "      <td>1</td>\n",
       "      <td>1</td>\n",
       "      <td>0</td>\n",
       "      <td>1</td>\n",
       "      <td>1</td>\n",
       "    </tr>\n",
       "    <tr>\n",
       "      <th>576</th>\n",
       "      <td>0</td>\n",
       "      <td>1</td>\n",
       "      <td>1</td>\n",
       "      <td>1</td>\n",
       "      <td>0</td>\n",
       "      <td>1</td>\n",
       "      <td>0</td>\n",
       "      <td>1</td>\n",
       "      <td>0</td>\n",
       "      <td>1</td>\n",
       "    </tr>\n",
       "    <tr>\n",
       "      <th>704</th>\n",
       "      <td>0</td>\n",
       "      <td>1</td>\n",
       "      <td>1</td>\n",
       "      <td>0</td>\n",
       "      <td>0</td>\n",
       "      <td>1</td>\n",
       "      <td>1</td>\n",
       "      <td>1</td>\n",
       "      <td>0</td>\n",
       "      <td>1</td>\n",
       "    </tr>\n",
       "    <tr>\n",
       "      <th>3818</th>\n",
       "      <td>0</td>\n",
       "      <td>1</td>\n",
       "      <td>1</td>\n",
       "      <td>0</td>\n",
       "      <td>0</td>\n",
       "      <td>1</td>\n",
       "      <td>1</td>\n",
       "      <td>1</td>\n",
       "      <td>0</td>\n",
       "      <td>1</td>\n",
       "    </tr>\n",
       "    <tr>\n",
       "      <th>1972</th>\n",
       "      <td>0</td>\n",
       "      <td>1</td>\n",
       "      <td>1</td>\n",
       "      <td>0</td>\n",
       "      <td>0</td>\n",
       "      <td>1</td>\n",
       "      <td>1</td>\n",
       "      <td>1</td>\n",
       "      <td>1</td>\n",
       "      <td>1</td>\n",
       "    </tr>\n",
       "  </tbody>\n",
       "</table>\n",
       "</div>"
      ],
      "text/plain": [
       "      1998-10-23  1998-10-30  1998-11-06  1998-11-13  1998-11-20  1998-11-27  \\\n",
       "2378           0           1           1           0           0           1   \n",
       "576            0           1           1           1           0           1   \n",
       "704            0           1           1           0           0           1   \n",
       "3818           0           1           1           0           0           1   \n",
       "1972           0           1           1           0           0           1   \n",
       "\n",
       "      1998-12-04  1998-12-11  1998-12-18  1998-12-25  \n",
       "2378           1           0           1           1  \n",
       "576            0           1           0           1  \n",
       "704            1           1           0           1  \n",
       "3818           1           1           0           1  \n",
       "1972           1           1           1           1  "
      ]
     },
     "execution_count": 8,
     "metadata": {},
     "output_type": "execute_result"
    }
   ],
   "source": [
    "df_selecionado = dftab[colunas_selecionadas]\n",
    "df_selecionado.head(5)"
   ]
  },
  {
   "cell_type": "markdown",
   "metadata": {},
   "source": [
    "## Salvando a tabela de treino e teste em um arquivo"
   ]
  },
  {
   "cell_type": "code",
   "execution_count": 9,
   "metadata": {},
   "outputs": [],
   "source": [
    "colunas_opostas = dftab.columns.difference(colunas_selecionadas)\n",
    "df_dif = dftab[colunas_opostas]"
   ]
  },
  {
   "cell_type": "code",
   "execution_count": 10,
   "metadata": {},
   "outputs": [],
   "source": [
    "df_dif.to_csv( \"Arquivos/tabelaTreinoTrans.csv\", index = True, header = True, quoting = csv.QUOTE_NONNUMERIC )\n",
    "df_selecionado.to_csv( \"Arquivos/tabelaTesteTrans.csv\", index = True, header = True, quoting = csv.QUOTE_NONNUMERIC )"
   ]
  },
  {
   "cell_type": "markdown",
   "metadata": {},
   "source": [
    "## Criando uma serie com \"não churn\" se houver pelo menos um valor 1 na linha, caso contrário \"churn\""
   ]
  },
  {
   "cell_type": "code",
   "execution_count": 11,
   "metadata": {},
   "outputs": [
    {
     "data": {
      "text/plain": [
       "2378    não churn\n",
       "576     não churn\n",
       "704     não churn\n",
       "3818    não churn\n",
       "1972    não churn\n",
       "Name: resultado, dtype: object"
      ]
     },
     "execution_count": 11,
     "metadata": {},
     "output_type": "execute_result"
    }
   ],
   "source": [
    "dfC = dfC.set_index(\"id\")\n",
    "resultado = df_selecionado.apply(lambda row: analisar_churn(row, dfC.loc[row.name, 'Media_Intervalos']), axis=1)\n",
    "# Treino #\n",
    "# Adiciona o resultado em uma nova série\n",
    "resultado = pd.Series(resultado, name='resultado')\n",
    "resultado.head(5)"
   ]
  },
  {
   "cell_type": "markdown",
   "metadata": {},
   "source": [
    "## Juntando o cálculo de churn com o resultado das datas"
   ]
  },
  {
   "cell_type": "code",
   "execution_count": 12,
   "metadata": {},
   "outputs": [
    {
     "data": {
      "text/html": [
       "<div>\n",
       "<style scoped>\n",
       "    .dataframe tbody tr th:only-of-type {\n",
       "        vertical-align: middle;\n",
       "    }\n",
       "\n",
       "    .dataframe tbody tr th {\n",
       "        vertical-align: top;\n",
       "    }\n",
       "\n",
       "    .dataframe thead th {\n",
       "        text-align: right;\n",
       "    }\n",
       "</style>\n",
       "<table border=\"1\" class=\"dataframe\">\n",
       "  <thead>\n",
       "    <tr style=\"text-align: right;\">\n",
       "      <th></th>\n",
       "      <th>churnLinear</th>\n",
       "      <th>churnExponencial_2</th>\n",
       "      <th>churnExponencial_e</th>\n",
       "      <th>churnRecente</th>\n",
       "      <th>resultado</th>\n",
       "    </tr>\n",
       "    <tr>\n",
       "      <th>id_cliente</th>\n",
       "      <th></th>\n",
       "      <th></th>\n",
       "      <th></th>\n",
       "      <th></th>\n",
       "      <th></th>\n",
       "    </tr>\n",
       "  </thead>\n",
       "  <tbody>\n",
       "    <tr>\n",
       "      <th>2378</th>\n",
       "      <td>0.290557</td>\n",
       "      <td>0.991526</td>\n",
       "      <td>0.990924</td>\n",
       "      <td>0.289474</td>\n",
       "      <td>não churn</td>\n",
       "    </tr>\n",
       "    <tr>\n",
       "      <th>576</th>\n",
       "      <td>0.398677</td>\n",
       "      <td>0.997203</td>\n",
       "      <td>0.998403</td>\n",
       "      <td>0.394737</td>\n",
       "      <td>não churn</td>\n",
       "    </tr>\n",
       "    <tr>\n",
       "      <th>704</th>\n",
       "      <td>0.259568</td>\n",
       "      <td>0.997093</td>\n",
       "      <td>0.998367</td>\n",
       "      <td>0.256579</td>\n",
       "      <td>não churn</td>\n",
       "    </tr>\n",
       "    <tr>\n",
       "      <th>3818</th>\n",
       "      <td>0.300109</td>\n",
       "      <td>0.997203</td>\n",
       "      <td>0.998403</td>\n",
       "      <td>0.296053</td>\n",
       "      <td>não churn</td>\n",
       "    </tr>\n",
       "    <tr>\n",
       "      <th>1972</th>\n",
       "      <td>0.371964</td>\n",
       "      <td>0.998958</td>\n",
       "      <td>0.999549</td>\n",
       "      <td>0.368421</td>\n",
       "      <td>não churn</td>\n",
       "    </tr>\n",
       "  </tbody>\n",
       "</table>\n",
       "</div>"
      ],
      "text/plain": [
       "            churnLinear  churnExponencial_2  churnExponencial_e  churnRecente  \\\n",
       "id_cliente                                                                      \n",
       "2378           0.290557            0.991526            0.990924      0.289474   \n",
       "576            0.398677            0.997203            0.998403      0.394737   \n",
       "704            0.259568            0.997093            0.998367      0.256579   \n",
       "3818           0.300109            0.997203            0.998403      0.296053   \n",
       "1972           0.371964            0.998958            0.999549      0.368421   \n",
       "\n",
       "            resultado  \n",
       "id_cliente             \n",
       "2378        não churn  \n",
       "576         não churn  \n",
       "704         não churn  \n",
       "3818        não churn  \n",
       "1972        não churn  "
      ]
     },
     "execution_count": 12,
     "metadata": {},
     "output_type": "execute_result"
    }
   ],
   "source": [
    "# Teste e Treino #\n",
    "df_merged = dfC.merge(resultado, left_index=True, right_index=True)\n",
    "df_merged = df_merged.drop(\"Media_Intervalos\", axis = 1)\n",
    "# Renomeia o nome do índice\n",
    "df_merged.index.name = 'id_cliente'\n",
    "df_merged.head(5)"
   ]
  },
  {
   "cell_type": "markdown",
   "metadata": {},
   "source": [
    "## Salvando o dataframe de churn e resultado das datas em um arquivo CSV"
   ]
  },
  {
   "cell_type": "code",
   "execution_count": 13,
   "metadata": {},
   "outputs": [],
   "source": [
    "df_merged.to_csv( \"Arquivos/TesteTreinoChurnTrans.csv\", index = True, header = True, quoting = csv.QUOTE_NONNUMERIC )"
   ]
  }
 ],
 "metadata": {
  "kernelspec": {
   "display_name": "Python 3 (ipykernel)",
   "language": "python",
   "name": "python3"
  },
  "language_info": {
   "codemirror_mode": {
    "name": "ipython",
    "version": 3
   },
   "file_extension": ".py",
   "mimetype": "text/x-python",
   "name": "python",
   "nbconvert_exporter": "python",
   "pygments_lexer": "ipython3",
   "version": "3.7.3"
  },
  "widgets": {
   "application/vnd.jupyter.widget-state+json": {
    "state": {},
    "version_major": 2,
    "version_minor": 0
   }
  }
 },
 "nbformat": 4,
 "nbformat_minor": 5
}
