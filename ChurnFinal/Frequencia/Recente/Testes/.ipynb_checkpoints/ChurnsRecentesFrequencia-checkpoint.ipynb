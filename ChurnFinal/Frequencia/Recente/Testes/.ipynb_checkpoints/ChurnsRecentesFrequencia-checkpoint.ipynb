{
 "cells": [
  {
   "cell_type": "markdown",
   "metadata": {},
   "source": [
    "# Resultado dos Churns ponderados recentes com frequência calculada"
   ]
  },
  {
   "cell_type": "code",
   "execution_count": 1,
   "metadata": {},
   "outputs": [],
   "source": [
    "import pandas as pd"
   ]
  },
  {
   "cell_type": "markdown",
   "metadata": {},
   "source": [
    "### Dataset do bank "
   ]
  },
  {
   "cell_type": "code",
   "execution_count": 2,
   "metadata": {
    "scrolled": true
   },
   "outputs": [
    {
     "data": {
      "text/html": [
       "<div>\n",
       "<style scoped>\n",
       "    .dataframe tbody tr th:only-of-type {\n",
       "        vertical-align: middle;\n",
       "    }\n",
       "\n",
       "    .dataframe tbody tr th {\n",
       "        vertical-align: top;\n",
       "    }\n",
       "\n",
       "    .dataframe thead th {\n",
       "        text-align: right;\n",
       "    }\n",
       "</style>\n",
       "<table border=\"1\" class=\"dataframe\">\n",
       "  <thead>\n",
       "    <tr style=\"text-align: right;\">\n",
       "      <th></th>\n",
       "      <th>id</th>\n",
       "      <th>churnLinear</th>\n",
       "      <th>churnExponencial_2</th>\n",
       "      <th>churnExponencial_e</th>\n",
       "      <th>churnRecente</th>\n",
       "    </tr>\n",
       "  </thead>\n",
       "  <tbody>\n",
       "    <tr>\n",
       "      <th>0</th>\n",
       "      <td>C5841053</td>\n",
       "      <td>0.993464</td>\n",
       "      <td>0.999992</td>\n",
       "      <td>1.000000</td>\n",
       "      <td>0.941176</td>\n",
       "    </tr>\n",
       "    <tr>\n",
       "      <th>1</th>\n",
       "      <td>C2142763</td>\n",
       "      <td>0.993464</td>\n",
       "      <td>0.999992</td>\n",
       "      <td>1.000000</td>\n",
       "      <td>0.941176</td>\n",
       "    </tr>\n",
       "    <tr>\n",
       "      <th>2</th>\n",
       "      <td>C4417068</td>\n",
       "      <td>0.993464</td>\n",
       "      <td>0.999992</td>\n",
       "      <td>1.000000</td>\n",
       "      <td>0.941176</td>\n",
       "    </tr>\n",
       "    <tr>\n",
       "      <th>3</th>\n",
       "      <td>C5342380</td>\n",
       "      <td>0.921569</td>\n",
       "      <td>0.992180</td>\n",
       "      <td>0.998433</td>\n",
       "      <td>0.882353</td>\n",
       "    </tr>\n",
       "    <tr>\n",
       "      <th>4</th>\n",
       "      <td>C9031234</td>\n",
       "      <td>0.993464</td>\n",
       "      <td>0.999992</td>\n",
       "      <td>1.000000</td>\n",
       "      <td>0.941176</td>\n",
       "    </tr>\n",
       "    <tr>\n",
       "      <th>...</th>\n",
       "      <td>...</td>\n",
       "      <td>...</td>\n",
       "      <td>...</td>\n",
       "      <td>...</td>\n",
       "      <td>...</td>\n",
       "    </tr>\n",
       "    <tr>\n",
       "      <th>884260</th>\n",
       "      <td>C5028150</td>\n",
       "      <td>0.933333</td>\n",
       "      <td>0.967742</td>\n",
       "      <td>0.988344</td>\n",
       "      <td>0.800000</td>\n",
       "    </tr>\n",
       "    <tr>\n",
       "      <th>884261</th>\n",
       "      <td>C1034220</td>\n",
       "      <td>0.933333</td>\n",
       "      <td>0.967742</td>\n",
       "      <td>0.988344</td>\n",
       "      <td>0.800000</td>\n",
       "    </tr>\n",
       "    <tr>\n",
       "      <th>884262</th>\n",
       "      <td>C8020229</td>\n",
       "      <td>0.933333</td>\n",
       "      <td>0.967742</td>\n",
       "      <td>0.988344</td>\n",
       "      <td>0.800000</td>\n",
       "    </tr>\n",
       "    <tr>\n",
       "      <th>884263</th>\n",
       "      <td>C6459278</td>\n",
       "      <td>0.933333</td>\n",
       "      <td>0.967742</td>\n",
       "      <td>0.988344</td>\n",
       "      <td>0.800000</td>\n",
       "    </tr>\n",
       "    <tr>\n",
       "      <th>884264</th>\n",
       "      <td>C6420483</td>\n",
       "      <td>0.933333</td>\n",
       "      <td>0.967742</td>\n",
       "      <td>0.988344</td>\n",
       "      <td>0.800000</td>\n",
       "    </tr>\n",
       "  </tbody>\n",
       "</table>\n",
       "<p>884265 rows × 5 columns</p>\n",
       "</div>"
      ],
      "text/plain": [
       "              id  churnLinear  churnExponencial_2  churnExponencial_e  \\\n",
       "0       C5841053     0.993464            0.999992            1.000000   \n",
       "1       C2142763     0.993464            0.999992            1.000000   \n",
       "2       C4417068     0.993464            0.999992            1.000000   \n",
       "3       C5342380     0.921569            0.992180            0.998433   \n",
       "4       C9031234     0.993464            0.999992            1.000000   \n",
       "...          ...          ...                 ...                 ...   \n",
       "884260  C5028150     0.933333            0.967742            0.988344   \n",
       "884261  C1034220     0.933333            0.967742            0.988344   \n",
       "884262  C8020229     0.933333            0.967742            0.988344   \n",
       "884263  C6459278     0.933333            0.967742            0.988344   \n",
       "884264  C6420483     0.933333            0.967742            0.988344   \n",
       "\n",
       "        churnRecente  \n",
       "0           0.941176  \n",
       "1           0.941176  \n",
       "2           0.941176  \n",
       "3           0.882353  \n",
       "4           0.941176  \n",
       "...              ...  \n",
       "884260      0.800000  \n",
       "884261      0.800000  \n",
       "884262      0.800000  \n",
       "884263      0.800000  \n",
       "884264      0.800000  \n",
       "\n",
       "[884265 rows x 5 columns]"
      ]
     },
     "execution_count": 2,
     "metadata": {},
     "output_type": "execute_result"
    }
   ],
   "source": [
    "df = pd.read_csv(\"churnResultadoFB.csv\")\n",
    "df"
   ]
  },
  {
   "cell_type": "code",
   "execution_count": 3,
   "metadata": {},
   "outputs": [
    {
     "data": {
      "text/html": [
       "<div>\n",
       "<style scoped>\n",
       "    .dataframe tbody tr th:only-of-type {\n",
       "        vertical-align: middle;\n",
       "    }\n",
       "\n",
       "    .dataframe tbody tr th {\n",
       "        vertical-align: top;\n",
       "    }\n",
       "\n",
       "    .dataframe thead th {\n",
       "        text-align: right;\n",
       "    }\n",
       "</style>\n",
       "<table border=\"1\" class=\"dataframe\">\n",
       "  <thead>\n",
       "    <tr style=\"text-align: right;\">\n",
       "      <th></th>\n",
       "      <th>churnLinear</th>\n",
       "      <th>churnExponencial_2</th>\n",
       "      <th>churnExponencial_e</th>\n",
       "      <th>churnRecente</th>\n",
       "    </tr>\n",
       "  </thead>\n",
       "  <tbody>\n",
       "    <tr>\n",
       "      <th>count</th>\n",
       "      <td>884265.000000</td>\n",
       "      <td>884265.000000</td>\n",
       "      <td>884265.000000</td>\n",
       "      <td>884265.000000</td>\n",
       "    </tr>\n",
       "    <tr>\n",
       "      <th>mean</th>\n",
       "      <td>0.936497</td>\n",
       "      <td>0.966166</td>\n",
       "      <td>0.979791</td>\n",
       "      <td>0.834650</td>\n",
       "    </tr>\n",
       "    <tr>\n",
       "      <th>std</th>\n",
       "      <td>0.071857</td>\n",
       "      <td>0.070559</td>\n",
       "      <td>0.058096</td>\n",
       "      <td>0.098638</td>\n",
       "    </tr>\n",
       "    <tr>\n",
       "      <th>min</th>\n",
       "      <td>0.400000</td>\n",
       "      <td>0.533333</td>\n",
       "      <td>0.643914</td>\n",
       "      <td>0.250000</td>\n",
       "    </tr>\n",
       "    <tr>\n",
       "      <th>25%</th>\n",
       "      <td>0.933333</td>\n",
       "      <td>0.967742</td>\n",
       "      <td>0.988344</td>\n",
       "      <td>0.800000</td>\n",
       "    </tr>\n",
       "    <tr>\n",
       "      <th>50%</th>\n",
       "      <td>0.952381</td>\n",
       "      <td>0.984127</td>\n",
       "      <td>0.995730</td>\n",
       "      <td>0.833333</td>\n",
       "    </tr>\n",
       "    <tr>\n",
       "      <th>75%</th>\n",
       "      <td>0.981818</td>\n",
       "      <td>0.999022</td>\n",
       "      <td>0.999922</td>\n",
       "      <td>0.900000</td>\n",
       "    </tr>\n",
       "    <tr>\n",
       "      <th>max</th>\n",
       "      <td>1.000000</td>\n",
       "      <td>1.000000</td>\n",
       "      <td>1.000000</td>\n",
       "      <td>1.000000</td>\n",
       "    </tr>\n",
       "  </tbody>\n",
       "</table>\n",
       "</div>"
      ],
      "text/plain": [
       "         churnLinear  churnExponencial_2  churnExponencial_e   churnRecente\n",
       "count  884265.000000       884265.000000       884265.000000  884265.000000\n",
       "mean        0.936497            0.966166            0.979791       0.834650\n",
       "std         0.071857            0.070559            0.058096       0.098638\n",
       "min         0.400000            0.533333            0.643914       0.250000\n",
       "25%         0.933333            0.967742            0.988344       0.800000\n",
       "50%         0.952381            0.984127            0.995730       0.833333\n",
       "75%         0.981818            0.999022            0.999922       0.900000\n",
       "max         1.000000            1.000000            1.000000       1.000000"
      ]
     },
     "execution_count": 3,
     "metadata": {},
     "output_type": "execute_result"
    }
   ],
   "source": [
    "df.describe()"
   ]
  },
  {
   "cell_type": "code",
   "execution_count": 4,
   "metadata": {},
   "outputs": [
    {
     "data": {
      "text/plain": [
       "<Axes: >"
      ]
     },
     "execution_count": 4,
     "metadata": {},
     "output_type": "execute_result"
    },
    {
     "data": {
      "image/png": "[encoded data removed]",
      "text/plain": [
       "<Figure size 640x480 with 1 Axes>"
      ]
     },
     "metadata": {},
     "output_type": "display_data"
    }
   ],
   "source": [
    "df.churnRecente.plot.box()"
   ]
  },
  {
   "cell_type": "code",
   "execution_count": 5,
   "metadata": {},
   "outputs": [
    {
     "data": {
      "text/plain": [
       "<Axes: >"
      ]
     },
     "execution_count": 5,
     "metadata": {},
     "output_type": "execute_result"
    },
    {
     "data": {
      "image/png": "[encoded data removed]",
      "text/plain": [
       "<Figure size 640x480 with 1 Axes>"
      ]
     },
     "metadata": {},
     "output_type": "display_data"
    }
   ],
   "source": [
    "df.churnExponencial_e.plot.box()"
   ]
  },
  {
   "cell_type": "code",
   "execution_count": 6,
   "metadata": {},
   "outputs": [
    {
     "data": {
      "text/plain": [
       "<Axes: >"
      ]
     },
     "execution_count": 6,
     "metadata": {},
     "output_type": "execute_result"
    },
    {
     "data": {
      "image/png": "[encoded data removed]",
      "text/plain": [
       "<Figure size 640x480 with 1 Axes>"
      ]
     },
     "metadata": {},
     "output_type": "display_data"
    }
   ],
   "source": [
    "df.churnExponencial_2.plot.box()"
   ]
  },
  {
   "cell_type": "code",
   "execution_count": 7,
   "metadata": {},
   "outputs": [
    {
     "data": {
      "text/plain": [
       "<Axes: >"
      ]
     },
     "execution_count": 7,
     "metadata": {},
     "output_type": "execute_result"
    },
    {
     "data": {
      "image/png": "[encoded data removed]",
      "text/plain": [
       "<Figure size 640x480 with 1 Axes>"
      ]
     },
     "metadata": {},
     "output_type": "display_data"
    }
   ],
   "source": [
    "df.churnLinear.plot.box()"
   ]
  },
  {
   "cell_type": "markdown",
   "metadata": {},
   "source": [
    "### Dataset do CDNOW"
   ]
  },
  {
   "cell_type": "code",
   "execution_count": 8,
   "metadata": {
    "scrolled": true
   },
   "outputs": [
    {
     "data": {
      "text/html": [
       "<div>\n",
       "<style scoped>\n",
       "    .dataframe tbody tr th:only-of-type {\n",
       "        vertical-align: middle;\n",
       "    }\n",
       "\n",
       "    .dataframe tbody tr th {\n",
       "        vertical-align: top;\n",
       "    }\n",
       "\n",
       "    .dataframe thead th {\n",
       "        text-align: right;\n",
       "    }\n",
       "</style>\n",
       "<table border=\"1\" class=\"dataframe\">\n",
       "  <thead>\n",
       "    <tr style=\"text-align: right;\">\n",
       "      <th></th>\n",
       "      <th>id</th>\n",
       "      <th>churnLinear</th>\n",
       "      <th>churnExponencial_2</th>\n",
       "      <th>churnExponencial_e</th>\n",
       "      <th>churnRecente</th>\n",
       "    </tr>\n",
       "  </thead>\n",
       "  <tbody>\n",
       "    <tr>\n",
       "      <th>0</th>\n",
       "      <td>2</td>\n",
       "      <td>0.9</td>\n",
       "      <td>0.933333</td>\n",
       "      <td>0.967941</td>\n",
       "      <td>0.75</td>\n",
       "    </tr>\n",
       "    <tr>\n",
       "      <th>1</th>\n",
       "      <td>3</td>\n",
       "      <td>0.6</td>\n",
       "      <td>0.666667</td>\n",
       "      <td>0.731059</td>\n",
       "      <td>0.50</td>\n",
       "    </tr>\n",
       "    <tr>\n",
       "      <th>2</th>\n",
       "      <td>4</td>\n",
       "      <td>0.3</td>\n",
       "      <td>0.266667</td>\n",
       "      <td>0.236883</td>\n",
       "      <td>0.25</td>\n",
       "    </tr>\n",
       "    <tr>\n",
       "      <th>3</th>\n",
       "      <td>5</td>\n",
       "      <td>0.0</td>\n",
       "      <td>0.000000</td>\n",
       "      <td>0.000000</td>\n",
       "      <td>0.00</td>\n",
       "    </tr>\n",
       "    <tr>\n",
       "      <th>4</th>\n",
       "      <td>6</td>\n",
       "      <td>0.9</td>\n",
       "      <td>0.933333</td>\n",
       "      <td>0.967941</td>\n",
       "      <td>0.75</td>\n",
       "    </tr>\n",
       "    <tr>\n",
       "      <th>...</th>\n",
       "      <td>...</td>\n",
       "      <td>...</td>\n",
       "      <td>...</td>\n",
       "      <td>...</td>\n",
       "      <td>...</td>\n",
       "    </tr>\n",
       "    <tr>\n",
       "      <th>23564</th>\n",
       "      <td>23566</td>\n",
       "      <td>0.9</td>\n",
       "      <td>0.933333</td>\n",
       "      <td>0.967941</td>\n",
       "      <td>0.75</td>\n",
       "    </tr>\n",
       "    <tr>\n",
       "      <th>23565</th>\n",
       "      <td>23567</td>\n",
       "      <td>0.9</td>\n",
       "      <td>0.933333</td>\n",
       "      <td>0.967941</td>\n",
       "      <td>0.75</td>\n",
       "    </tr>\n",
       "    <tr>\n",
       "      <th>23566</th>\n",
       "      <td>23568</td>\n",
       "      <td>0.9</td>\n",
       "      <td>0.933333</td>\n",
       "      <td>0.967941</td>\n",
       "      <td>0.75</td>\n",
       "    </tr>\n",
       "    <tr>\n",
       "      <th>23567</th>\n",
       "      <td>23569</td>\n",
       "      <td>0.9</td>\n",
       "      <td>0.933333</td>\n",
       "      <td>0.967941</td>\n",
       "      <td>0.75</td>\n",
       "    </tr>\n",
       "    <tr>\n",
       "      <th>23568</th>\n",
       "      <td>23570</td>\n",
       "      <td>0.9</td>\n",
       "      <td>0.933333</td>\n",
       "      <td>0.967941</td>\n",
       "      <td>0.75</td>\n",
       "    </tr>\n",
       "  </tbody>\n",
       "</table>\n",
       "<p>23569 rows × 5 columns</p>\n",
       "</div>"
      ],
      "text/plain": [
       "          id  churnLinear  churnExponencial_2  churnExponencial_e  \\\n",
       "0          2          0.9            0.933333            0.967941   \n",
       "1          3          0.6            0.666667            0.731059   \n",
       "2          4          0.3            0.266667            0.236883   \n",
       "3          5          0.0            0.000000            0.000000   \n",
       "4          6          0.9            0.933333            0.967941   \n",
       "...      ...          ...                 ...                 ...   \n",
       "23564  23566          0.9            0.933333            0.967941   \n",
       "23565  23567          0.9            0.933333            0.967941   \n",
       "23566  23568          0.9            0.933333            0.967941   \n",
       "23567  23569          0.9            0.933333            0.967941   \n",
       "23568  23570          0.9            0.933333            0.967941   \n",
       "\n",
       "       churnRecente  \n",
       "0              0.75  \n",
       "1              0.50  \n",
       "2              0.25  \n",
       "3              0.00  \n",
       "4              0.75  \n",
       "...             ...  \n",
       "23564          0.75  \n",
       "23565          0.75  \n",
       "23566          0.75  \n",
       "23567          0.75  \n",
       "23568          0.75  \n",
       "\n",
       "[23569 rows x 5 columns]"
      ]
     },
     "execution_count": 8,
     "metadata": {},
     "output_type": "execute_result"
    }
   ],
   "source": [
    "df2 = pd.read_csv(\"churnResultadoFCD.csv\")\n",
    "df2"
   ]
  },
  {
   "cell_type": "code",
   "execution_count": 9,
   "metadata": {},
   "outputs": [
    {
     "data": {
      "text/html": [
       "<div>\n",
       "<style scoped>\n",
       "    .dataframe tbody tr th:only-of-type {\n",
       "        vertical-align: middle;\n",
       "    }\n",
       "\n",
       "    .dataframe tbody tr th {\n",
       "        vertical-align: top;\n",
       "    }\n",
       "\n",
       "    .dataframe thead th {\n",
       "        text-align: right;\n",
       "    }\n",
       "</style>\n",
       "<table border=\"1\" class=\"dataframe\">\n",
       "  <thead>\n",
       "    <tr style=\"text-align: right;\">\n",
       "      <th></th>\n",
       "      <th>id</th>\n",
       "      <th>churnLinear</th>\n",
       "      <th>churnExponencial_2</th>\n",
       "      <th>churnExponencial_e</th>\n",
       "      <th>churnRecente</th>\n",
       "    </tr>\n",
       "  </thead>\n",
       "  <tbody>\n",
       "    <tr>\n",
       "      <th>count</th>\n",
       "      <td>23569.000000</td>\n",
       "      <td>23569.000000</td>\n",
       "      <td>23569.000000</td>\n",
       "      <td>23569.000000</td>\n",
       "      <td>23569.000000</td>\n",
       "    </tr>\n",
       "    <tr>\n",
       "      <th>mean</th>\n",
       "      <td>11786.000000</td>\n",
       "      <td>0.718647</td>\n",
       "      <td>0.748916</td>\n",
       "      <td>0.779281</td>\n",
       "      <td>0.595178</td>\n",
       "    </tr>\n",
       "    <tr>\n",
       "      <th>std</th>\n",
       "      <td>6803.928583</td>\n",
       "      <td>0.278799</td>\n",
       "      <td>0.297621</td>\n",
       "      <td>0.319440</td>\n",
       "      <td>0.231293</td>\n",
       "    </tr>\n",
       "    <tr>\n",
       "      <th>min</th>\n",
       "      <td>2.000000</td>\n",
       "      <td>0.000000</td>\n",
       "      <td>0.000000</td>\n",
       "      <td>0.000000</td>\n",
       "      <td>0.000000</td>\n",
       "    </tr>\n",
       "    <tr>\n",
       "      <th>25%</th>\n",
       "      <td>5894.000000</td>\n",
       "      <td>0.600000</td>\n",
       "      <td>0.666667</td>\n",
       "      <td>0.731059</td>\n",
       "      <td>0.500000</td>\n",
       "    </tr>\n",
       "    <tr>\n",
       "      <th>50%</th>\n",
       "      <td>11786.000000</td>\n",
       "      <td>0.900000</td>\n",
       "      <td>0.933333</td>\n",
       "      <td>0.967941</td>\n",
       "      <td>0.750000</td>\n",
       "    </tr>\n",
       "    <tr>\n",
       "      <th>75%</th>\n",
       "      <td>17678.000000</td>\n",
       "      <td>0.900000</td>\n",
       "      <td>0.933333</td>\n",
       "      <td>0.967941</td>\n",
       "      <td>0.750000</td>\n",
       "    </tr>\n",
       "    <tr>\n",
       "      <th>max</th>\n",
       "      <td>23570.000000</td>\n",
       "      <td>0.900000</td>\n",
       "      <td>0.933333</td>\n",
       "      <td>0.967941</td>\n",
       "      <td>0.750000</td>\n",
       "    </tr>\n",
       "  </tbody>\n",
       "</table>\n",
       "</div>"
      ],
      "text/plain": [
       "                 id   churnLinear  churnExponencial_2  churnExponencial_e  \\\n",
       "count  23569.000000  23569.000000        23569.000000        23569.000000   \n",
       "mean   11786.000000      0.718647            0.748916            0.779281   \n",
       "std     6803.928583      0.278799            0.297621            0.319440   \n",
       "min        2.000000      0.000000            0.000000            0.000000   \n",
       "25%     5894.000000      0.600000            0.666667            0.731059   \n",
       "50%    11786.000000      0.900000            0.933333            0.967941   \n",
       "75%    17678.000000      0.900000            0.933333            0.967941   \n",
       "max    23570.000000      0.900000            0.933333            0.967941   \n",
       "\n",
       "       churnRecente  \n",
       "count  23569.000000  \n",
       "mean       0.595178  \n",
       "std        0.231293  \n",
       "min        0.000000  \n",
       "25%        0.500000  \n",
       "50%        0.750000  \n",
       "75%        0.750000  \n",
       "max        0.750000  "
      ]
     },
     "execution_count": 9,
     "metadata": {},
     "output_type": "execute_result"
    }
   ],
   "source": [
    "df2.describe()"
   ]
  },
  {
   "cell_type": "code",
   "execution_count": 10,
   "metadata": {},
   "outputs": [
    {
     "data": {
      "text/plain": [
       "<Axes: >"
      ]
     },
     "execution_count": 10,
     "metadata": {},
     "output_type": "execute_result"
    },
    {
     "data": {
      "image/png": "[encoded data removed]",
      "text/plain": [
       "<Figure size 640x480 with 1 Axes>"
      ]
     },
     "metadata": {},
     "output_type": "display_data"
    }
   ],
   "source": [
    "df2.churnLinear.plot.box()"
   ]
  },
  {
   "cell_type": "code",
   "execution_count": 11,
   "metadata": {},
   "outputs": [
    {
     "data": {
      "text/plain": [
       "<Axes: >"
      ]
     },
     "execution_count": 11,
     "metadata": {},
     "output_type": "execute_result"
    },
    {
     "data": {
      "image/png": "[encoded data removed]",
      "text/plain": [
       "<Figure size 640x480 with 1 Axes>"
      ]
     },
     "metadata": {},
     "output_type": "display_data"
    }
   ],
   "source": [
    "df2.churnExponencial_2.plot.box()"
   ]
  },
  {
   "cell_type": "code",
   "execution_count": 12,
   "metadata": {},
   "outputs": [
    {
     "data": {
      "text/plain": [
       "<Axes: >"
      ]
     },
     "execution_count": 12,
     "metadata": {},
     "output_type": "execute_result"
    },
    {
     "data": {
      "image/png": "[encoded data removed]",
      "text/plain": [
       "<Figure size 640x480 with 1 Axes>"
      ]
     },
     "metadata": {},
     "output_type": "display_data"
    }
   ],
   "source": [
    "df2.churnExponencial_e.plot.box()"
   ]
  },
  {
   "cell_type": "code",
   "execution_count": 13,
   "metadata": {},
   "outputs": [
    {
     "data": {
      "text/plain": [
       "<Axes: >"
      ]
     },
     "execution_count": 13,
     "metadata": {},
     "output_type": "execute_result"
    },
    {
     "data": {
      "image/png": "[encoded data removed]",
      "text/plain": [
       "<Figure size 640x480 with 1 Axes>"
      ]
     },
     "metadata": {},
     "output_type": "display_data"
    }
   ],
   "source": [
    "df2.churnRecente.plot.box()"
   ]
  },
  {
   "cell_type": "markdown",
   "metadata": {},
   "source": [
    "### Dataset trans_clean.csv"
   ]
  },
  {
   "cell_type": "code",
   "execution_count": 15,
   "metadata": {},
   "outputs": [
    {
     "data": {
      "text/html": [
       "<div>\n",
       "<style scoped>\n",
       "    .dataframe tbody tr th:only-of-type {\n",
       "        vertical-align: middle;\n",
       "    }\n",
       "\n",
       "    .dataframe tbody tr th {\n",
       "        vertical-align: top;\n",
       "    }\n",
       "\n",
       "    .dataframe thead th {\n",
       "        text-align: right;\n",
       "    }\n",
       "</style>\n",
       "<table border=\"1\" class=\"dataframe\">\n",
       "  <thead>\n",
       "    <tr style=\"text-align: right;\">\n",
       "      <th></th>\n",
       "      <th>id</th>\n",
       "      <th>churnLinear</th>\n",
       "      <th>churnExponencial_2</th>\n",
       "      <th>churnExponencial_e</th>\n",
       "      <th>churnRecente</th>\n",
       "    </tr>\n",
       "  </thead>\n",
       "  <tbody>\n",
       "    <tr>\n",
       "      <th>0</th>\n",
       "      <td>2378</td>\n",
       "      <td>0.366300</td>\n",
       "      <td>0.402966</td>\n",
       "      <td>0.324528</td>\n",
       "      <td>0.348066</td>\n",
       "    </tr>\n",
       "    <tr>\n",
       "      <th>1</th>\n",
       "      <td>576</td>\n",
       "      <td>0.454469</td>\n",
       "      <td>0.838709</td>\n",
       "      <td>0.902215</td>\n",
       "      <td>0.455801</td>\n",
       "    </tr>\n",
       "    <tr>\n",
       "      <th>2</th>\n",
       "      <td>704</td>\n",
       "      <td>0.317626</td>\n",
       "      <td>0.274194</td>\n",
       "      <td>0.238410</td>\n",
       "      <td>0.306630</td>\n",
       "    </tr>\n",
       "    <tr>\n",
       "      <th>3</th>\n",
       "      <td>3818</td>\n",
       "      <td>0.394122</td>\n",
       "      <td>0.838710</td>\n",
       "      <td>0.902215</td>\n",
       "      <td>0.370166</td>\n",
       "    </tr>\n",
       "    <tr>\n",
       "      <th>4</th>\n",
       "      <td>1972</td>\n",
       "      <td>0.418383</td>\n",
       "      <td>0.024194</td>\n",
       "      <td>0.005866</td>\n",
       "      <td>0.425414</td>\n",
       "    </tr>\n",
       "    <tr>\n",
       "      <th>...</th>\n",
       "      <td>...</td>\n",
       "      <td>...</td>\n",
       "      <td>...</td>\n",
       "      <td>...</td>\n",
       "      <td>...</td>\n",
       "    </tr>\n",
       "    <tr>\n",
       "      <th>4495</th>\n",
       "      <td>124</td>\n",
       "      <td>0.186145</td>\n",
       "      <td>0.500252</td>\n",
       "      <td>0.632131</td>\n",
       "      <td>0.245902</td>\n",
       "    </tr>\n",
       "    <tr>\n",
       "      <th>4496</th>\n",
       "      <td>3958</td>\n",
       "      <td>0.398731</td>\n",
       "      <td>0.387097</td>\n",
       "      <td>0.320250</td>\n",
       "      <td>0.409836</td>\n",
       "    </tr>\n",
       "    <tr>\n",
       "      <th>4497</th>\n",
       "      <td>777</td>\n",
       "      <td>0.197250</td>\n",
       "      <td>0.500069</td>\n",
       "      <td>0.632122</td>\n",
       "      <td>0.262295</td>\n",
       "    </tr>\n",
       "    <tr>\n",
       "      <th>4498</th>\n",
       "      <td>3276</td>\n",
       "      <td>0.262295</td>\n",
       "      <td>0.758065</td>\n",
       "      <td>0.866242</td>\n",
       "      <td>0.283333</td>\n",
       "    </tr>\n",
       "    <tr>\n",
       "      <th>4499</th>\n",
       "      <td>1573</td>\n",
       "      <td>0.444262</td>\n",
       "      <td>0.336756</td>\n",
       "      <td>0.269883</td>\n",
       "      <td>0.466667</td>\n",
       "    </tr>\n",
       "  </tbody>\n",
       "</table>\n",
       "<p>4500 rows × 5 columns</p>\n",
       "</div>"
      ],
      "text/plain": [
       "        id  churnLinear  churnExponencial_2  churnExponencial_e  churnRecente\n",
       "0     2378     0.366300            0.402966            0.324528      0.348066\n",
       "1      576     0.454469            0.838709            0.902215      0.455801\n",
       "2      704     0.317626            0.274194            0.238410      0.306630\n",
       "3     3818     0.394122            0.838710            0.902215      0.370166\n",
       "4     1972     0.418383            0.024194            0.005866      0.425414\n",
       "...    ...          ...                 ...                 ...           ...\n",
       "4495   124     0.186145            0.500252            0.632131      0.245902\n",
       "4496  3958     0.398731            0.387097            0.320250      0.409836\n",
       "4497   777     0.197250            0.500069            0.632122      0.262295\n",
       "4498  3276     0.262295            0.758065            0.866242      0.283333\n",
       "4499  1573     0.444262            0.336756            0.269883      0.466667\n",
       "\n",
       "[4500 rows x 5 columns]"
      ]
     },
     "execution_count": 15,
     "metadata": {},
     "output_type": "execute_result"
    }
   ],
   "source": [
    "df3 = pd.read_csv(\"../churnResultadoTrans.csv\")\n",
    "df3"
   ]
  },
  {
   "cell_type": "code",
   "execution_count": 16,
   "metadata": {},
   "outputs": [
    {
     "data": {
      "text/html": [
       "<div>\n",
       "<style scoped>\n",
       "    .dataframe tbody tr th:only-of-type {\n",
       "        vertical-align: middle;\n",
       "    }\n",
       "\n",
       "    .dataframe tbody tr th {\n",
       "        vertical-align: top;\n",
       "    }\n",
       "\n",
       "    .dataframe thead th {\n",
       "        text-align: right;\n",
       "    }\n",
       "</style>\n",
       "<table border=\"1\" class=\"dataframe\">\n",
       "  <thead>\n",
       "    <tr style=\"text-align: right;\">\n",
       "      <th></th>\n",
       "      <th>id</th>\n",
       "      <th>churnLinear</th>\n",
       "      <th>churnExponencial_2</th>\n",
       "      <th>churnExponencial_e</th>\n",
       "      <th>churnRecente</th>\n",
       "    </tr>\n",
       "  </thead>\n",
       "  <tbody>\n",
       "    <tr>\n",
       "      <th>count</th>\n",
       "      <td>4500.000000</td>\n",
       "      <td>4500.000000</td>\n",
       "      <td>4.500000e+03</td>\n",
       "      <td>4.500000e+03</td>\n",
       "      <td>4500.000000</td>\n",
       "    </tr>\n",
       "    <tr>\n",
       "      <th>mean</th>\n",
       "      <td>2786.067556</td>\n",
       "      <td>0.377179</td>\n",
       "      <td>5.318783e-01</td>\n",
       "      <td>5.833395e-01</td>\n",
       "      <td>0.394094</td>\n",
       "    </tr>\n",
       "    <tr>\n",
       "      <th>std</th>\n",
       "      <td>2313.811984</td>\n",
       "      <td>0.105963</td>\n",
       "      <td>2.684988e-01</td>\n",
       "      <td>3.157414e-01</td>\n",
       "      <td>0.100023</td>\n",
       "    </tr>\n",
       "    <tr>\n",
       "      <th>min</th>\n",
       "      <td>1.000000</td>\n",
       "      <td>0.072491</td>\n",
       "      <td>7.690936e-09</td>\n",
       "      <td>3.251510e-12</td>\n",
       "      <td>0.138122</td>\n",
       "    </tr>\n",
       "    <tr>\n",
       "      <th>25%</th>\n",
       "      <td>1182.750000</td>\n",
       "      <td>0.312954</td>\n",
       "      <td>3.223365e-01</td>\n",
       "      <td>2.657960e-01</td>\n",
       "      <td>0.329537</td>\n",
       "    </tr>\n",
       "    <tr>\n",
       "      <th>50%</th>\n",
       "      <td>2368.000000</td>\n",
       "      <td>0.368447</td>\n",
       "      <td>5.717283e-01</td>\n",
       "      <td>6.652861e-01</td>\n",
       "      <td>0.383504</td>\n",
       "    </tr>\n",
       "    <tr>\n",
       "      <th>75%</th>\n",
       "      <td>3552.250000</td>\n",
       "      <td>0.428079</td>\n",
       "      <td>7.741783e-01</td>\n",
       "      <td>8.705301e-01</td>\n",
       "      <td>0.442308</td>\n",
       "    </tr>\n",
       "    <tr>\n",
       "      <th>max</th>\n",
       "      <td>11382.000000</td>\n",
       "      <td>0.974222</td>\n",
       "      <td>1.000000e+00</td>\n",
       "      <td>1.000000e+00</td>\n",
       "      <td>0.936620</td>\n",
       "    </tr>\n",
       "  </tbody>\n",
       "</table>\n",
       "</div>"
      ],
      "text/plain": [
       "                 id  churnLinear  churnExponencial_2  churnExponencial_e  \\\n",
       "count   4500.000000  4500.000000        4.500000e+03        4.500000e+03   \n",
       "mean    2786.067556     0.377179        5.318783e-01        5.833395e-01   \n",
       "std     2313.811984     0.105963        2.684988e-01        3.157414e-01   \n",
       "min        1.000000     0.072491        7.690936e-09        3.251510e-12   \n",
       "25%     1182.750000     0.312954        3.223365e-01        2.657960e-01   \n",
       "50%     2368.000000     0.368447        5.717283e-01        6.652861e-01   \n",
       "75%     3552.250000     0.428079        7.741783e-01        8.705301e-01   \n",
       "max    11382.000000     0.974222        1.000000e+00        1.000000e+00   \n",
       "\n",
       "       churnRecente  \n",
       "count   4500.000000  \n",
       "mean       0.394094  \n",
       "std        0.100023  \n",
       "min        0.138122  \n",
       "25%        0.329537  \n",
       "50%        0.383504  \n",
       "75%        0.442308  \n",
       "max        0.936620  "
      ]
     },
     "execution_count": 16,
     "metadata": {},
     "output_type": "execute_result"
    }
   ],
   "source": [
    "df3.describe()"
   ]
  },
  {
   "cell_type": "code",
   "execution_count": 17,
   "metadata": {},
   "outputs": [
    {
     "data": {
      "text/plain": [
       "<Axes: >"
      ]
     },
     "execution_count": 17,
     "metadata": {},
     "output_type": "execute_result"
    },
    {
     "data": {
      "image/png": "[encoded data removed]",
      "text/plain": [
       "<Figure size 640x480 with 1 Axes>"
      ]
     },
     "metadata": {},
     "output_type": "display_data"
    }
   ],
   "source": [
    "df3.churnRecente.plot.box()"
   ]
  },
  {
   "cell_type": "code",
   "execution_count": 18,
   "metadata": {},
   "outputs": [
    {
     "data": {
      "text/plain": [
       "<Axes: >"
      ]
     },
     "execution_count": 18,
     "metadata": {},
     "output_type": "execute_result"
    },
    {
     "data": {
      "image/png": "[encoded data removed]",
      "text/plain": [
       "<Figure size 640x480 with 1 Axes>"
      ]
     },
     "metadata": {},
     "output_type": "display_data"
    }
   ],
   "source": [
    "df3.churnExponencial_e.plot.box()"
   ]
  },
  {
   "cell_type": "code",
   "execution_count": 19,
   "metadata": {},
   "outputs": [
    {
     "data": {
      "text/plain": [
       "<Axes: >"
      ]
     },
     "execution_count": 19,
     "metadata": {},
     "output_type": "execute_result"
    },
    {
     "data": {
      "image/png": "[encoded data removed]",
      "text/plain": [
       "<Figure size 640x480 with 1 Axes>"
      ]
     },
     "metadata": {},
     "output_type": "display_data"
    }
   ],
   "source": [
    "df3.churnExponencial_2.plot.box()"
   ]
  },
  {
   "cell_type": "code",
   "execution_count": 20,
   "metadata": {},
   "outputs": [
    {
     "data": {
      "text/plain": [
       "<Axes: >"
      ]
     },
     "execution_count": 20,
     "metadata": {},
     "output_type": "execute_result"
    },
    {
     "data": {
      "image/png": "[encoded data removed]",
      "text/plain": [
       "<Figure size 640x480 with 1 Axes>"
      ]
     },
     "metadata": {},
     "output_type": "display_data"
    }
   ],
   "source": [
    "df3.churnLinear.plot.box()"
   ]
  }
 ],
 "metadata": {
  "kernelspec": {
   "display_name": "Python 3 (ipykernel)",
   "language": "python",
   "name": "python3"
  },
  "language_info": {
   "codemirror_mode": {
    "name": "ipython",
    "version": 3
   },
   "file_extension": ".py",
   "mimetype": "text/x-python",
   "name": "python",
   "nbconvert_exporter": "python",
   "pygments_lexer": "ipython3",
   "version": "3.8.10"
  },
  "widgets": {
   "application/vnd.jupyter.widget-state+json": {
    "state": {},
    "version_major": 2,
    "version_minor": 0
   }
  }
 },
 "nbformat": 4,
 "nbformat_minor": 4
}
