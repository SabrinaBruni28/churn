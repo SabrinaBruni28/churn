{
 "cells": [
  {
   "cell_type": "markdown",
   "metadata": {},
   "source": [
    "# Resultado dos Churns ponderados recentes"
   ]
  },
  {
   "cell_type": "code",
   "execution_count": 1,
   "metadata": {},
   "outputs": [],
   "source": [
    "import pandas as pd"
   ]
  },
  {
   "cell_type": "markdown",
   "metadata": {},
   "source": [
    "### Dataset do bank "
   ]
  },
  {
   "cell_type": "code",
   "execution_count": 2,
   "metadata": {
    "scrolled": true
   },
   "outputs": [
    {
     "data": {
      "text/html": [
       "<div>\n",
       "<style scoped>\n",
       "    .dataframe tbody tr th:only-of-type {\n",
       "        vertical-align: middle;\n",
       "    }\n",
       "\n",
       "    .dataframe tbody tr th {\n",
       "        vertical-align: top;\n",
       "    }\n",
       "\n",
       "    .dataframe thead th {\n",
       "        text-align: right;\n",
       "    }\n",
       "</style>\n",
       "<table border=\"1\" class=\"dataframe\">\n",
       "  <thead>\n",
       "    <tr style=\"text-align: right;\">\n",
       "      <th></th>\n",
       "      <th>id</th>\n",
       "      <th>churnLinear</th>\n",
       "      <th>churnExponencial_2</th>\n",
       "      <th>churnExponencial_e</th>\n",
       "      <th>churnRecente</th>\n",
       "    </tr>\n",
       "  </thead>\n",
       "  <tbody>\n",
       "    <tr>\n",
       "      <th>0</th>\n",
       "      <td>C5841053</td>\n",
       "      <td>0.981818</td>\n",
       "      <td>0.999022</td>\n",
       "      <td>0.999922</td>\n",
       "      <td>0.900000</td>\n",
       "    </tr>\n",
       "    <tr>\n",
       "      <th>1</th>\n",
       "      <td>C2142763</td>\n",
       "      <td>0.981818</td>\n",
       "      <td>0.999022</td>\n",
       "      <td>0.999922</td>\n",
       "      <td>0.900000</td>\n",
       "    </tr>\n",
       "    <tr>\n",
       "      <th>2</th>\n",
       "      <td>C4417068</td>\n",
       "      <td>0.981818</td>\n",
       "      <td>0.999022</td>\n",
       "      <td>0.999922</td>\n",
       "      <td>0.900000</td>\n",
       "    </tr>\n",
       "    <tr>\n",
       "      <th>3</th>\n",
       "      <td>C5342380</td>\n",
       "      <td>0.854545</td>\n",
       "      <td>0.936461</td>\n",
       "      <td>0.968449</td>\n",
       "      <td>0.800000</td>\n",
       "    </tr>\n",
       "    <tr>\n",
       "      <th>4</th>\n",
       "      <td>C9031234</td>\n",
       "      <td>0.981818</td>\n",
       "      <td>0.999022</td>\n",
       "      <td>0.999922</td>\n",
       "      <td>0.900000</td>\n",
       "    </tr>\n",
       "    <tr>\n",
       "      <th>...</th>\n",
       "      <td>...</td>\n",
       "      <td>...</td>\n",
       "      <td>...</td>\n",
       "      <td>...</td>\n",
       "      <td>...</td>\n",
       "    </tr>\n",
       "    <tr>\n",
       "      <th>884260</th>\n",
       "      <td>C5028150</td>\n",
       "      <td>0.833333</td>\n",
       "      <td>0.857143</td>\n",
       "      <td>0.909969</td>\n",
       "      <td>0.666667</td>\n",
       "    </tr>\n",
       "    <tr>\n",
       "      <th>884261</th>\n",
       "      <td>C1034220</td>\n",
       "      <td>0.833333</td>\n",
       "      <td>0.857143</td>\n",
       "      <td>0.909969</td>\n",
       "      <td>0.666667</td>\n",
       "    </tr>\n",
       "    <tr>\n",
       "      <th>884262</th>\n",
       "      <td>C8020229</td>\n",
       "      <td>0.833333</td>\n",
       "      <td>0.857143</td>\n",
       "      <td>0.909969</td>\n",
       "      <td>0.666667</td>\n",
       "    </tr>\n",
       "    <tr>\n",
       "      <th>884263</th>\n",
       "      <td>C6459278</td>\n",
       "      <td>0.833333</td>\n",
       "      <td>0.857143</td>\n",
       "      <td>0.909969</td>\n",
       "      <td>0.666667</td>\n",
       "    </tr>\n",
       "    <tr>\n",
       "      <th>884264</th>\n",
       "      <td>C6420483</td>\n",
       "      <td>0.833333</td>\n",
       "      <td>0.857143</td>\n",
       "      <td>0.909969</td>\n",
       "      <td>0.666667</td>\n",
       "    </tr>\n",
       "  </tbody>\n",
       "</table>\n",
       "<p>884265 rows × 5 columns</p>\n",
       "</div>"
      ],
      "text/plain": [
       "              id  churnLinear  churnExponencial_2  churnExponencial_e  \\\n",
       "0       C5841053     0.981818            0.999022            0.999922   \n",
       "1       C2142763     0.981818            0.999022            0.999922   \n",
       "2       C4417068     0.981818            0.999022            0.999922   \n",
       "3       C5342380     0.854545            0.936461            0.968449   \n",
       "4       C9031234     0.981818            0.999022            0.999922   \n",
       "...          ...          ...                 ...                 ...   \n",
       "884260  C5028150     0.833333            0.857143            0.909969   \n",
       "884261  C1034220     0.833333            0.857143            0.909969   \n",
       "884262  C8020229     0.833333            0.857143            0.909969   \n",
       "884263  C6459278     0.833333            0.857143            0.909969   \n",
       "884264  C6420483     0.833333            0.857143            0.909969   \n",
       "\n",
       "        churnRecente  \n",
       "0           0.900000  \n",
       "1           0.900000  \n",
       "2           0.900000  \n",
       "3           0.800000  \n",
       "4           0.900000  \n",
       "...              ...  \n",
       "884260      0.666667  \n",
       "884261      0.666667  \n",
       "884262      0.666667  \n",
       "884263      0.666667  \n",
       "884264      0.666667  \n",
       "\n",
       "[884265 rows x 5 columns]"
      ]
     },
     "execution_count": 2,
     "metadata": {},
     "output_type": "execute_result"
    }
   ],
   "source": [
    "df = pd.read_csv(\"churnResultadoBank.csv\")\n",
    "df"
   ]
  },
  {
   "cell_type": "code",
   "execution_count": 3,
   "metadata": {},
   "outputs": [
    {
     "data": {
      "text/html": [
       "<div>\n",
       "<style scoped>\n",
       "    .dataframe tbody tr th:only-of-type {\n",
       "        vertical-align: middle;\n",
       "    }\n",
       "\n",
       "    .dataframe tbody tr th {\n",
       "        vertical-align: top;\n",
       "    }\n",
       "\n",
       "    .dataframe thead th {\n",
       "        text-align: right;\n",
       "    }\n",
       "</style>\n",
       "<table border=\"1\" class=\"dataframe\">\n",
       "  <thead>\n",
       "    <tr style=\"text-align: right;\">\n",
       "      <th></th>\n",
       "      <th>churnLinear</th>\n",
       "      <th>churnExponencial_2</th>\n",
       "      <th>churnExponencial_e</th>\n",
       "      <th>churnRecente</th>\n",
       "    </tr>\n",
       "  </thead>\n",
       "  <tbody>\n",
       "    <tr>\n",
       "      <th>count</th>\n",
       "      <td>884265.000000</td>\n",
       "      <td>884265.000000</td>\n",
       "      <td>8.842650e+05</td>\n",
       "      <td>884265.000000</td>\n",
       "    </tr>\n",
       "    <tr>\n",
       "      <th>mean</th>\n",
       "      <td>0.847089</td>\n",
       "      <td>0.875345</td>\n",
       "      <td>9.041817e-01</td>\n",
       "      <td>0.725110</td>\n",
       "    </tr>\n",
       "    <tr>\n",
       "      <th>std</th>\n",
       "      <td>0.197668</td>\n",
       "      <td>0.204729</td>\n",
       "      <td>2.080484e-01</td>\n",
       "      <td>0.191401</td>\n",
       "    </tr>\n",
       "    <tr>\n",
       "      <th>min</th>\n",
       "      <td>0.000000</td>\n",
       "      <td>0.000000</td>\n",
       "      <td>-2.220446e-16</td>\n",
       "      <td>0.000000</td>\n",
       "    </tr>\n",
       "    <tr>\n",
       "      <th>25%</th>\n",
       "      <td>0.833333</td>\n",
       "      <td>0.857143</td>\n",
       "      <td>9.099694e-01</td>\n",
       "      <td>0.666667</td>\n",
       "    </tr>\n",
       "    <tr>\n",
       "      <th>50%</th>\n",
       "      <td>0.900000</td>\n",
       "      <td>0.933333</td>\n",
       "      <td>9.679414e-01</td>\n",
       "      <td>0.750000</td>\n",
       "    </tr>\n",
       "    <tr>\n",
       "      <th>75%</th>\n",
       "      <td>0.952381</td>\n",
       "      <td>0.984127</td>\n",
       "      <td>9.957302e-01</td>\n",
       "      <td>0.833333</td>\n",
       "    </tr>\n",
       "    <tr>\n",
       "      <th>max</th>\n",
       "      <td>1.000000</td>\n",
       "      <td>1.000000</td>\n",
       "      <td>1.000000e+00</td>\n",
       "      <td>1.000000</td>\n",
       "    </tr>\n",
       "  </tbody>\n",
       "</table>\n",
       "</div>"
      ],
      "text/plain": [
       "         churnLinear  churnExponencial_2  churnExponencial_e   churnRecente\n",
       "count  884265.000000       884265.000000        8.842650e+05  884265.000000\n",
       "mean        0.847089            0.875345        9.041817e-01       0.725110\n",
       "std         0.197668            0.204729        2.080484e-01       0.191401\n",
       "min         0.000000            0.000000       -2.220446e-16       0.000000\n",
       "25%         0.833333            0.857143        9.099694e-01       0.666667\n",
       "50%         0.900000            0.933333        9.679414e-01       0.750000\n",
       "75%         0.952381            0.984127        9.957302e-01       0.833333\n",
       "max         1.000000            1.000000        1.000000e+00       1.000000"
      ]
     },
     "execution_count": 3,
     "metadata": {},
     "output_type": "execute_result"
    }
   ],
   "source": [
    "df.describe()"
   ]
  },
  {
   "cell_type": "code",
   "execution_count": 4,
   "metadata": {},
   "outputs": [
    {
     "data": {
      "text/plain": [
       "<Axes: >"
      ]
     },
     "execution_count": 4,
     "metadata": {},
     "output_type": "execute_result"
    },
    {
     "data": {
      "image/png": "[encoded data removed]",
      "text/plain": [
       "<Figure size 640x480 with 1 Axes>"
      ]
     },
     "metadata": {},
     "output_type": "display_data"
    }
   ],
   "source": [
    "df.churnRecente.plot.box()"
   ]
  },
  {
   "cell_type": "code",
   "execution_count": 5,
   "metadata": {},
   "outputs": [
    {
     "data": {
      "text/plain": [
       "<Axes: >"
      ]
     },
     "execution_count": 5,
     "metadata": {},
     "output_type": "execute_result"
    },
    {
     "data": {
      "image/png": "[encoded data removed]",
      "text/plain": [
       "<Figure size 640x480 with 1 Axes>"
      ]
     },
     "metadata": {},
     "output_type": "display_data"
    }
   ],
   "source": [
    "df.churnExponencial_e.plot.box()"
   ]
  },
  {
   "cell_type": "code",
   "execution_count": 6,
   "metadata": {},
   "outputs": [
    {
     "data": {
      "text/plain": [
       "<Axes: >"
      ]
     },
     "execution_count": 6,
     "metadata": {},
     "output_type": "execute_result"
    },
    {
     "data": {
      "image/png": "[encoded data removed]",
      "text/plain": [
       "<Figure size 640x480 with 1 Axes>"
      ]
     },
     "metadata": {},
     "output_type": "display_data"
    }
   ],
   "source": [
    "df.churnExponencial_2.plot.box()"
   ]
  },
  {
   "cell_type": "code",
   "execution_count": 7,
   "metadata": {},
   "outputs": [
    {
     "data": {
      "text/plain": [
       "<Axes: >"
      ]
     },
     "execution_count": 7,
     "metadata": {},
     "output_type": "execute_result"
    },
    {
     "data": {
      "image/png": "[encoded data removed]",
      "text/plain": [
       "<Figure size 640x480 with 1 Axes>"
      ]
     },
     "metadata": {},
     "output_type": "display_data"
    }
   ],
   "source": [
    "df.churnLinear.plot.box()"
   ]
  },
  {
   "cell_type": "markdown",
   "metadata": {},
   "source": [
    "### Dataset do CDNOW"
   ]
  },
  {
   "cell_type": "code",
   "execution_count": 8,
   "metadata": {
    "scrolled": true
   },
   "outputs": [
    {
     "data": {
      "text/html": [
       "<div>\n",
       "<style scoped>\n",
       "    .dataframe tbody tr th:only-of-type {\n",
       "        vertical-align: middle;\n",
       "    }\n",
       "\n",
       "    .dataframe tbody tr th {\n",
       "        vertical-align: top;\n",
       "    }\n",
       "\n",
       "    .dataframe thead th {\n",
       "        text-align: right;\n",
       "    }\n",
       "</style>\n",
       "<table border=\"1\" class=\"dataframe\">\n",
       "  <thead>\n",
       "    <tr style=\"text-align: right;\">\n",
       "      <th></th>\n",
       "      <th>id</th>\n",
       "      <th>churnLinear</th>\n",
       "      <th>churnExponencial_2</th>\n",
       "      <th>churnExponencial_e</th>\n",
       "      <th>churnRecente</th>\n",
       "    </tr>\n",
       "  </thead>\n",
       "  <tbody>\n",
       "    <tr>\n",
       "      <th>0</th>\n",
       "      <td>2</td>\n",
       "      <td>1.000000</td>\n",
       "      <td>1.000000</td>\n",
       "      <td>1.000000</td>\n",
       "      <td>1.000000</td>\n",
       "    </tr>\n",
       "    <tr>\n",
       "      <th>1</th>\n",
       "      <td>3</td>\n",
       "      <td>0.801471</td>\n",
       "      <td>0.746044</td>\n",
       "      <td>0.766879</td>\n",
       "      <td>0.750000</td>\n",
       "    </tr>\n",
       "    <tr>\n",
       "      <th>2</th>\n",
       "      <td>4</td>\n",
       "      <td>0.909091</td>\n",
       "      <td>0.991695</td>\n",
       "      <td>0.998404</td>\n",
       "      <td>0.818182</td>\n",
       "    </tr>\n",
       "    <tr>\n",
       "      <th>3</th>\n",
       "      <td>5</td>\n",
       "      <td>0.699346</td>\n",
       "      <td>0.975181</td>\n",
       "      <td>0.994081</td>\n",
       "      <td>0.588235</td>\n",
       "    </tr>\n",
       "    <tr>\n",
       "      <th>4</th>\n",
       "      <td>6</td>\n",
       "      <td>1.000000</td>\n",
       "      <td>1.000000</td>\n",
       "      <td>1.000000</td>\n",
       "      <td>1.000000</td>\n",
       "    </tr>\n",
       "    <tr>\n",
       "      <th>...</th>\n",
       "      <td>...</td>\n",
       "      <td>...</td>\n",
       "      <td>...</td>\n",
       "      <td>...</td>\n",
       "      <td>...</td>\n",
       "    </tr>\n",
       "    <tr>\n",
       "      <th>23564</th>\n",
       "      <td>23566</td>\n",
       "      <td>0.992647</td>\n",
       "      <td>0.999985</td>\n",
       "      <td>1.000000</td>\n",
       "      <td>0.937500</td>\n",
       "    </tr>\n",
       "    <tr>\n",
       "      <th>23565</th>\n",
       "      <td>23567</td>\n",
       "      <td>0.992647</td>\n",
       "      <td>0.999985</td>\n",
       "      <td>1.000000</td>\n",
       "      <td>0.937500</td>\n",
       "    </tr>\n",
       "    <tr>\n",
       "      <th>23566</th>\n",
       "      <td>23568</td>\n",
       "      <td>0.977941</td>\n",
       "      <td>0.999954</td>\n",
       "      <td>0.999999</td>\n",
       "      <td>0.875000</td>\n",
       "    </tr>\n",
       "    <tr>\n",
       "      <th>23567</th>\n",
       "      <td>23569</td>\n",
       "      <td>0.992647</td>\n",
       "      <td>0.999985</td>\n",
       "      <td>1.000000</td>\n",
       "      <td>0.937500</td>\n",
       "    </tr>\n",
       "    <tr>\n",
       "      <th>23568</th>\n",
       "      <td>23570</td>\n",
       "      <td>0.992647</td>\n",
       "      <td>0.999985</td>\n",
       "      <td>1.000000</td>\n",
       "      <td>0.937500</td>\n",
       "    </tr>\n",
       "  </tbody>\n",
       "</table>\n",
       "<p>23569 rows × 5 columns</p>\n",
       "</div>"
      ],
      "text/plain": [
       "          id  churnLinear  churnExponencial_2  churnExponencial_e  \\\n",
       "0          2     1.000000            1.000000            1.000000   \n",
       "1          3     0.801471            0.746044            0.766879   \n",
       "2          4     0.909091            0.991695            0.998404   \n",
       "3          5     0.699346            0.975181            0.994081   \n",
       "4          6     1.000000            1.000000            1.000000   \n",
       "...      ...          ...                 ...                 ...   \n",
       "23564  23566     0.992647            0.999985            1.000000   \n",
       "23565  23567     0.992647            0.999985            1.000000   \n",
       "23566  23568     0.977941            0.999954            0.999999   \n",
       "23567  23569     0.992647            0.999985            1.000000   \n",
       "23568  23570     0.992647            0.999985            1.000000   \n",
       "\n",
       "       churnRecente  \n",
       "0          1.000000  \n",
       "1          0.750000  \n",
       "2          0.818182  \n",
       "3          0.588235  \n",
       "4          1.000000  \n",
       "...             ...  \n",
       "23564      0.937500  \n",
       "23565      0.937500  \n",
       "23566      0.875000  \n",
       "23567      0.937500  \n",
       "23568      0.937500  \n",
       "\n",
       "[23569 rows x 5 columns]"
      ]
     },
     "execution_count": 8,
     "metadata": {},
     "output_type": "execute_result"
    }
   ],
   "source": [
    "df2 = pd.read_csv(\"churnResultadoCDNOW.csv\")\n",
    "df2"
   ]
  },
  {
   "cell_type": "code",
   "execution_count": 9,
   "metadata": {},
   "outputs": [
    {
     "data": {
      "text/html": [
       "<div>\n",
       "<style scoped>\n",
       "    .dataframe tbody tr th:only-of-type {\n",
       "        vertical-align: middle;\n",
       "    }\n",
       "\n",
       "    .dataframe tbody tr th {\n",
       "        vertical-align: top;\n",
       "    }\n",
       "\n",
       "    .dataframe thead th {\n",
       "        text-align: right;\n",
       "    }\n",
       "</style>\n",
       "<table border=\"1\" class=\"dataframe\">\n",
       "  <thead>\n",
       "    <tr style=\"text-align: right;\">\n",
       "      <th></th>\n",
       "      <th>id</th>\n",
       "      <th>churnLinear</th>\n",
       "      <th>churnExponencial_2</th>\n",
       "      <th>churnExponencial_e</th>\n",
       "      <th>churnRecente</th>\n",
       "    </tr>\n",
       "  </thead>\n",
       "  <tbody>\n",
       "    <tr>\n",
       "      <th>count</th>\n",
       "      <td>23569.000000</td>\n",
       "      <td>23569.000000</td>\n",
       "      <td>23569.000000</td>\n",
       "      <td>2.356900e+04</td>\n",
       "      <td>23569.000000</td>\n",
       "    </tr>\n",
       "    <tr>\n",
       "      <th>mean</th>\n",
       "      <td>11786.000000</td>\n",
       "      <td>0.918762</td>\n",
       "      <td>0.933391</td>\n",
       "      <td>9.344968e-01</td>\n",
       "      <td>0.869324</td>\n",
       "    </tr>\n",
       "    <tr>\n",
       "      <th>std</th>\n",
       "      <td>6803.928583</td>\n",
       "      <td>0.146075</td>\n",
       "      <td>0.177962</td>\n",
       "      <td>1.926839e-01</td>\n",
       "      <td>0.147811</td>\n",
       "    </tr>\n",
       "    <tr>\n",
       "      <th>min</th>\n",
       "      <td>2.000000</td>\n",
       "      <td>0.000000</td>\n",
       "      <td>0.000000</td>\n",
       "      <td>-2.220446e-16</td>\n",
       "      <td>0.000000</td>\n",
       "    </tr>\n",
       "    <tr>\n",
       "      <th>25%</th>\n",
       "      <td>5894.000000</td>\n",
       "      <td>0.901099</td>\n",
       "      <td>0.992172</td>\n",
       "      <td>9.984329e-01</td>\n",
       "      <td>0.823529</td>\n",
       "    </tr>\n",
       "    <tr>\n",
       "      <th>50%</th>\n",
       "      <td>11786.000000</td>\n",
       "      <td>0.992647</td>\n",
       "      <td>0.999985</td>\n",
       "      <td>9.999998e-01</td>\n",
       "      <td>0.937500</td>\n",
       "    </tr>\n",
       "    <tr>\n",
       "      <th>75%</th>\n",
       "      <td>17678.000000</td>\n",
       "      <td>0.993464</td>\n",
       "      <td>0.999992</td>\n",
       "      <td>9.999999e-01</td>\n",
       "      <td>0.941176</td>\n",
       "    </tr>\n",
       "    <tr>\n",
       "      <th>max</th>\n",
       "      <td>23570.000000</td>\n",
       "      <td>1.000000</td>\n",
       "      <td>1.000000</td>\n",
       "      <td>1.000000e+00</td>\n",
       "      <td>1.000000</td>\n",
       "    </tr>\n",
       "  </tbody>\n",
       "</table>\n",
       "</div>"
      ],
      "text/plain": [
       "                 id   churnLinear  churnExponencial_2  churnExponencial_e  \\\n",
       "count  23569.000000  23569.000000        23569.000000        2.356900e+04   \n",
       "mean   11786.000000      0.918762            0.933391        9.344968e-01   \n",
       "std     6803.928583      0.146075            0.177962        1.926839e-01   \n",
       "min        2.000000      0.000000            0.000000       -2.220446e-16   \n",
       "25%     5894.000000      0.901099            0.992172        9.984329e-01   \n",
       "50%    11786.000000      0.992647            0.999985        9.999998e-01   \n",
       "75%    17678.000000      0.993464            0.999992        9.999999e-01   \n",
       "max    23570.000000      1.000000            1.000000        1.000000e+00   \n",
       "\n",
       "       churnRecente  \n",
       "count  23569.000000  \n",
       "mean       0.869324  \n",
       "std        0.147811  \n",
       "min        0.000000  \n",
       "25%        0.823529  \n",
       "50%        0.937500  \n",
       "75%        0.941176  \n",
       "max        1.000000  "
      ]
     },
     "execution_count": 9,
     "metadata": {},
     "output_type": "execute_result"
    }
   ],
   "source": [
    "df2.describe()"
   ]
  },
  {
   "cell_type": "code",
   "execution_count": 10,
   "metadata": {},
   "outputs": [
    {
     "data": {
      "text/plain": [
       "<Axes: >"
      ]
     },
     "execution_count": 10,
     "metadata": {},
     "output_type": "execute_result"
    },
    {
     "data": {
      "image/png": "[encoded data removed]",
      "text/plain": [
       "<Figure size 640x480 with 1 Axes>"
      ]
     },
     "metadata": {},
     "output_type": "display_data"
    }
   ],
   "source": [
    "df2.churnLinear.plot.box()"
   ]
  },
  {
   "cell_type": "code",
   "execution_count": 11,
   "metadata": {},
   "outputs": [
    {
     "data": {
      "text/plain": [
       "<Axes: >"
      ]
     },
     "execution_count": 11,
     "metadata": {},
     "output_type": "execute_result"
    },
    {
     "data": {
      "image/png": "[encoded data removed]",
      "text/plain": [
       "<Figure size 640x480 with 1 Axes>"
      ]
     },
     "metadata": {},
     "output_type": "display_data"
    }
   ],
   "source": [
    "df2.churnExponencial_2.plot.box()"
   ]
  },
  {
   "cell_type": "code",
   "execution_count": 12,
   "metadata": {},
   "outputs": [
    {
     "data": {
      "text/plain": [
       "<Axes: >"
      ]
     },
     "execution_count": 12,
     "metadata": {},
     "output_type": "execute_result"
    },
    {
     "data": {
      "image/png": "[encoded data removed]",
      "text/plain": [
       "<Figure size 640x480 with 1 Axes>"
      ]
     },
     "metadata": {},
     "output_type": "display_data"
    }
   ],
   "source": [
    "df2.churnExponencial_e.plot.box()"
   ]
  },
  {
   "cell_type": "code",
   "execution_count": 13,
   "metadata": {},
   "outputs": [
    {
     "data": {
      "text/plain": [
       "<Axes: >"
      ]
     },
     "execution_count": 13,
     "metadata": {},
     "output_type": "execute_result"
    },
    {
     "data": {
      "image/png": "[encoded data removed]",
      "text/plain": [
       "<Figure size 640x480 with 1 Axes>"
      ]
     },
     "metadata": {},
     "output_type": "display_data"
    }
   ],
   "source": [
    "df2.churnRecente.plot.box()"
   ]
  },
  {
   "cell_type": "markdown",
   "metadata": {},
   "source": [
    "### Dataset trans_clean.csv"
   ]
  },
  {
   "cell_type": "code",
   "execution_count": 14,
   "metadata": {},
   "outputs": [
    {
     "data": {
      "text/html": [
       "<div>\n",
       "<style scoped>\n",
       "    .dataframe tbody tr th:only-of-type {\n",
       "        vertical-align: middle;\n",
       "    }\n",
       "\n",
       "    .dataframe tbody tr th {\n",
       "        vertical-align: top;\n",
       "    }\n",
       "\n",
       "    .dataframe thead th {\n",
       "        text-align: right;\n",
       "    }\n",
       "</style>\n",
       "<table border=\"1\" class=\"dataframe\">\n",
       "  <thead>\n",
       "    <tr style=\"text-align: right;\">\n",
       "      <th></th>\n",
       "      <th>Unnamed: 0</th>\n",
       "      <th>id</th>\n",
       "      <th>churnLinear</th>\n",
       "      <th>churnExponencial_2</th>\n",
       "      <th>churnExponencial_e</th>\n",
       "      <th>churnRecente</th>\n",
       "    </tr>\n",
       "  </thead>\n",
       "  <tbody>\n",
       "    <tr>\n",
       "      <th>0</th>\n",
       "      <td>0</td>\n",
       "      <td>2378</td>\n",
       "      <td>0.101737</td>\n",
       "      <td>1.250006e-01</td>\n",
       "      <td>8.554822e-02</td>\n",
       "      <td>0.090323</td>\n",
       "    </tr>\n",
       "    <tr>\n",
       "      <th>1</th>\n",
       "      <td>1</td>\n",
       "      <td>576</td>\n",
       "      <td>0.052752</td>\n",
       "      <td>1.250000e-01</td>\n",
       "      <td>8.554821e-02</td>\n",
       "      <td>0.070513</td>\n",
       "    </tr>\n",
       "    <tr>\n",
       "      <th>2</th>\n",
       "      <td>2</td>\n",
       "      <td>704</td>\n",
       "      <td>0.053324</td>\n",
       "      <td>7.630140e-05</td>\n",
       "      <td>1.622171e-06</td>\n",
       "      <td>0.057692</td>\n",
       "    </tr>\n",
       "    <tr>\n",
       "      <th>3</th>\n",
       "      <td>3</td>\n",
       "      <td>3818</td>\n",
       "      <td>0.092357</td>\n",
       "      <td>6.250763e-01</td>\n",
       "      <td>7.176704e-01</td>\n",
       "      <td>0.089744</td>\n",
       "    </tr>\n",
       "    <tr>\n",
       "      <th>4</th>\n",
       "      <td>4</td>\n",
       "      <td>1972</td>\n",
       "      <td>0.130655</td>\n",
       "      <td>1.252441e-01</td>\n",
       "      <td>8.555877e-02</td>\n",
       "      <td>0.160256</td>\n",
       "    </tr>\n",
       "    <tr>\n",
       "      <th>...</th>\n",
       "      <td>...</td>\n",
       "      <td>...</td>\n",
       "      <td>...</td>\n",
       "      <td>...</td>\n",
       "      <td>...</td>\n",
       "      <td>...</td>\n",
       "    </tr>\n",
       "    <tr>\n",
       "      <th>4495</th>\n",
       "      <td>4495</td>\n",
       "      <td>124</td>\n",
       "      <td>0.005698</td>\n",
       "      <td>2.980232e-08</td>\n",
       "      <td>2.386336e-11</td>\n",
       "      <td>0.038462</td>\n",
       "    </tr>\n",
       "    <tr>\n",
       "      <th>4496</th>\n",
       "      <td>4496</td>\n",
       "      <td>3958</td>\n",
       "      <td>0.179487</td>\n",
       "      <td>5.127579e-03</td>\n",
       "      <td>6.649882e-04</td>\n",
       "      <td>0.230769</td>\n",
       "    </tr>\n",
       "    <tr>\n",
       "      <th>4497</th>\n",
       "      <td>4497</td>\n",
       "      <td>777</td>\n",
       "      <td>0.059829</td>\n",
       "      <td>2.442896e-04</td>\n",
       "      <td>1.055769e-05</td>\n",
       "      <td>0.115385</td>\n",
       "    </tr>\n",
       "    <tr>\n",
       "      <th>4498</th>\n",
       "      <td>4498</td>\n",
       "      <td>3276</td>\n",
       "      <td>0.034188</td>\n",
       "      <td>6.258488e-07</td>\n",
       "      <td>1.503089e-09</td>\n",
       "      <td>0.115385</td>\n",
       "    </tr>\n",
       "    <tr>\n",
       "      <th>4499</th>\n",
       "      <td>4499</td>\n",
       "      <td>1573</td>\n",
       "      <td>0.176638</td>\n",
       "      <td>1.253055e-01</td>\n",
       "      <td>8.556020e-02</td>\n",
       "      <td>0.230769</td>\n",
       "    </tr>\n",
       "  </tbody>\n",
       "</table>\n",
       "<p>4500 rows × 6 columns</p>\n",
       "</div>"
      ],
      "text/plain": [
       "      Unnamed: 0    id  churnLinear  churnExponencial_2  churnExponencial_e  \\\n",
       "0              0  2378     0.101737        1.250006e-01        8.554822e-02   \n",
       "1              1   576     0.052752        1.250000e-01        8.554821e-02   \n",
       "2              2   704     0.053324        7.630140e-05        1.622171e-06   \n",
       "3              3  3818     0.092357        6.250763e-01        7.176704e-01   \n",
       "4              4  1972     0.130655        1.252441e-01        8.555877e-02   \n",
       "...          ...   ...          ...                 ...                 ...   \n",
       "4495        4495   124     0.005698        2.980232e-08        2.386336e-11   \n",
       "4496        4496  3958     0.179487        5.127579e-03        6.649882e-04   \n",
       "4497        4497   777     0.059829        2.442896e-04        1.055769e-05   \n",
       "4498        4498  3276     0.034188        6.258488e-07        1.503089e-09   \n",
       "4499        4499  1573     0.176638        1.253055e-01        8.556020e-02   \n",
       "\n",
       "      churnRecente  \n",
       "0         0.090323  \n",
       "1         0.070513  \n",
       "2         0.057692  \n",
       "3         0.089744  \n",
       "4         0.160256  \n",
       "...            ...  \n",
       "4495      0.038462  \n",
       "4496      0.230769  \n",
       "4497      0.115385  \n",
       "4498      0.115385  \n",
       "4499      0.230769  \n",
       "\n",
       "[4500 rows x 6 columns]"
      ]
     },
     "execution_count": 14,
     "metadata": {},
     "output_type": "execute_result"
    }
   ],
   "source": [
    "df3 = pd.read_csv(\"churnResultadoTransR.csv\")\n",
    "df3"
   ]
  },
  {
   "cell_type": "code",
   "execution_count": 15,
   "metadata": {},
   "outputs": [
    {
     "data": {
      "text/html": [
       "<div>\n",
       "<style scoped>\n",
       "    .dataframe tbody tr th:only-of-type {\n",
       "        vertical-align: middle;\n",
       "    }\n",
       "\n",
       "    .dataframe tbody tr th {\n",
       "        vertical-align: top;\n",
       "    }\n",
       "\n",
       "    .dataframe thead th {\n",
       "        text-align: right;\n",
       "    }\n",
       "</style>\n",
       "<table border=\"1\" class=\"dataframe\">\n",
       "  <thead>\n",
       "    <tr style=\"text-align: right;\">\n",
       "      <th></th>\n",
       "      <th>Unnamed: 0</th>\n",
       "      <th>id</th>\n",
       "      <th>churnLinear</th>\n",
       "      <th>churnExponencial_2</th>\n",
       "      <th>churnExponencial_e</th>\n",
       "      <th>churnRecente</th>\n",
       "    </tr>\n",
       "  </thead>\n",
       "  <tbody>\n",
       "    <tr>\n",
       "      <th>count</th>\n",
       "      <td>4500.000000</td>\n",
       "      <td>4500.000000</td>\n",
       "      <td>4500.000000</td>\n",
       "      <td>4500.000000</td>\n",
       "      <td>4.500000e+03</td>\n",
       "      <td>4500.000000</td>\n",
       "    </tr>\n",
       "    <tr>\n",
       "      <th>mean</th>\n",
       "      <td>2249.500000</td>\n",
       "      <td>2786.067556</td>\n",
       "      <td>0.093775</td>\n",
       "      <td>0.196781</td>\n",
       "      <td>2.084891e-01</td>\n",
       "      <td>0.103867</td>\n",
       "    </tr>\n",
       "    <tr>\n",
       "      <th>std</th>\n",
       "      <td>1299.182435</td>\n",
       "      <td>2313.811984</td>\n",
       "      <td>0.093837</td>\n",
       "      <td>0.242770</td>\n",
       "      <td>2.902883e-01</td>\n",
       "      <td>0.092021</td>\n",
       "    </tr>\n",
       "    <tr>\n",
       "      <th>min</th>\n",
       "      <td>0.000000</td>\n",
       "      <td>1.000000</td>\n",
       "      <td>0.000000</td>\n",
       "      <td>0.000000</td>\n",
       "      <td>-2.220446e-16</td>\n",
       "      <td>0.000000</td>\n",
       "    </tr>\n",
       "    <tr>\n",
       "      <th>25%</th>\n",
       "      <td>1124.750000</td>\n",
       "      <td>1182.750000</td>\n",
       "      <td>0.039777</td>\n",
       "      <td>0.000015</td>\n",
       "      <td>1.933676e-07</td>\n",
       "      <td>0.047619</td>\n",
       "    </tr>\n",
       "    <tr>\n",
       "      <th>50%</th>\n",
       "      <td>2249.500000</td>\n",
       "      <td>2368.000000</td>\n",
       "      <td>0.073006</td>\n",
       "      <td>0.125015</td>\n",
       "      <td>8.554841e-02</td>\n",
       "      <td>0.080808</td>\n",
       "    </tr>\n",
       "    <tr>\n",
       "      <th>75%</th>\n",
       "      <td>3374.250000</td>\n",
       "      <td>3552.250000</td>\n",
       "      <td>0.119058</td>\n",
       "      <td>0.500000</td>\n",
       "      <td>6.321206e-01</td>\n",
       "      <td>0.132984</td>\n",
       "    </tr>\n",
       "    <tr>\n",
       "      <th>max</th>\n",
       "      <td>4499.000000</td>\n",
       "      <td>11382.000000</td>\n",
       "      <td>0.938816</td>\n",
       "      <td>1.000000</td>\n",
       "      <td>1.000000e+00</td>\n",
       "      <td>0.854839</td>\n",
       "    </tr>\n",
       "  </tbody>\n",
       "</table>\n",
       "</div>"
      ],
      "text/plain": [
       "        Unnamed: 0            id  churnLinear  churnExponencial_2  \\\n",
       "count  4500.000000   4500.000000  4500.000000         4500.000000   \n",
       "mean   2249.500000   2786.067556     0.093775            0.196781   \n",
       "std    1299.182435   2313.811984     0.093837            0.242770   \n",
       "min       0.000000      1.000000     0.000000            0.000000   \n",
       "25%    1124.750000   1182.750000     0.039777            0.000015   \n",
       "50%    2249.500000   2368.000000     0.073006            0.125015   \n",
       "75%    3374.250000   3552.250000     0.119058            0.500000   \n",
       "max    4499.000000  11382.000000     0.938816            1.000000   \n",
       "\n",
       "       churnExponencial_e  churnRecente  \n",
       "count        4.500000e+03   4500.000000  \n",
       "mean         2.084891e-01      0.103867  \n",
       "std          2.902883e-01      0.092021  \n",
       "min         -2.220446e-16      0.000000  \n",
       "25%          1.933676e-07      0.047619  \n",
       "50%          8.554841e-02      0.080808  \n",
       "75%          6.321206e-01      0.132984  \n",
       "max          1.000000e+00      0.854839  "
      ]
     },
     "execution_count": 15,
     "metadata": {},
     "output_type": "execute_result"
    }
   ],
   "source": [
    "df3.describe()"
   ]
  },
  {
   "cell_type": "code",
   "execution_count": 16,
   "metadata": {},
   "outputs": [
    {
     "data": {
      "text/plain": [
       "<Axes: >"
      ]
     },
     "execution_count": 16,
     "metadata": {},
     "output_type": "execute_result"
    },
    {
     "data": {
      "image/png": "[encoded data removed]",
      "text/plain": [
       "<Figure size 640x480 with 1 Axes>"
      ]
     },
     "metadata": {},
     "output_type": "display_data"
    }
   ],
   "source": [
    "df3.churnRecente.plot.box()"
   ]
  },
  {
   "cell_type": "code",
   "execution_count": 17,
   "metadata": {},
   "outputs": [
    {
     "data": {
      "text/plain": [
       "<Axes: >"
      ]
     },
     "execution_count": 17,
     "metadata": {},
     "output_type": "execute_result"
    },
    {
     "data": {
      "image/png": "[encoded data removed]",
      "text/plain": [
       "<Figure size 640x480 with 1 Axes>"
      ]
     },
     "metadata": {},
     "output_type": "display_data"
    }
   ],
   "source": [
    "df3.churnExponencial_2.plot.box()"
   ]
  },
  {
   "cell_type": "code",
   "execution_count": 18,
   "metadata": {},
   "outputs": [
    {
     "data": {
      "text/plain": [
       "<Axes: >"
      ]
     },
     "execution_count": 18,
     "metadata": {},
     "output_type": "execute_result"
    },
    {
     "data": {
      "image/png": "[encoded data removed]",
      "text/plain": [
       "<Figure size 640x480 with 1 Axes>"
      ]
     },
     "metadata": {},
     "output_type": "display_data"
    }
   ],
   "source": [
    "df3.churnExponencial_e.plot.box()"
   ]
  },
  {
   "cell_type": "code",
   "execution_count": 19,
   "metadata": {},
   "outputs": [
    {
     "data": {
      "text/plain": [
       "<Axes: >"
      ]
     },
     "execution_count": 19,
     "metadata": {},
     "output_type": "execute_result"
    },
    {
     "data": {
      "image/png": "[encoded data removed]",
      "text/plain": [
       "<Figure size 640x480 with 1 Axes>"
      ]
     },
     "metadata": {},
     "output_type": "display_data"
    }
   ],
   "source": [
    "df3.churnLinear.plot.box()"
   ]
  }
 ],
 "metadata": {
  "kernelspec": {
   "display_name": "Python 3 (ipykernel)",
   "language": "python",
   "name": "python3"
  },
  "language_info": {
   "codemirror_mode": {
    "name": "ipython",
    "version": 3
   },
   "file_extension": ".py",
   "mimetype": "text/x-python",
   "name": "python",
   "nbconvert_exporter": "python",
   "pygments_lexer": "ipython3",
   "version": "3.8.10"
  },
  "widgets": {
   "application/vnd.jupyter.widget-state+json": {
    "state": {},
    "version_major": 2,
    "version_minor": 0
   }
  }
 },
 "nbformat": 4,
 "nbformat_minor": 4
}
