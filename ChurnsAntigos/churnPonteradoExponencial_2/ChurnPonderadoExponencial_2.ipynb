{
 "cells": [
  {
   "cell_type": "markdown",
   "id": "0cc30272",
   "metadata": {},
   "source": [
    "# Cálculo de Churn Ponderado Exponencial com base 2:"
   ]
  },
  {
   "cell_type": "markdown",
   "id": "92bb140e",
   "metadata": {},
   "source": [
    "### Importar bibliotecas:\n"
   ]
  },
  {
   "cell_type": "code",
   "execution_count": 1,
   "id": "43180b3c",
   "metadata": {},
   "outputs": [],
   "source": [
    "import pandas as pd\n",
    "import numpy as np\n",
    "import csv\n",
    "from datetime import datetime"
   ]
  },
  {
   "cell_type": "markdown",
   "id": "217e389d",
   "metadata": {},
   "source": [
    "### Ler dataframe:"
   ]
  },
  {
   "cell_type": "code",
   "execution_count": 2,
   "id": "422fb4c4",
   "metadata": {},
   "outputs": [
    {
     "name": "stdout",
     "output_type": "stream",
     "text": [
      "       id_cliente  char_date  categoria  valor\n",
      "0               1   19970101          1  11.77\n",
      "1               2   19970112          1  12.00\n",
      "2               2   19970112          5  77.00\n",
      "3               3   19970102          2  20.76\n",
      "4               3   19970330          2  20.76\n",
      "...           ...        ...        ...    ...\n",
      "69654       23568   19970405          4  83.74\n",
      "69655       23568   19970422          1  14.99\n",
      "69656       23569   19970325          2  25.74\n",
      "69657       23570   19970325          3  51.12\n",
      "69658       23570   19970326          2  42.96\n",
      "\n",
      "[69659 rows x 4 columns]\n"
     ]
    }
   ],
   "source": [
    "arquivo = \"CDNOW_master.txt\"\n",
    "nomes_colunas = [\"id_cliente\", \"char_date\", \"categoria\", \"valor\"]\n",
    "cdf = pd.read_csv(arquivo, sep=\"\\s+\", names=nomes_colunas)\n",
    "print(cdf)"
   ]
  },
  {
   "cell_type": "markdown",
   "id": "8d59aac7",
   "metadata": {},
   "source": [
    "### Definir Tipos:"
   ]
  },
  {
   "cell_type": "code",
   "execution_count": 3,
   "id": "0816176f",
   "metadata": {},
   "outputs": [
    {
     "name": "stdout",
     "output_type": "stream",
     "text": [
      "       id_cliente   char_date       date\n",
      "0               1  1997-01-01 1997-01-01\n",
      "1               2  1997-01-12 1997-01-12\n",
      "2               2  1997-01-12 1997-01-12\n",
      "3               3  1997-01-02 1997-01-02\n",
      "4               3  1997-03-30 1997-03-30\n",
      "...           ...         ...        ...\n",
      "69654       23568  1997-04-05 1997-04-05\n",
      "69655       23568  1997-04-22 1997-04-22\n",
      "69656       23569  1997-03-25 1997-03-25\n",
      "69657       23570  1997-03-25 1997-03-25\n",
      "69658       23570  1997-03-26 1997-03-26\n",
      "\n",
      "[69659 rows x 3 columns]\n"
     ]
    }
   ],
   "source": [
    "cdf.drop(['categoria','valor'], axis=1, inplace=True)\n",
    "cdf['char_date'] = cdf[\"char_date\"].astype(str)\n",
    "cdf[\"date\"] = pd.to_datetime(cdf[\"char_date\"], format=\"%Y%m%d\")\n",
    "cdf[\"char_date\"] = cdf[\"date\"].dt.strftime(\"%Y-%m-%d\")\n",
    "print(cdf)"
   ]
  },
  {
   "cell_type": "markdown",
   "id": "ae3a97a1",
   "metadata": {},
   "source": [
    "### Declarar constantes:"
   ]
  },
  {
   "cell_type": "code",
   "execution_count": 4,
   "id": "9b1bc4f6",
   "metadata": {},
   "outputs": [],
   "source": [
    "total_periodos = 9\n",
    "total_customer = len(cdf[\"id_cliente\"].unique())"
   ]
  },
  {
   "cell_type": "markdown",
   "id": "d09dfdbc",
   "metadata": {},
   "source": [
    "### Definir intervalo de tempo de análise:"
   ]
  },
  {
   "cell_type": "code",
   "execution_count": 5,
   "id": "b9cb81e8",
   "metadata": {},
   "outputs": [
    {
     "name": "stdout",
     "output_type": "stream",
     "text": [
      "DatetimeIndex(['1997-01-01 00:00:00', '1997-03-10 03:00:00',\n",
      "               '1997-05-17 06:00:00', '1997-07-24 09:00:00',\n",
      "               '1997-09-30 12:00:00', '1997-12-07 15:00:00',\n",
      "               '1998-02-13 18:00:00', '1998-04-22 21:00:00',\n",
      "               '1998-07-01 00:00:00'],\n",
      "              dtype='datetime64[ns]', freq=None)\n"
     ]
    }
   ],
   "source": [
    "dates_vector = pd.date_range(start=min(cdf[\"date\"]), end=max(cdf[\"date\"]), periods=total_periodos)\n",
    "last_date = dates_vector[-1]\n",
    "last_date = last_date + pd.DateOffset(days=1)\n",
    "dates_vector = dates_vector[:-1].append(pd.DatetimeIndex([last_date]))\n",
    "print(dates_vector)"
   ]
  },
  {
   "cell_type": "markdown",
   "id": "fbb7836c",
   "metadata": {},
   "source": [
    "### Definir a matriz de clientes por período:"
   ]
  },
  {
   "cell_type": "code",
   "execution_count": 6,
   "id": "ccb5cbca",
   "metadata": {},
   "outputs": [
    {
     "name": "stdout",
     "output_type": "stream",
     "text": [
      "[[0. 0. 0. 0. 0. 0. 0. 0.]\n",
      " [0. 0. 0. 0. 0. 0. 0. 0.]\n",
      " [0. 0. 0. 0. 0. 0. 0. 0.]\n",
      " [0. 0. 0. 0. 0. 0. 0. 0.]\n",
      " [0. 0. 0. 0. 0. 0. 0. 0.]]\n"
     ]
    }
   ],
   "source": [
    "mat_id_churn = np.zeros((total_customer, len(dates_vector)-1))\n",
    "print(mat_id_churn[:5])"
   ]
  },
  {
   "cell_type": "code",
   "execution_count": 7,
   "id": "ab4906ef",
   "metadata": {},
   "outputs": [
    {
     "name": "stdout",
     "output_type": "stream",
     "text": [
      "510\n",
      "[[  2.   0.   0.   0.   0.   0.   0.   0.]\n",
      " [  2.   0.   0.   0.   0.   0.   0.   0.]\n",
      " [  2.   4.   0.   0.  32.   0.   0. 256.]\n",
      " [  2.   0.   0.  16.   0.  64.   0.   0.]\n",
      " [  2.   4.   8.  16.   0.  64.   0.   0.]]\n"
     ]
    }
   ],
   "source": [
    "valor_media = 0\n",
    "for i in range(len(dates_vector)-1):\n",
    "    valor_media += 2**(i+1)\n",
    "    for j in range(len(cdf['id_cliente'])):\n",
    "        if ((dates_vector[i] <= cdf.loc[j,'date']) and (cdf.loc[j,'date'] < dates_vector[i+1])):\n",
    "            mat_id_churn[cdf.loc[j, 'id_cliente']-1,i] = 2**(i+1)\n",
    "print(valor_media)\n",
    "print(mat_id_churn[:5])"
   ]
  },
  {
   "cell_type": "markdown",
   "id": "325709fb",
   "metadata": {},
   "source": [
    "### Transformar a matriz em um dataframe:"
   ]
  },
  {
   "cell_type": "code",
   "execution_count": 8,
   "id": "f7459e37",
   "metadata": {},
   "outputs": [
    {
     "name": "stdout",
     "output_type": "stream",
     "text": [
      "   1997-01-01 00:00:00  1997-03-10 03:00:00  1997-05-17 06:00:00  \\\n",
      "0                  2.0                  0.0                  0.0   \n",
      "1                  2.0                  0.0                  0.0   \n",
      "2                  2.0                  4.0                  0.0   \n",
      "3                  2.0                  0.0                  0.0   \n",
      "4                  2.0                  4.0                  8.0   \n",
      "5                  2.0                  0.0                  0.0   \n",
      "\n",
      "   1997-07-24 09:00:00  1997-09-30 12:00:00  1997-12-07 15:00:00  \\\n",
      "0                  0.0                  0.0                  0.0   \n",
      "1                  0.0                  0.0                  0.0   \n",
      "2                  0.0                 32.0                  0.0   \n",
      "3                 16.0                  0.0                 64.0   \n",
      "4                 16.0                  0.0                 64.0   \n",
      "5                  0.0                  0.0                  0.0   \n",
      "\n",
      "   1998-02-13 18:00:00  1998-04-22 21:00:00  \n",
      "0                  0.0                  0.0  \n",
      "1                  0.0                  0.0  \n",
      "2                  0.0                256.0  \n",
      "3                  0.0                  0.0  \n",
      "4                  0.0                  0.0  \n",
      "5                  0.0                  0.0  \n"
     ]
    }
   ],
   "source": [
    "df_id_churn = pd.DataFrame(mat_id_churn)\n",
    "df_id_churn.columns = dates_vector[:-1].astype(str)\n",
    "print(df_id_churn.loc[:5])"
   ]
  },
  {
   "cell_type": "markdown",
   "id": "0602cc5d",
   "metadata": {},
   "source": [
    "### Definir o dataframe final do churn:"
   ]
  },
  {
   "cell_type": "code",
   "execution_count": 9,
   "id": "58e6f65e",
   "metadata": {},
   "outputs": [
    {
     "name": "stdout",
     "output_type": "stream",
     "text": [
      "          id     churn\n",
      "0          1  0.996078\n",
      "1          2  0.996078\n",
      "2          3  0.423529\n",
      "3          4  0.839216\n",
      "4          5  0.815686\n",
      "...      ...       ...\n",
      "23565  23566  0.992157\n",
      "23566  23567  0.992157\n",
      "23567  23568  0.992157\n",
      "23568  23569  0.992157\n",
      "23569  23570  0.992157\n",
      "\n",
      "[23570 rows x 2 columns]\n"
     ]
    }
   ],
   "source": [
    "churn = 1 - (df_id_churn.sum(axis=1) / valor_media)\n",
    "churn = pd.DataFrame(churn)\n",
    "churn.insert(0,'id',cdf['id_cliente'].unique().astype(str))\n",
    "churn.rename(columns={0: 'churn'}, inplace=True)\n",
    "print(churn)"
   ]
  },
  {
   "cell_type": "markdown",
   "id": "11095789",
   "metadata": {},
   "source": [
    "### Salvando o dataframe em um arquivo:"
   ]
  },
  {
   "cell_type": "code",
   "execution_count": 10,
   "id": "fd164d9c",
   "metadata": {},
   "outputs": [],
   "source": [
    "churn.to_csv('calculoChurnPonderadoExponencial_2.txt', index=False, header=True, quoting=csv.QUOTE_NONNUMERIC)"
   ]
  }
 ],
 "metadata": {
  "kernelspec": {
   "display_name": "Python 3 (ipykernel)",
   "language": "python",
   "name": "python3"
  },
  "language_info": {
   "codemirror_mode": {
    "name": "ipython",
    "version": 3
   },
   "file_extension": ".py",
   "mimetype": "text/x-python",
   "name": "python",
   "nbconvert_exporter": "python",
   "pygments_lexer": "ipython3",
   "version": "3.8.10"
  }
 },
 "nbformat": 4,
 "nbformat_minor": 5
}
